{
 "cells": [
  {
   "cell_type": "code",
   "execution_count": 4,
   "metadata": {},
   "outputs": [
    {
     "name": "stdout",
     "output_type": "stream",
     "text": [
      "links\n",
      "ratings\n",
      "movies\n",
      "tags\n"
     ]
    }
   ],
   "source": [
    "from flask import Flask\n",
    "from flask_sqlalchemy import SQLAlchemy\n",
    "from sqlalchemy import create_engine\n",
    "import os\n",
    "import pandas as pd\n",
    "\n",
    "app = Flask(__name__)\n",
    "\n",
    "engine = create_engine('sqlite:///recommender2.db', echo=False)\n",
    "\n",
    "for f in os.listdir('data/movies/ml-latest-small'):\n",
    "    if f[-4:] == '.csv':\n",
    "        data = pd.read_csv(f'data/movies/ml-latest-small/{f}')\n",
    "        data.to_sql(f[:-4], engine)\n",
    "        print(f[0:-4])"
   ]
  },
  {
   "cell_type": "code",
   "execution_count": 5,
   "metadata": {},
   "outputs": [],
   "source": [
    "watched_movie_id_list = ['70286', '109487', '589']"
   ]
  },
  {
   "cell_type": "code",
   "execution_count": 3,
   "metadata": {},
   "outputs": [],
   "source": [
    "movie_id_unique = 'SELECT * FROM movies'\n",
    "all_movies = pd.read_sql(movie_id_unique, engine)"
   ]
  },
  {
   "cell_type": "code",
   "execution_count": 4,
   "metadata": {},
   "outputs": [
    {
     "data": {
      "text/html": [
       "<div>\n",
       "<style scoped>\n",
       "    .dataframe tbody tr th:only-of-type {\n",
       "        vertical-align: middle;\n",
       "    }\n",
       "\n",
       "    .dataframe tbody tr th {\n",
       "        vertical-align: top;\n",
       "    }\n",
       "\n",
       "    .dataframe thead th {\n",
       "        text-align: right;\n",
       "    }\n",
       "</style>\n",
       "<table border=\"1\" class=\"dataframe\">\n",
       "  <thead>\n",
       "    <tr style=\"text-align: right;\">\n",
       "      <th></th>\n",
       "      <th>index</th>\n",
       "      <th>movieId</th>\n",
       "      <th>title</th>\n",
       "      <th>genres</th>\n",
       "    </tr>\n",
       "  </thead>\n",
       "  <tbody>\n",
       "    <tr>\n",
       "      <th>0</th>\n",
       "      <td>0</td>\n",
       "      <td>1</td>\n",
       "      <td>Toy Story (1995)</td>\n",
       "      <td>Adventure|Animation|Children|Comedy|Fantasy</td>\n",
       "    </tr>\n",
       "    <tr>\n",
       "      <th>1</th>\n",
       "      <td>1</td>\n",
       "      <td>2</td>\n",
       "      <td>Jumanji (1995)</td>\n",
       "      <td>Adventure|Children|Fantasy</td>\n",
       "    </tr>\n",
       "    <tr>\n",
       "      <th>2</th>\n",
       "      <td>2</td>\n",
       "      <td>3</td>\n",
       "      <td>Grumpier Old Men (1995)</td>\n",
       "      <td>Comedy|Romance</td>\n",
       "    </tr>\n",
       "    <tr>\n",
       "      <th>3</th>\n",
       "      <td>3</td>\n",
       "      <td>4</td>\n",
       "      <td>Waiting to Exhale (1995)</td>\n",
       "      <td>Comedy|Drama|Romance</td>\n",
       "    </tr>\n",
       "    <tr>\n",
       "      <th>4</th>\n",
       "      <td>4</td>\n",
       "      <td>5</td>\n",
       "      <td>Father of the Bride Part II (1995)</td>\n",
       "      <td>Comedy</td>\n",
       "    </tr>\n",
       "    <tr>\n",
       "      <th>...</th>\n",
       "      <td>...</td>\n",
       "      <td>...</td>\n",
       "      <td>...</td>\n",
       "      <td>...</td>\n",
       "    </tr>\n",
       "    <tr>\n",
       "      <th>9737</th>\n",
       "      <td>9737</td>\n",
       "      <td>193581</td>\n",
       "      <td>Black Butler: Book of the Atlantic (2017)</td>\n",
       "      <td>Action|Animation|Comedy|Fantasy</td>\n",
       "    </tr>\n",
       "    <tr>\n",
       "      <th>9738</th>\n",
       "      <td>9738</td>\n",
       "      <td>193583</td>\n",
       "      <td>No Game No Life: Zero (2017)</td>\n",
       "      <td>Animation|Comedy|Fantasy</td>\n",
       "    </tr>\n",
       "    <tr>\n",
       "      <th>9739</th>\n",
       "      <td>9739</td>\n",
       "      <td>193585</td>\n",
       "      <td>Flint (2017)</td>\n",
       "      <td>Drama</td>\n",
       "    </tr>\n",
       "    <tr>\n",
       "      <th>9740</th>\n",
       "      <td>9740</td>\n",
       "      <td>193587</td>\n",
       "      <td>Bungo Stray Dogs: Dead Apple (2018)</td>\n",
       "      <td>Action|Animation</td>\n",
       "    </tr>\n",
       "    <tr>\n",
       "      <th>9741</th>\n",
       "      <td>9741</td>\n",
       "      <td>193609</td>\n",
       "      <td>Andrew Dice Clay: Dice Rules (1991)</td>\n",
       "      <td>Comedy</td>\n",
       "    </tr>\n",
       "  </tbody>\n",
       "</table>\n",
       "<p>9742 rows × 4 columns</p>\n",
       "</div>"
      ],
      "text/plain": [
       "      index  movieId                                      title  \\\n",
       "0         0        1                           Toy Story (1995)   \n",
       "1         1        2                             Jumanji (1995)   \n",
       "2         2        3                    Grumpier Old Men (1995)   \n",
       "3         3        4                   Waiting to Exhale (1995)   \n",
       "4         4        5         Father of the Bride Part II (1995)   \n",
       "...     ...      ...                                        ...   \n",
       "9737   9737   193581  Black Butler: Book of the Atlantic (2017)   \n",
       "9738   9738   193583               No Game No Life: Zero (2017)   \n",
       "9739   9739   193585                               Flint (2017)   \n",
       "9740   9740   193587        Bungo Stray Dogs: Dead Apple (2018)   \n",
       "9741   9741   193609        Andrew Dice Clay: Dice Rules (1991)   \n",
       "\n",
       "                                           genres  \n",
       "0     Adventure|Animation|Children|Comedy|Fantasy  \n",
       "1                      Adventure|Children|Fantasy  \n",
       "2                                  Comedy|Romance  \n",
       "3                            Comedy|Drama|Romance  \n",
       "4                                          Comedy  \n",
       "...                                           ...  \n",
       "9737              Action|Animation|Comedy|Fantasy  \n",
       "9738                     Animation|Comedy|Fantasy  \n",
       "9739                                        Drama  \n",
       "9740                             Action|Animation  \n",
       "9741                                       Comedy  \n",
       "\n",
       "[9742 rows x 4 columns]"
      ]
     },
     "execution_count": 4,
     "metadata": {},
     "output_type": "execute_result"
    }
   ],
   "source": [
    "all_movies"
   ]
  },
  {
   "cell_type": "code",
   "execution_count": 7,
   "metadata": {},
   "outputs": [
    {
     "data": {
      "text/html": [
       "<div>\n",
       "<style scoped>\n",
       "    .dataframe tbody tr th:only-of-type {\n",
       "        vertical-align: middle;\n",
       "    }\n",
       "\n",
       "    .dataframe tbody tr th {\n",
       "        vertical-align: top;\n",
       "    }\n",
       "\n",
       "    .dataframe thead th {\n",
       "        text-align: right;\n",
       "    }\n",
       "</style>\n",
       "<table border=\"1\" class=\"dataframe\">\n",
       "  <thead>\n",
       "    <tr style=\"text-align: right;\">\n",
       "      <th></th>\n",
       "      <th>index</th>\n",
       "      <th>movieId</th>\n",
       "      <th>title</th>\n",
       "      <th>genres</th>\n",
       "    </tr>\n",
       "  </thead>\n",
       "  <tbody>\n",
       "    <tr>\n",
       "      <th>45</th>\n",
       "      <td>45</td>\n",
       "      <td>49</td>\n",
       "      <td>When Night Is Falling (1995)</td>\n",
       "      <td>Drama|Romance</td>\n",
       "    </tr>\n",
       "    <tr>\n",
       "      <th>46</th>\n",
       "      <td>46</td>\n",
       "      <td>50</td>\n",
       "      <td>Usual Suspects, The (1995)</td>\n",
       "      <td>Crime|Mystery|Thriller</td>\n",
       "    </tr>\n",
       "    <tr>\n",
       "      <th>47</th>\n",
       "      <td>47</td>\n",
       "      <td>52</td>\n",
       "      <td>Mighty Aphrodite (1995)</td>\n",
       "      <td>Comedy|Drama|Romance</td>\n",
       "    </tr>\n",
       "    <tr>\n",
       "      <th>48</th>\n",
       "      <td>48</td>\n",
       "      <td>53</td>\n",
       "      <td>Lamerica (1994)</td>\n",
       "      <td>Adventure|Drama</td>\n",
       "    </tr>\n",
       "    <tr>\n",
       "      <th>49</th>\n",
       "      <td>49</td>\n",
       "      <td>54</td>\n",
       "      <td>Big Green, The (1995)</td>\n",
       "      <td>Children|Comedy</td>\n",
       "    </tr>\n",
       "    <tr>\n",
       "      <th>50</th>\n",
       "      <td>50</td>\n",
       "      <td>55</td>\n",
       "      <td>Georgia (1995)</td>\n",
       "      <td>Drama</td>\n",
       "    </tr>\n",
       "    <tr>\n",
       "      <th>51</th>\n",
       "      <td>51</td>\n",
       "      <td>57</td>\n",
       "      <td>Home for the Holidays (1995)</td>\n",
       "      <td>Drama</td>\n",
       "    </tr>\n",
       "    <tr>\n",
       "      <th>52</th>\n",
       "      <td>52</td>\n",
       "      <td>58</td>\n",
       "      <td>Postman, The (Postino, Il) (1994)</td>\n",
       "      <td>Comedy|Drama|Romance</td>\n",
       "    </tr>\n",
       "    <tr>\n",
       "      <th>53</th>\n",
       "      <td>53</td>\n",
       "      <td>60</td>\n",
       "      <td>Indian in the Cupboard, The (1995)</td>\n",
       "      <td>Adventure|Children|Fantasy</td>\n",
       "    </tr>\n",
       "    <tr>\n",
       "      <th>54</th>\n",
       "      <td>54</td>\n",
       "      <td>61</td>\n",
       "      <td>Eye for an Eye (1996)</td>\n",
       "      <td>Drama|Thriller</td>\n",
       "    </tr>\n",
       "    <tr>\n",
       "      <th>55</th>\n",
       "      <td>55</td>\n",
       "      <td>62</td>\n",
       "      <td>Mr. Holland's Opus (1995)</td>\n",
       "      <td>Drama</td>\n",
       "    </tr>\n",
       "    <tr>\n",
       "      <th>56</th>\n",
       "      <td>56</td>\n",
       "      <td>63</td>\n",
       "      <td>Don't Be a Menace to South Central While Drink...</td>\n",
       "      <td>Comedy|Crime</td>\n",
       "    </tr>\n",
       "    <tr>\n",
       "      <th>57</th>\n",
       "      <td>57</td>\n",
       "      <td>64</td>\n",
       "      <td>Two if by Sea (1996)</td>\n",
       "      <td>Comedy|Romance</td>\n",
       "    </tr>\n",
       "    <tr>\n",
       "      <th>58</th>\n",
       "      <td>58</td>\n",
       "      <td>65</td>\n",
       "      <td>Bio-Dome (1996)</td>\n",
       "      <td>Comedy</td>\n",
       "    </tr>\n",
       "    <tr>\n",
       "      <th>59</th>\n",
       "      <td>59</td>\n",
       "      <td>66</td>\n",
       "      <td>Lawnmower Man 2: Beyond Cyberspace (1996)</td>\n",
       "      <td>Action|Sci-Fi|Thriller</td>\n",
       "    </tr>\n",
       "  </tbody>\n",
       "</table>\n",
       "</div>"
      ],
      "text/plain": [
       "    index  movieId                                              title  \\\n",
       "45     45       49                       When Night Is Falling (1995)   \n",
       "46     46       50                         Usual Suspects, The (1995)   \n",
       "47     47       52                            Mighty Aphrodite (1995)   \n",
       "48     48       53                                    Lamerica (1994)   \n",
       "49     49       54                              Big Green, The (1995)   \n",
       "50     50       55                                     Georgia (1995)   \n",
       "51     51       57                       Home for the Holidays (1995)   \n",
       "52     52       58                  Postman, The (Postino, Il) (1994)   \n",
       "53     53       60                 Indian in the Cupboard, The (1995)   \n",
       "54     54       61                              Eye for an Eye (1996)   \n",
       "55     55       62                          Mr. Holland's Opus (1995)   \n",
       "56     56       63  Don't Be a Menace to South Central While Drink...   \n",
       "57     57       64                               Two if by Sea (1996)   \n",
       "58     58       65                                    Bio-Dome (1996)   \n",
       "59     59       66          Lawnmower Man 2: Beyond Cyberspace (1996)   \n",
       "\n",
       "                        genres  \n",
       "45               Drama|Romance  \n",
       "46      Crime|Mystery|Thriller  \n",
       "47        Comedy|Drama|Romance  \n",
       "48             Adventure|Drama  \n",
       "49             Children|Comedy  \n",
       "50                       Drama  \n",
       "51                       Drama  \n",
       "52        Comedy|Drama|Romance  \n",
       "53  Adventure|Children|Fantasy  \n",
       "54              Drama|Thriller  \n",
       "55                       Drama  \n",
       "56                Comedy|Crime  \n",
       "57              Comedy|Romance  \n",
       "58                      Comedy  \n",
       "59      Action|Sci-Fi|Thriller  "
      ]
     },
     "execution_count": 7,
     "metadata": {},
     "output_type": "execute_result"
    }
   ],
   "source": [
    "all_movies[45:60]"
   ]
  },
  {
   "cell_type": "code",
   "execution_count": 5,
   "metadata": {},
   "outputs": [
    {
     "data": {
      "text/html": [
       "<div>\n",
       "<style scoped>\n",
       "    .dataframe tbody tr th:only-of-type {\n",
       "        vertical-align: middle;\n",
       "    }\n",
       "\n",
       "    .dataframe tbody tr th {\n",
       "        vertical-align: top;\n",
       "    }\n",
       "\n",
       "    .dataframe thead th {\n",
       "        text-align: right;\n",
       "    }\n",
       "</style>\n",
       "<table border=\"1\" class=\"dataframe\">\n",
       "  <thead>\n",
       "    <tr style=\"text-align: right;\">\n",
       "      <th></th>\n",
       "      <th>userId</th>\n",
       "      <th>movieId</th>\n",
       "      <th>title</th>\n",
       "      <th>rating</th>\n",
       "    </tr>\n",
       "  </thead>\n",
       "  <tbody>\n",
       "    <tr>\n",
       "      <th>0</th>\n",
       "      <td>1</td>\n",
       "      <td>1</td>\n",
       "      <td>Toy Story (1995)</td>\n",
       "      <td>4.0</td>\n",
       "    </tr>\n",
       "    <tr>\n",
       "      <th>1</th>\n",
       "      <td>1</td>\n",
       "      <td>3</td>\n",
       "      <td>Grumpier Old Men (1995)</td>\n",
       "      <td>4.0</td>\n",
       "    </tr>\n",
       "    <tr>\n",
       "      <th>2</th>\n",
       "      <td>1</td>\n",
       "      <td>6</td>\n",
       "      <td>Heat (1995)</td>\n",
       "      <td>4.0</td>\n",
       "    </tr>\n",
       "    <tr>\n",
       "      <th>3</th>\n",
       "      <td>1</td>\n",
       "      <td>47</td>\n",
       "      <td>Seven (a.k.a. Se7en) (1995)</td>\n",
       "      <td>5.0</td>\n",
       "    </tr>\n",
       "    <tr>\n",
       "      <th>4</th>\n",
       "      <td>1</td>\n",
       "      <td>50</td>\n",
       "      <td>Usual Suspects, The (1995)</td>\n",
       "      <td>5.0</td>\n",
       "    </tr>\n",
       "    <tr>\n",
       "      <th>...</th>\n",
       "      <td>...</td>\n",
       "      <td>...</td>\n",
       "      <td>...</td>\n",
       "      <td>...</td>\n",
       "    </tr>\n",
       "    <tr>\n",
       "      <th>100831</th>\n",
       "      <td>610</td>\n",
       "      <td>166534</td>\n",
       "      <td>Split (2017)</td>\n",
       "      <td>4.0</td>\n",
       "    </tr>\n",
       "    <tr>\n",
       "      <th>100832</th>\n",
       "      <td>610</td>\n",
       "      <td>168248</td>\n",
       "      <td>John Wick: Chapter Two (2017)</td>\n",
       "      <td>5.0</td>\n",
       "    </tr>\n",
       "    <tr>\n",
       "      <th>100833</th>\n",
       "      <td>610</td>\n",
       "      <td>168250</td>\n",
       "      <td>Get Out (2017)</td>\n",
       "      <td>5.0</td>\n",
       "    </tr>\n",
       "    <tr>\n",
       "      <th>100834</th>\n",
       "      <td>610</td>\n",
       "      <td>168252</td>\n",
       "      <td>Logan (2017)</td>\n",
       "      <td>5.0</td>\n",
       "    </tr>\n",
       "    <tr>\n",
       "      <th>100835</th>\n",
       "      <td>610</td>\n",
       "      <td>170875</td>\n",
       "      <td>The Fate of the Furious (2017)</td>\n",
       "      <td>3.0</td>\n",
       "    </tr>\n",
       "  </tbody>\n",
       "</table>\n",
       "<p>100836 rows × 4 columns</p>\n",
       "</div>"
      ],
      "text/plain": [
       "        userId  movieId                           title  rating\n",
       "0            1        1                Toy Story (1995)     4.0\n",
       "1            1        3         Grumpier Old Men (1995)     4.0\n",
       "2            1        6                     Heat (1995)     4.0\n",
       "3            1       47     Seven (a.k.a. Se7en) (1995)     5.0\n",
       "4            1       50      Usual Suspects, The (1995)     5.0\n",
       "...        ...      ...                             ...     ...\n",
       "100831     610   166534                    Split (2017)     4.0\n",
       "100832     610   168248   John Wick: Chapter Two (2017)     5.0\n",
       "100833     610   168250                  Get Out (2017)     5.0\n",
       "100834     610   168252                    Logan (2017)     5.0\n",
       "100835     610   170875  The Fate of the Furious (2017)     3.0\n",
       "\n",
       "[100836 rows x 4 columns]"
      ]
     },
     "execution_count": 5,
     "metadata": {},
     "output_type": "execute_result"
    }
   ],
   "source": [
    "query = 'SELECT \"userId\", ratings.\"movieId\", movies.title, rating FROM ratings JOIN movies ON ratings.\"movieId\" = movies.\"movieId\";'\n",
    "all_ratings = pd.read_sql(query, engine)\n",
    "all_ratings"
   ]
  },
  {
   "cell_type": "code",
   "execution_count": null,
   "metadata": {},
   "outputs": [],
   "source": []
  },
  {
   "cell_type": "code",
   "execution_count": 6,
   "metadata": {},
   "outputs": [
    {
     "name": "stderr",
     "output_type": "stream",
     "text": [
      "/opt/conda/lib/python3.8/site-packages/pandas/core/indexing.py:1596: SettingWithCopyWarning: \n",
      "A value is trying to be set on a copy of a slice from a DataFrame.\n",
      "Try using .loc[row_indexer,col_indexer] = value instead\n",
      "\n",
      "See the caveats in the documentation: https://pandas.pydata.org/pandas-docs/stable/user_guide/indexing.html#returning-a-view-versus-a-copy\n",
      "  self.obj[key] = _infer_fill_value(value)\n",
      "/opt/conda/lib/python3.8/site-packages/pandas/core/indexing.py:1743: SettingWithCopyWarning: \n",
      "A value is trying to be set on a copy of a slice from a DataFrame.\n",
      "Try using .loc[row_indexer,col_indexer] = value instead\n",
      "\n",
      "See the caveats in the documentation: https://pandas.pydata.org/pandas-docs/stable/user_guide/indexing.html#returning-a-view-versus-a-copy\n",
      "  isetter(ilocs[0], value)\n"
     ]
    },
    {
     "name": "stdout",
     "output_type": "stream",
     "text": [
      "Number of users: 610, Number of Movies: 9721, Min rating: 0.5, Max rating: 5.0\n",
      "Tensor(\"recommender_net/add_1:0\", shape=(None, 1), dtype=float32)\n",
      "Tensor(\"recommender_net/add_1:0\", shape=(None, 1), dtype=float32)\n"
     ]
    },
    {
     "data": {
      "text/html": [
       "<div>\n",
       "<style scoped>\n",
       "    .dataframe tbody tr th:only-of-type {\n",
       "        vertical-align: middle;\n",
       "    }\n",
       "\n",
       "    .dataframe tbody tr th {\n",
       "        vertical-align: top;\n",
       "    }\n",
       "\n",
       "    .dataframe thead th {\n",
       "        text-align: right;\n",
       "    }\n",
       "</style>\n",
       "<table border=\"1\" class=\"dataframe\">\n",
       "  <thead>\n",
       "    <tr style=\"text-align: right;\">\n",
       "      <th></th>\n",
       "      <th>index</th>\n",
       "      <th>movieId</th>\n",
       "      <th>title</th>\n",
       "      <th>genres</th>\n",
       "      <th>fake_id</th>\n",
       "    </tr>\n",
       "  </thead>\n",
       "  <tbody>\n",
       "    <tr>\n",
       "      <th>3043</th>\n",
       "      <td>3043</td>\n",
       "      <td>4077</td>\n",
       "      <td>With a Friend Like Harry... (Harry, un ami qui...</td>\n",
       "      <td>Drama|Thriller</td>\n",
       "      <td>1</td>\n",
       "    </tr>\n",
       "    <tr>\n",
       "      <th>3070</th>\n",
       "      <td>3070</td>\n",
       "      <td>4123</td>\n",
       "      <td>Ishtar (1987)</td>\n",
       "      <td>Comedy</td>\n",
       "      <td>1</td>\n",
       "    </tr>\n",
       "    <tr>\n",
       "      <th>3947</th>\n",
       "      <td>3947</td>\n",
       "      <td>5560</td>\n",
       "      <td>À nous la liberté (Freedom for Us) (1931)</td>\n",
       "      <td>Comedy|Musical</td>\n",
       "      <td>1</td>\n",
       "    </tr>\n",
       "    <tr>\n",
       "      <th>3950</th>\n",
       "      <td>3950</td>\n",
       "      <td>5564</td>\n",
       "      <td>Swimfan (2002)</td>\n",
       "      <td>Thriller</td>\n",
       "      <td>1</td>\n",
       "    </tr>\n",
       "    <tr>\n",
       "      <th>3953</th>\n",
       "      <td>3953</td>\n",
       "      <td>5570</td>\n",
       "      <td>Thesis (Tesis) (1996)</td>\n",
       "      <td>Drama|Horror|Thriller</td>\n",
       "      <td>1</td>\n",
       "    </tr>\n",
       "    <tr>\n",
       "      <th>5268</th>\n",
       "      <td>5268</td>\n",
       "      <td>8656</td>\n",
       "      <td>Short Film About Killing, A (Krótki film o zab...</td>\n",
       "      <td>Crime|Drama</td>\n",
       "      <td>1</td>\n",
       "    </tr>\n",
       "    <tr>\n",
       "      <th>5275</th>\n",
       "      <td>5275</td>\n",
       "      <td>8685</td>\n",
       "      <td>Miracle of Marcelino, The (Marcelino pan y vin...</td>\n",
       "      <td>Comedy|Drama</td>\n",
       "      <td>1</td>\n",
       "    </tr>\n",
       "    <tr>\n",
       "      <th>8379</th>\n",
       "      <td>8379</td>\n",
       "      <td>109578</td>\n",
       "      <td>Non-Stop (2014)</td>\n",
       "      <td>Action|Mystery|Thriller</td>\n",
       "      <td>1</td>\n",
       "    </tr>\n",
       "    <tr>\n",
       "      <th>8383</th>\n",
       "      <td>8383</td>\n",
       "      <td>109687</td>\n",
       "      <td>Particle Fever (2013)</td>\n",
       "      <td>Documentary</td>\n",
       "      <td>1</td>\n",
       "    </tr>\n",
       "  </tbody>\n",
       "</table>\n",
       "</div>"
      ],
      "text/plain": [
       "      index  movieId                                              title  \\\n",
       "3043   3043     4077  With a Friend Like Harry... (Harry, un ami qui...   \n",
       "3070   3070     4123                                      Ishtar (1987)   \n",
       "3947   3947     5560          À nous la liberté (Freedom for Us) (1931)   \n",
       "3950   3950     5564                                     Swimfan (2002)   \n",
       "3953   3953     5570                              Thesis (Tesis) (1996)   \n",
       "5268   5268     8656  Short Film About Killing, A (Krótki film o zab...   \n",
       "5275   5275     8685  Miracle of Marcelino, The (Marcelino pan y vin...   \n",
       "8379   8379   109578                                    Non-Stop (2014)   \n",
       "8383   8383   109687                              Particle Fever (2013)   \n",
       "\n",
       "                       genres  fake_id  \n",
       "3043           Drama|Thriller        1  \n",
       "3070                   Comedy        1  \n",
       "3947           Comedy|Musical        1  \n",
       "3950                 Thriller        1  \n",
       "3953    Drama|Horror|Thriller        1  \n",
       "5268              Crime|Drama        1  \n",
       "5275             Comedy|Drama        1  \n",
       "8379  Action|Mystery|Thriller        1  \n",
       "8383              Documentary        1  "
      ]
     },
     "execution_count": 6,
     "metadata": {},
     "output_type": "execute_result"
    }
   ],
   "source": [
    "import numpy as np\n",
    "\n",
    "movie_id_unique = 'SELECT * FROM movies'\n",
    "all_movies = pd.read_sql(movie_id_unique, engine)\n",
    "\n",
    "#remove the input movies from all_movies\n",
    "movies_not_watched = all_movies[~all_movies['movieId'].isin(watched_movie_id_list)]\n",
    "movies_not_watched.loc[:,'fake_id'] = np.ones(len(movies_not_watched), dtype =int)\n",
    "\n",
    "#get all_ratings from sqlite\n",
    "query = 'SELECT \"userId\", ratings.\"movieId\", movies.title, rating FROM ratings JOIN movies ON ratings.\"movieId\" = movies.\"movieId\";'\n",
    "all_ratings = pd.read_sql(query, engine)\n",
    "\n",
    "#remove the watched movies from all_ratings\n",
    "not_all_ratings = all_ratings[~all_ratings['movieId'].isin(watched_movie_id_list)]\n",
    "\n",
    "#remove movieId and ratings of the watched movies???\n",
    "movieindex = not_all_ratings['movieId'].unique().tolist()\n",
    "dl_movie2movie_encoded = {x: i for i, x in enumerate(movieindex)}\n",
    "dl_movie_encoded2movie = {i: x for i, x in enumerate(movieindex)}\n",
    "\n",
    "not_all_ratings.loc[:,\"movie\"] = not_all_ratings[\"movieId\"].map(dl_movie2movie_encoded)\n",
    "not_all_ratings.loc[:,\"rating\"] = not_all_ratings[\"rating\"].values.astype(np.float32)\n",
    "\n",
    "#map userId from ?? to not_all_ratings ?? what do i do with the users??\n",
    "\n",
    "not_all_user_ids = not_all_ratings[\"userId\"].unique().tolist()\n",
    "dl_user2user_encoded = {x: i for i, x in enumerate(not_all_user_ids)}\n",
    "dl_userencoded2user = {i: x for i, x in enumerate(not_all_user_ids)}\n",
    "\n",
    "not_all_ratings.loc[:,\"user\"] = not_all_ratings[\"userId\"].map(dl_user2user_encoded)\n",
    "\n",
    "min_rating = min(not_all_ratings[\"rating\"])\n",
    "max_rating = max(not_all_ratings[\"rating\"])\n",
    "num_users = len(dl_user2user_encoded)\n",
    "num_movies = len(dl_movie_encoded2movie)\n",
    "print(\n",
    "        \"Number of users: {}, Number of Movies: {}, Min rating: {}, Max rating: {}\".format(\n",
    "            num_users, num_movies, min_rating, max_rating\n",
    "        )\n",
    "    )\n",
    "\n",
    "#define training data\n",
    "df = not_all_ratings.sample(frac=1, random_state=42)\n",
    "x = not_all_ratings[[\"user\", \"movie\"]].values\n",
    "\n",
    "    # Normalize the targets between 0 and 1. Makes it easy to train.\n",
    "y = not_all_ratings[\"rating\"].apply(lambda x: (x - min_rating) / (max_rating - min_rating)).values\n",
    "    # Assuming training on 90% of the data and validating on 10%.\n",
    "train_indices = int(0.9 * df.shape[0])\n",
    "x_train, x_val, y_train, y_val = (\n",
    "        x[:train_indices],\n",
    "        x[train_indices:],\n",
    "        y[:train_indices],\n",
    "        y[train_indices:],\n",
    "    )\n",
    "\n",
    "#inference\n",
    "user_movie_array = movies_not_watched[['fake_id','index']]\n",
    "max_movie_index = user_movie_array['index'].max()\n",
    "that = user_movie_array.to_numpy()\n",
    "\n",
    "EMBEDDING_SIZE = 50\n",
    "\n",
    "import tensorflow as tf\n",
    "from tensorflow import keras\n",
    "from tensorflow.keras import layers\n",
    "\n",
    "class RecommenderNet(keras.Model):\n",
    "        def __init__(self, num_users, num_movies, embedding_size, **kwargs):\n",
    "            super(RecommenderNet, self).__init__(**kwargs)\n",
    "            self.num_users = num_users\n",
    "            self.num_movies = num_movies\n",
    "            self.embedding_size = embedding_size\n",
    "            self.user_embedding = layers.Embedding(\n",
    "                num_users,\n",
    "                embedding_size,\n",
    "                embeddings_initializer=\"he_normal\",\n",
    "                embeddings_regularizer=keras.regularizers.l2(1e-6),\n",
    "            )\n",
    "            self.user_bias = layers.Embedding(num_users, 1)\n",
    "            self.movie_embedding = layers.Embedding(\n",
    "            #change this line from num_movies to max_movie_index+1\n",
    "                max_movie_index+1,\n",
    "                embedding_size,\n",
    "                embeddings_initializer=\"he_normal\",\n",
    "                embeddings_regularizer=keras.regularizers.l2(1e-6),\n",
    "            )\n",
    "            #and this line (input_dim)\n",
    "            self.movie_bias = layers.Embedding(max_movie_index+1, 1)\n",
    "\n",
    "        def call(self, inputs):\n",
    "            user_vector = self.user_embedding(inputs[:, 0])\n",
    "            user_bias = self.user_bias(inputs[:, 0])\n",
    "            movie_vector = self.movie_embedding(inputs[:, 1])\n",
    "            movie_bias = self.movie_bias(inputs[:, 1])\n",
    "            \n",
    "            dot_user_movie = tf.tensordot(user_vector, movie_vector, 2)\n",
    "            # Add all the components (including bias)\n",
    "            x = dot_user_movie + user_bias + movie_bias\n",
    "            # The sigmoid activation forces the rating to between 0 and 1\n",
    "            print(x)\n",
    "            return tf.nn.sigmoid(x)\n",
    "            #return movie_bias\n",
    "\n",
    "model = RecommenderNet(num_users, num_movies, EMBEDDING_SIZE)\n",
    "model.compile(\n",
    "        loss=tf.keras.losses.BinaryCrossentropy(), optimizer=keras.optimizers.Adam(lr=0.001)\n",
    "    )\n",
    "ratings = model.predict(that).flatten()\n",
    "\n",
    "top_ratings_indices = ratings.argsort()[-10:][::-1]\n",
    "movies_not_watched.loc[movies_not_watched['index'].isin(top_ratings_indices)]"
   ]
  },
  {
   "cell_type": "code",
   "execution_count": 7,
   "metadata": {},
   "outputs": [
    {
     "data": {
      "text/plain": [
       "array([[   0,    0],\n",
       "       [   0,    1],\n",
       "       [   0,    2],\n",
       "       ...,\n",
       "       [ 609, 3118],\n",
       "       [ 609, 1389],\n",
       "       [ 609, 2870]])"
      ]
     },
     "execution_count": 7,
     "metadata": {},
     "output_type": "execute_result"
    }
   ],
   "source": [
    "x"
   ]
  },
  {
   "cell_type": "code",
   "execution_count": null,
   "metadata": {},
   "outputs": [],
   "source": []
  },
  {
   "cell_type": "code",
   "execution_count": 8,
   "metadata": {},
   "outputs": [
    {
     "data": {
      "text/plain": [
       "array([[   0,    0],\n",
       "       [   0,    1],\n",
       "       [   0,    2],\n",
       "       ...,\n",
       "       [ 609, 3118],\n",
       "       [ 609, 1389],\n",
       "       [ 609, 2870]])"
      ]
     },
     "execution_count": 8,
     "metadata": {},
     "output_type": "execute_result"
    }
   ],
   "source": [
    "x"
   ]
  },
  {
   "cell_type": "code",
   "execution_count": 9,
   "metadata": {},
   "outputs": [
    {
     "data": {
      "text/plain": [
       "(100474, 2)"
      ]
     },
     "execution_count": 9,
     "metadata": {},
     "output_type": "execute_result"
    }
   ],
   "source": [
    "x.shape"
   ]
  },
  {
   "cell_type": "code",
   "execution_count": null,
   "metadata": {},
   "outputs": [],
   "source": [
    "not_all_ratings['userId'], not_all_ratings['index']"
   ]
  },
  {
   "cell_type": "code",
   "execution_count": 12,
   "metadata": {},
   "outputs": [
    {
     "data": {
      "text/plain": [
       "array([[ 0, 20],\n",
       "       [ 0, 21],\n",
       "       [ 0, 22],\n",
       "       [ 0, 23],\n",
       "       [ 0, 24],\n",
       "       [ 0, 25],\n",
       "       [ 0, 26],\n",
       "       [ 0, 27],\n",
       "       [ 0, 28],\n",
       "       [ 0, 29],\n",
       "       [ 0, 30],\n",
       "       [ 0, 31],\n",
       "       [ 0, 32],\n",
       "       [ 0, 33],\n",
       "       [ 0, 34],\n",
       "       [ 0, 35],\n",
       "       [ 0, 36],\n",
       "       [ 0, 37],\n",
       "       [ 0, 38],\n",
       "       [ 0, 39]])"
      ]
     },
     "execution_count": 12,
     "metadata": {},
     "output_type": "execute_result"
    }
   ],
   "source": [
    "x[20:40]"
   ]
  },
  {
   "cell_type": "code",
   "execution_count": 11,
   "metadata": {},
   "outputs": [
    {
     "data": {
      "text/plain": [
       "array([[ 609, 2380],\n",
       "       [ 609, 2986],\n",
       "       [ 609, 2062],\n",
       "       [ 609, 9612],\n",
       "       [ 609, 5971],\n",
       "       [ 609, 7795],\n",
       "       [ 609, 3810],\n",
       "       [ 609, 3446],\n",
       "       [ 609, 9613],\n",
       "       [ 609, 5973],\n",
       "       [ 609, 4322],\n",
       "       [ 609,  240],\n",
       "       [ 609, 2386],\n",
       "       [ 609, 1056],\n",
       "       [ 609, 1292],\n",
       "       [ 609, 1148],\n",
       "       [ 609, 6024],\n",
       "       [ 609, 1914],\n",
       "       [ 609, 3082],\n",
       "       [ 609, 3451]])"
      ]
     },
     "execution_count": 11,
     "metadata": {},
     "output_type": "execute_result"
    }
   ],
   "source": [
    "x[100000:100020]"
   ]
  },
  {
   "cell_type": "code",
   "execution_count": 15,
   "metadata": {},
   "outputs": [
    {
     "ename": "NameError",
     "evalue": "name 'inputs' is not defined",
     "output_type": "error",
     "traceback": [
      "\u001b[0;31m---------------------------------------------------------------------------\u001b[0m",
      "\u001b[0;31mNameError\u001b[0m                                 Traceback (most recent call last)",
      "\u001b[0;32m<ipython-input-15-698e31970cde>\u001b[0m in \u001b[0;36m<module>\u001b[0;34m\u001b[0m\n\u001b[0;32m----> 1\u001b[0;31m \u001b[0;34m(\u001b[0m\u001b[0minputs\u001b[0m\u001b[0;34m[\u001b[0m\u001b[0;34m:\u001b[0m\u001b[0;34m,\u001b[0m \u001b[0;36m1\u001b[0m\u001b[0;34m]\u001b[0m\u001b[0;34m)\u001b[0m\u001b[0;34m\u001b[0m\u001b[0;34m\u001b[0m\u001b[0m\n\u001b[0m",
      "\u001b[0;31mNameError\u001b[0m: name 'inputs' is not defined"
     ]
    }
   ],
   "source": [
    "(inputs[:, 1])"
   ]
  },
  {
   "cell_type": "code",
   "execution_count": null,
   "metadata": {},
   "outputs": [],
   "source": [
    "มีอย่างนึงที่ต้องลองทำ คือการแยกไฟล์ออกมาจาก modelselect.py เพราะตอนนี้มันยุ่บยั่บมาก น่าจะต้องมีระเบียบวิธีการออกาไนซ์"
   ]
  },
  {
   "cell_type": "code",
   "execution_count": null,
   "metadata": {},
   "outputs": [],
   "source": [
    "ตกลงเราจะเอา genres bias ของเราไปคูณยังไงคะ"
   ]
  },
  {
   "cell_type": "code",
   "execution_count": null,
   "metadata": {},
   "outputs": [],
   "source": [
    "ตอนนี้รู้แล้วว่า x ก็คือ not_all_ratings['userId'], not_all_ratings['index'] ที่เราทำมาแทบตายน่ะแหละ ได้ใช้"
   ]
  },
  {
   "cell_type": "code",
   "execution_count": null,
   "metadata": {},
   "outputs": [],
   "source": [
    "จะเขียนเพื่อทดลองว่า เวลาเอาค่า cosim_score ไปคูณกับ x แล้ว  จะทำให้ผล predict ออกมา เลือกเฉพาะประเภทหนังตามที่ input ไปเท่านั้นหรือไม่"
   ]
  },
  {
   "cell_type": "code",
   "execution_count": null,
   "metadata": {},
   "outputs": [],
   "source": [
    "ก็ต้องให้ลองปริ๊น recom_movies_title มาดูว่ามันมี genres อะไรบ้าง"
   ]
  },
  {
   "cell_type": "code",
   "execution_count": null,
   "metadata": {},
   "outputs": [],
   "source": []
  },
  {
   "cell_type": "code",
   "execution_count": 1,
   "metadata": {},
   "outputs": [],
   "source": [
    "def call(self, inputs):\n",
    "            user_vector = self.user_embedding(inputs[:, 0])\n",
    "            user_bias = self.user_bias(inputs[:, 0])\n",
    "            movie_vector = self.movie_embedding(inputs[:, 1])\n",
    "            movie_bias = self.movie_bias(inputs[:, 1])\n",
    "            \n",
    "            dot_user_movie = tf.tensordot(user_vector, movie_vector, 2)\n",
    "            # Add all the components (including bias)\n",
    "            x2 = dot_user_movie + user_bias + movie_bias\n",
    "            # The sigmoid activation forces the rating to between 0 and 1\n",
    "            print(x2)\n",
    "            return tf.nn.sigmoid(x2)\n",
    "            #return movie_bias"
   ]
  },
  {
   "cell_type": "code",
   "execution_count": null,
   "metadata": {},
   "outputs": [],
   "source": []
  },
  {
   "cell_type": "code",
   "execution_count": 15,
   "metadata": {},
   "outputs": [
    {
     "data": {
      "text/plain": [
       "<__main__.RecommenderNet at 0x7f07041c8dc0>"
      ]
     },
     "execution_count": 15,
     "metadata": {},
     "output_type": "execute_result"
    }
   ],
   "source": [
    "RecommenderNet(num_users, num_movies, EMBEDDING_SIZE)"
   ]
  },
  {
   "cell_type": "code",
   "execution_count": 11,
   "metadata": {},
   "outputs": [],
   "source": [
    "num_users = len(dl_user2user_encoded)\n",
    "num_movies = len(dl_movie_encoded2movie)"
   ]
  },
  {
   "cell_type": "code",
   "execution_count": null,
   "metadata": {},
   "outputs": [],
   "source": []
  },
  {
   "cell_type": "code",
   "execution_count": 22,
   "metadata": {},
   "outputs": [],
   "source": [
    "class RecommenderNet2(keras.Model):\n",
    "        def __init__(self, num_users, num_movies, embedding_size, **kwargs):\n",
    "            super(RecommenderNet2, self).__init__(**kwargs)\n",
    "            self.num_users = num_users\n",
    "            self.num_movies = num_movies\n",
    "            self.embedding_size = embedding_size\n",
    "            self.user_embedding = layers.Embedding(\n",
    "                num_users,\n",
    "                embedding_size,\n",
    "                embeddings_initializer=\"he_normal\",\n",
    "                embeddings_regularizer=keras.regularizers.l2(1e-6),\n",
    "            )\n",
    "            self.user_bias = layers.Embedding(num_users, 1)\n",
    "            self.movie_embedding = layers.Embedding(\n",
    "            #change this line from num_movies to max_movie_index+1\n",
    "                max_movie_index+1,\n",
    "                embedding_size,\n",
    "                embeddings_initializer=\"he_normal\",\n",
    "                embeddings_regularizer=keras.regularizers.l2(1e-6),\n",
    "            )\n",
    "            #and this line (input_dim)\n",
    "            self.movie_bias = layers.Embedding(max_movie_index+1, 1)\n",
    "            \n",
    "        def call(self, inputs):\n",
    "            user_vector = self.user_embedding(inputs[:, 0])\n",
    "            user_bias = self.user_bias(inputs[:, 0])\n",
    "            movie_vector = self.movie_embedding(inputs[:, 1])\n",
    "            movie_bias = self.movie_bias(inputs[:, 1])\n",
    "            \n",
    "            dot_user_movie = tf.tensordot(user_vector, movie_vector, 2)\n",
    "            # Add all the components (including bias)\n",
    "            x2 = dot_user_movie + user_bias + movie_bias\n",
    "            # The sigmoid activation forces the rating to between 0 and 1\n",
    "            print(x2)\n",
    "            print('papa')\n",
    "            print(tf.nn.sigmoid(x2))\n",
    "            return tf.nn.sigmoid(x2)\n",
    "            #return movie_bias"
   ]
  },
  {
   "cell_type": "code",
   "execution_count": 16,
   "metadata": {},
   "outputs": [
    {
     "name": "stdout",
     "output_type": "stream",
     "text": [
      "Tensor(\"recommender_net_4/add_1:0\", shape=(None, 1), dtype=float32)\n",
      "Tensor(\"recommender_net_4/Sigmoid:0\", shape=(None, 1), dtype=float32)\n",
      "Tensor(\"recommender_net_4/add_1:0\", shape=(None, 1), dtype=float32)\n",
      "Tensor(\"recommender_net_4/Sigmoid:0\", shape=(None, 1), dtype=float32)\n"
     ]
    },
    {
     "data": {
      "text/html": [
       "<div>\n",
       "<style scoped>\n",
       "    .dataframe tbody tr th:only-of-type {\n",
       "        vertical-align: middle;\n",
       "    }\n",
       "\n",
       "    .dataframe tbody tr th {\n",
       "        vertical-align: top;\n",
       "    }\n",
       "\n",
       "    .dataframe thead th {\n",
       "        text-align: right;\n",
       "    }\n",
       "</style>\n",
       "<table border=\"1\" class=\"dataframe\">\n",
       "  <thead>\n",
       "    <tr style=\"text-align: right;\">\n",
       "      <th></th>\n",
       "      <th>index</th>\n",
       "      <th>movieId</th>\n",
       "      <th>title</th>\n",
       "      <th>genres</th>\n",
       "      <th>fake_id</th>\n",
       "    </tr>\n",
       "  </thead>\n",
       "  <tbody>\n",
       "    <tr>\n",
       "      <th>624</th>\n",
       "      <td>624</td>\n",
       "      <td>791</td>\n",
       "      <td>Last Klezmer: Leopold Kozlowski, His Life and ...</td>\n",
       "      <td>Documentary</td>\n",
       "      <td>1</td>\n",
       "    </tr>\n",
       "    <tr>\n",
       "      <th>1024</th>\n",
       "      <td>1024</td>\n",
       "      <td>1335</td>\n",
       "      <td>Blood Beach (1981)</td>\n",
       "      <td>Horror|Mystery</td>\n",
       "      <td>1</td>\n",
       "    </tr>\n",
       "    <tr>\n",
       "      <th>1029</th>\n",
       "      <td>1029</td>\n",
       "      <td>1341</td>\n",
       "      <td>Burnt Offerings (1976)</td>\n",
       "      <td>Horror</td>\n",
       "      <td>1</td>\n",
       "    </tr>\n",
       "    <tr>\n",
       "      <th>1054</th>\n",
       "      <td>1054</td>\n",
       "      <td>1371</td>\n",
       "      <td>Star Trek: The Motion Picture (1979)</td>\n",
       "      <td>Adventure|Sci-Fi</td>\n",
       "      <td>1</td>\n",
       "    </tr>\n",
       "    <tr>\n",
       "      <th>8420</th>\n",
       "      <td>8420</td>\n",
       "      <td>110882</td>\n",
       "      <td>Locke (2013)</td>\n",
       "      <td>Drama</td>\n",
       "      <td>1</td>\n",
       "    </tr>\n",
       "    <tr>\n",
       "      <th>8422</th>\n",
       "      <td>8422</td>\n",
       "      <td>111146</td>\n",
       "      <td>Alpha and Omega 3: The Great Wolf Games (2014)</td>\n",
       "      <td>Action|Adventure|Animation|Children|Comedy</td>\n",
       "      <td>1</td>\n",
       "    </tr>\n",
       "    <tr>\n",
       "      <th>8435</th>\n",
       "      <td>8435</td>\n",
       "      <td>111680</td>\n",
       "      <td>At Middleton (2013)</td>\n",
       "      <td>Comedy|Romance</td>\n",
       "      <td>1</td>\n",
       "    </tr>\n",
       "    <tr>\n",
       "      <th>8436</th>\n",
       "      <td>8436</td>\n",
       "      <td>111732</td>\n",
       "      <td>Dance of Reality, The (Danza de la realidad, L...</td>\n",
       "      <td>Drama|Fantasy</td>\n",
       "      <td>1</td>\n",
       "    </tr>\n",
       "    <tr>\n",
       "      <th>8439</th>\n",
       "      <td>8439</td>\n",
       "      <td>111781</td>\n",
       "      <td>Mission: Impossible - Rogue Nation (2015)</td>\n",
       "      <td>Action|Adventure|Thriller</td>\n",
       "      <td>1</td>\n",
       "    </tr>\n",
       "    <tr>\n",
       "      <th>9714</th>\n",
       "      <td>9714</td>\n",
       "      <td>188675</td>\n",
       "      <td>Dogman (2018)</td>\n",
       "      <td>Crime|Drama</td>\n",
       "      <td>1</td>\n",
       "    </tr>\n",
       "  </tbody>\n",
       "</table>\n",
       "</div>"
      ],
      "text/plain": [
       "      index  movieId                                              title  \\\n",
       "624     624      791  Last Klezmer: Leopold Kozlowski, His Life and ...   \n",
       "1024   1024     1335                                 Blood Beach (1981)   \n",
       "1029   1029     1341                             Burnt Offerings (1976)   \n",
       "1054   1054     1371               Star Trek: The Motion Picture (1979)   \n",
       "8420   8420   110882                                       Locke (2013)   \n",
       "8422   8422   111146     Alpha and Omega 3: The Great Wolf Games (2014)   \n",
       "8435   8435   111680                                At Middleton (2013)   \n",
       "8436   8436   111732  Dance of Reality, The (Danza de la realidad, L...   \n",
       "8439   8439   111781          Mission: Impossible - Rogue Nation (2015)   \n",
       "9714   9714   188675                                      Dogman (2018)   \n",
       "\n",
       "                                          genres  fake_id  \n",
       "624                                  Documentary        1  \n",
       "1024                              Horror|Mystery        1  \n",
       "1029                                      Horror        1  \n",
       "1054                            Adventure|Sci-Fi        1  \n",
       "8420                                       Drama        1  \n",
       "8422  Action|Adventure|Animation|Children|Comedy        1  \n",
       "8435                              Comedy|Romance        1  \n",
       "8436                               Drama|Fantasy        1  \n",
       "8439                   Action|Adventure|Thriller        1  \n",
       "9714                                 Crime|Drama        1  "
      ]
     },
     "execution_count": 16,
     "metadata": {},
     "output_type": "execute_result"
    }
   ],
   "source": [
    "model = RecommenderNet(num_users, num_movies, EMBEDDING_SIZE)\n",
    "model.compile(\n",
    "        loss=tf.keras.losses.BinaryCrossentropy(), optimizer=keras.optimizers.Adam(lr=0.001)\n",
    "    )\n",
    "ratings = model.predict(that).flatten()\n",
    "\n",
    "top_ratings_indices = ratings.argsort()[-10:][::-1]\n",
    "movies_not_watched.loc[movies_not_watched['index'].isin(top_ratings_indices)]"
   ]
  },
  {
   "cell_type": "code",
   "execution_count": 17,
   "metadata": {},
   "outputs": [
    {
     "data": {
      "text/plain": [
       "<__main__.RecommenderNet at 0x7f0704115190>"
      ]
     },
     "execution_count": 17,
     "metadata": {},
     "output_type": "execute_result"
    }
   ],
   "source": [
    "model = RecommenderNet(num_users, num_movies, EMBEDDING_SIZE)\n",
    "model"
   ]
  },
  {
   "cell_type": "code",
   "execution_count": 19,
   "metadata": {},
   "outputs": [
    {
     "ename": "TypeError",
     "evalue": "super(type, obj): obj must be an instance or subtype of type",
     "output_type": "error",
     "traceback": [
      "\u001b[0;31m---------------------------------------------------------------------------\u001b[0m",
      "\u001b[0;31mTypeError\u001b[0m                                 Traceback (most recent call last)",
      "\u001b[0;32m<ipython-input-19-76ca77e4bc89>\u001b[0m in \u001b[0;36m<module>\u001b[0;34m\u001b[0m\n\u001b[0;32m----> 1\u001b[0;31m \u001b[0mmodel2\u001b[0m \u001b[0;34m=\u001b[0m \u001b[0mRecommenderNet2\u001b[0m\u001b[0;34m(\u001b[0m\u001b[0mnum_users\u001b[0m\u001b[0;34m,\u001b[0m \u001b[0mnum_movies\u001b[0m\u001b[0;34m,\u001b[0m \u001b[0mEMBEDDING_SIZE\u001b[0m\u001b[0;34m)\u001b[0m\u001b[0;34m\u001b[0m\u001b[0;34m\u001b[0m\u001b[0m\n\u001b[0m\u001b[1;32m      2\u001b[0m \u001b[0mmodel2\u001b[0m\u001b[0;34m\u001b[0m\u001b[0;34m\u001b[0m\u001b[0m\n",
      "\u001b[0;32m<ipython-input-18-315f7a5a17cc>\u001b[0m in \u001b[0;36m__init__\u001b[0;34m(self, num_users, num_movies, embedding_size, **kwargs)\u001b[0m\n\u001b[1;32m      1\u001b[0m \u001b[0;32mclass\u001b[0m \u001b[0mRecommenderNet2\u001b[0m\u001b[0;34m(\u001b[0m\u001b[0mkeras\u001b[0m\u001b[0;34m.\u001b[0m\u001b[0mModel\u001b[0m\u001b[0;34m)\u001b[0m\u001b[0;34m:\u001b[0m\u001b[0;34m\u001b[0m\u001b[0;34m\u001b[0m\u001b[0m\n\u001b[1;32m      2\u001b[0m         \u001b[0;32mdef\u001b[0m \u001b[0m__init__\u001b[0m\u001b[0;34m(\u001b[0m\u001b[0mself\u001b[0m\u001b[0;34m,\u001b[0m \u001b[0mnum_users\u001b[0m\u001b[0;34m,\u001b[0m \u001b[0mnum_movies\u001b[0m\u001b[0;34m,\u001b[0m \u001b[0membedding_size\u001b[0m\u001b[0;34m,\u001b[0m \u001b[0;34m**\u001b[0m\u001b[0mkwargs\u001b[0m\u001b[0;34m)\u001b[0m\u001b[0;34m:\u001b[0m\u001b[0;34m\u001b[0m\u001b[0;34m\u001b[0m\u001b[0m\n\u001b[0;32m----> 3\u001b[0;31m             \u001b[0msuper\u001b[0m\u001b[0;34m(\u001b[0m\u001b[0mRecommenderNet\u001b[0m\u001b[0;34m,\u001b[0m \u001b[0mself\u001b[0m\u001b[0;34m)\u001b[0m\u001b[0;34m.\u001b[0m\u001b[0m__init__\u001b[0m\u001b[0;34m(\u001b[0m\u001b[0;34m**\u001b[0m\u001b[0mkwargs\u001b[0m\u001b[0;34m)\u001b[0m\u001b[0;34m\u001b[0m\u001b[0;34m\u001b[0m\u001b[0m\n\u001b[0m\u001b[1;32m      4\u001b[0m             \u001b[0mself\u001b[0m\u001b[0;34m.\u001b[0m\u001b[0mnum_users\u001b[0m \u001b[0;34m=\u001b[0m \u001b[0mnum_users\u001b[0m\u001b[0;34m\u001b[0m\u001b[0;34m\u001b[0m\u001b[0m\n\u001b[1;32m      5\u001b[0m             \u001b[0mself\u001b[0m\u001b[0;34m.\u001b[0m\u001b[0mnum_movies\u001b[0m \u001b[0;34m=\u001b[0m \u001b[0mnum_movies\u001b[0m\u001b[0;34m\u001b[0m\u001b[0;34m\u001b[0m\u001b[0m\n",
      "\u001b[0;31mTypeError\u001b[0m: super(type, obj): obj must be an instance or subtype of type"
     ]
    }
   ],
   "source": [
    "model2 = RecommenderNet2(num_users, num_movies, EMBEDDING_SIZE)\n",
    "model2"
   ]
  },
  {
   "cell_type": "code",
   "execution_count": 23,
   "metadata": {},
   "outputs": [
    {
     "data": {
      "text/plain": [
       "<__main__.RecommenderNet2 at 0x7f0704105a30>"
      ]
     },
     "execution_count": 23,
     "metadata": {},
     "output_type": "execute_result"
    }
   ],
   "source": [
    "model2 = RecommenderNet2(num_users, num_movies, EMBEDDING_SIZE)\n",
    "model2"
   ]
  },
  {
   "cell_type": "code",
   "execution_count": 25,
   "metadata": {},
   "outputs": [
    {
     "name": "stdout",
     "output_type": "stream",
     "text": [
      "Tensor(\"recommender_net2_1/add_1:0\", shape=(None, 1), dtype=float32)\n",
      "papa\n",
      "Tensor(\"recommender_net2_1/Sigmoid:0\", shape=(None, 1), dtype=float32)\n"
     ]
    },
    {
     "data": {
      "text/plain": [
       "array([0.504908  , 0.5169384 , 0.5228944 , ..., 0.51004094, 0.49802026,\n",
       "       0.5072579 ], dtype=float32)"
      ]
     },
     "execution_count": 25,
     "metadata": {},
     "output_type": "execute_result"
    }
   ],
   "source": [
    "model2.compile(\n",
    "        loss=tf.keras.losses.BinaryCrossentropy(), optimizer=keras.optimizers.Adam(lr=0.001)\n",
    "    )\n",
    "ratings = model2.predict(that).flatten()\n",
    "ratings\n",
    "#top_ratings_indices = ratings.argsort()[-10:][::-1]\n",
    "#movies_not_watched.loc[movies_not_watched['index'].isin(top_ratings_indices)]"
   ]
  },
  {
   "cell_type": "code",
   "execution_count": 26,
   "metadata": {},
   "outputs": [],
   "source": [
    "model2.compile(\n",
    "        loss=tf.keras.losses.BinaryCrossentropy(), optimizer=keras.optimizers.Adam(lr=0.001)\n",
    "    )"
   ]
  },
  {
   "cell_type": "code",
   "execution_count": 27,
   "metadata": {},
   "outputs": [
    {
     "name": "stdout",
     "output_type": "stream",
     "text": [
      "Tensor(\"recommender_net2_1/add_1:0\", shape=(None, 1), dtype=float32)\n",
      "papa\n",
      "Tensor(\"recommender_net2_1/Sigmoid:0\", shape=(None, 1), dtype=float32)\n"
     ]
    },
    {
     "data": {
      "text/plain": [
       "array([0.504908  , 0.5169384 , 0.5228944 , ..., 0.51004094, 0.49802026,\n",
       "       0.5072579 ], dtype=float32)"
      ]
     },
     "execution_count": 27,
     "metadata": {},
     "output_type": "execute_result"
    }
   ],
   "source": [
    "model2.predict(that).flatten()\n"
   ]
  },
  {
   "cell_type": "code",
   "execution_count": null,
   "metadata": {},
   "outputs": [],
   "source": [
    "ทำไม call class ตอนสั่ง predict??\n",
    "def call ที่สั่งให้ RecommenderNet2 print('papa') โดนเรียกตอน model2.predict"
   ]
  },
  {
   "cell_type": "code",
   "execution_count": null,
   "metadata": {},
   "outputs": [],
   "source": [
    "ได้ x2 มาเป็น tensor แล้วยังไงต่อ\n",
    "จะรู้ได้ไงว่าตอน predict แล้วคูณ cosim_score เข้าไปแล้วมันจะผลไม่เหมือนเดิม\n",
    "ก็ต้องมาดูตอน predict\n",
    "ต้องเรียกมาดูทั้งหมดน่ะแหละ\n",
    "top_ratings_indices = ratings.argsort()[-10:][::-1]\n",
    "movies_not_watched.loc[movies_not_watched['index'].isin(top_ratings_indices)]"
   ]
  },
  {
   "cell_type": "code",
   "execution_count": 32,
   "metadata": {},
   "outputs": [
    {
     "data": {
      "text/plain": [
       "(9739,)"
      ]
     },
     "execution_count": 32,
     "metadata": {},
     "output_type": "execute_result"
    }
   ],
   "source": [
    "ratings.shape คือ shape ของ movies_not_watched น่ะแหละ"
   ]
  },
  {
   "cell_type": "code",
   "execution_count": 30,
   "metadata": {},
   "outputs": [
    {
     "data": {
      "text/plain": [
       "0.5400332"
      ]
     },
     "execution_count": 30,
     "metadata": {},
     "output_type": "execute_result"
    }
   ],
   "source": [
    "ratings.max()"
   ]
  },
  {
   "cell_type": "code",
   "execution_count": 31,
   "metadata": {},
   "outputs": [
    {
     "data": {
      "text/plain": [
       "array([0.5400332 , 0.5388386 , 0.53870296, 0.53712237, 0.53705156,\n",
       "       0.53669834, 0.5365959 , 0.53585166, 0.5355341 , 0.5353538 ],\n",
       "      dtype=float32)"
      ]
     },
     "execution_count": 31,
     "metadata": {},
     "output_type": "execute_result"
    }
   ],
   "source": [
    "ratings[ratings.argsort()[-10:]][::-1]"
   ]
  },
  {
   "cell_type": "code",
   "execution_count": 33,
   "metadata": {},
   "outputs": [
    {
     "data": {
      "text/html": [
       "<div>\n",
       "<style scoped>\n",
       "    .dataframe tbody tr th:only-of-type {\n",
       "        vertical-align: middle;\n",
       "    }\n",
       "\n",
       "    .dataframe tbody tr th {\n",
       "        vertical-align: top;\n",
       "    }\n",
       "\n",
       "    .dataframe thead th {\n",
       "        text-align: right;\n",
       "    }\n",
       "</style>\n",
       "<table border=\"1\" class=\"dataframe\">\n",
       "  <thead>\n",
       "    <tr style=\"text-align: right;\">\n",
       "      <th></th>\n",
       "      <th>0</th>\n",
       "    </tr>\n",
       "  </thead>\n",
       "  <tbody>\n",
       "    <tr>\n",
       "      <th>0</th>\n",
       "      <td>0.504908</td>\n",
       "    </tr>\n",
       "    <tr>\n",
       "      <th>1</th>\n",
       "      <td>0.516938</td>\n",
       "    </tr>\n",
       "    <tr>\n",
       "      <th>2</th>\n",
       "      <td>0.522894</td>\n",
       "    </tr>\n",
       "    <tr>\n",
       "      <th>3</th>\n",
       "      <td>0.507467</td>\n",
       "    </tr>\n",
       "    <tr>\n",
       "      <th>4</th>\n",
       "      <td>0.500166</td>\n",
       "    </tr>\n",
       "    <tr>\n",
       "      <th>...</th>\n",
       "      <td>...</td>\n",
       "    </tr>\n",
       "    <tr>\n",
       "      <th>9734</th>\n",
       "      <td>0.511043</td>\n",
       "    </tr>\n",
       "    <tr>\n",
       "      <th>9735</th>\n",
       "      <td>0.510056</td>\n",
       "    </tr>\n",
       "    <tr>\n",
       "      <th>9736</th>\n",
       "      <td>0.510041</td>\n",
       "    </tr>\n",
       "    <tr>\n",
       "      <th>9737</th>\n",
       "      <td>0.498020</td>\n",
       "    </tr>\n",
       "    <tr>\n",
       "      <th>9738</th>\n",
       "      <td>0.507258</td>\n",
       "    </tr>\n",
       "  </tbody>\n",
       "</table>\n",
       "<p>9739 rows × 1 columns</p>\n",
       "</div>"
      ],
      "text/plain": [
       "             0\n",
       "0     0.504908\n",
       "1     0.516938\n",
       "2     0.522894\n",
       "3     0.507467\n",
       "4     0.500166\n",
       "...        ...\n",
       "9734  0.511043\n",
       "9735  0.510056\n",
       "9736  0.510041\n",
       "9737  0.498020\n",
       "9738  0.507258\n",
       "\n",
       "[9739 rows x 1 columns]"
      ]
     },
     "execution_count": 33,
     "metadata": {},
     "output_type": "execute_result"
    }
   ],
   "source": [
    "pd.DataFrame(ratings)"
   ]
  },
  {
   "cell_type": "code",
   "execution_count": null,
   "metadata": {},
   "outputs": [],
   "source": []
  },
  {
   "cell_type": "code",
   "execution_count": null,
   "metadata": {},
   "outputs": [],
   "source": []
  },
  {
   "cell_type": "code",
   "execution_count": 28,
   "metadata": {},
   "outputs": [
    {
     "name": "stderr",
     "output_type": "stream",
     "text": [
      "/opt/conda/lib/python3.8/site-packages/pandas/core/indexing.py:1596: SettingWithCopyWarning: \n",
      "A value is trying to be set on a copy of a slice from a DataFrame.\n",
      "Try using .loc[row_indexer,col_indexer] = value instead\n",
      "\n",
      "See the caveats in the documentation: https://pandas.pydata.org/pandas-docs/stable/user_guide/indexing.html#returning-a-view-versus-a-copy\n",
      "  self.obj[key] = _infer_fill_value(value)\n",
      "/opt/conda/lib/python3.8/site-packages/pandas/core/indexing.py:1743: SettingWithCopyWarning: \n",
      "A value is trying to be set on a copy of a slice from a DataFrame.\n",
      "Try using .loc[row_indexer,col_indexer] = value instead\n",
      "\n",
      "See the caveats in the documentation: https://pandas.pydata.org/pandas-docs/stable/user_guide/indexing.html#returning-a-view-versus-a-copy\n",
      "  isetter(ilocs[0], value)\n"
     ]
    },
    {
     "data": {
      "text/html": [
       "<div>\n",
       "<style scoped>\n",
       "    .dataframe tbody tr th:only-of-type {\n",
       "        vertical-align: middle;\n",
       "    }\n",
       "\n",
       "    .dataframe tbody tr th {\n",
       "        vertical-align: top;\n",
       "    }\n",
       "\n",
       "    .dataframe thead th {\n",
       "        text-align: right;\n",
       "    }\n",
       "</style>\n",
       "<table border=\"1\" class=\"dataframe\">\n",
       "  <thead>\n",
       "    <tr style=\"text-align: right;\">\n",
       "      <th></th>\n",
       "      <th>index</th>\n",
       "      <th>movieId</th>\n",
       "      <th>title</th>\n",
       "      <th>genres</th>\n",
       "      <th>fake_id</th>\n",
       "      <th>prediction</th>\n",
       "    </tr>\n",
       "  </thead>\n",
       "  <tbody>\n",
       "    <tr>\n",
       "      <th>514</th>\n",
       "      <td>514</td>\n",
       "      <td>597</td>\n",
       "      <td>Pretty Woman (1990)</td>\n",
       "      <td>Comedy|Romance</td>\n",
       "      <td>1</td>\n",
       "      <td>0.538839</td>\n",
       "    </tr>\n",
       "    <tr>\n",
       "      <th>516</th>\n",
       "      <td>516</td>\n",
       "      <td>600</td>\n",
       "      <td>Love and a .45 (1994)</td>\n",
       "      <td>Action|Comedy|Crime</td>\n",
       "      <td>1</td>\n",
       "      <td>0.537122</td>\n",
       "    </tr>\n",
       "    <tr>\n",
       "      <th>533</th>\n",
       "      <td>533</td>\n",
       "      <td>628</td>\n",
       "      <td>Primal Fear (1996)</td>\n",
       "      <td>Crime|Drama|Mystery|Thriller</td>\n",
       "      <td>1</td>\n",
       "      <td>0.540033</td>\n",
       "    </tr>\n",
       "    <tr>\n",
       "      <th>539</th>\n",
       "      <td>539</td>\n",
       "      <td>636</td>\n",
       "      <td>Frisk (1995)</td>\n",
       "      <td>Drama</td>\n",
       "      <td>1</td>\n",
       "      <td>0.538703</td>\n",
       "    </tr>\n",
       "    <tr>\n",
       "      <th>2926</th>\n",
       "      <td>2926</td>\n",
       "      <td>3925</td>\n",
       "      <td>Stranger Than Paradise (1984)</td>\n",
       "      <td>Comedy|Drama</td>\n",
       "      <td>1</td>\n",
       "      <td>0.537052</td>\n",
       "    </tr>\n",
       "    <tr>\n",
       "      <th>2930</th>\n",
       "      <td>2930</td>\n",
       "      <td>3929</td>\n",
       "      <td>Bank Dick, The (1940)</td>\n",
       "      <td>Comedy</td>\n",
       "      <td>1</td>\n",
       "      <td>0.535534</td>\n",
       "    </tr>\n",
       "    <tr>\n",
       "      <th>7242</th>\n",
       "      <td>7242</td>\n",
       "      <td>73876</td>\n",
       "      <td>Undisputed II: Last Man Standing (2006)</td>\n",
       "      <td>Action|Crime|Drama</td>\n",
       "      <td>1</td>\n",
       "      <td>0.536596</td>\n",
       "    </tr>\n",
       "    <tr>\n",
       "      <th>7250</th>\n",
       "      <td>7250</td>\n",
       "      <td>74228</td>\n",
       "      <td>Triangle (2009)</td>\n",
       "      <td>Drama|Horror|Mystery|Thriller</td>\n",
       "      <td>1</td>\n",
       "      <td>0.535354</td>\n",
       "    </tr>\n",
       "    <tr>\n",
       "      <th>7256</th>\n",
       "      <td>7256</td>\n",
       "      <td>74450</td>\n",
       "      <td>Valentine's Day (2010)</td>\n",
       "      <td>Comedy|Romance</td>\n",
       "      <td>1</td>\n",
       "      <td>0.536698</td>\n",
       "    </tr>\n",
       "    <tr>\n",
       "      <th>8701</th>\n",
       "      <td>8701</td>\n",
       "      <td>123200</td>\n",
       "      <td>Jim Jefferies: I Swear to God (2009)</td>\n",
       "      <td>Comedy</td>\n",
       "      <td>1</td>\n",
       "      <td>0.535852</td>\n",
       "    </tr>\n",
       "  </tbody>\n",
       "</table>\n",
       "</div>"
      ],
      "text/plain": [
       "      index  movieId                                    title  \\\n",
       "514     514      597                      Pretty Woman (1990)   \n",
       "516     516      600                    Love and a .45 (1994)   \n",
       "533     533      628                       Primal Fear (1996)   \n",
       "539     539      636                             Frisk (1995)   \n",
       "2926   2926     3925            Stranger Than Paradise (1984)   \n",
       "2930   2930     3929                    Bank Dick, The (1940)   \n",
       "7242   7242    73876  Undisputed II: Last Man Standing (2006)   \n",
       "7250   7250    74228                          Triangle (2009)   \n",
       "7256   7256    74450                   Valentine's Day (2010)   \n",
       "8701   8701   123200     Jim Jefferies: I Swear to God (2009)   \n",
       "\n",
       "                             genres  fake_id  prediction  \n",
       "514                  Comedy|Romance        1    0.538839  \n",
       "516             Action|Comedy|Crime        1    0.537122  \n",
       "533    Crime|Drama|Mystery|Thriller        1    0.540033  \n",
       "539                           Drama        1    0.538703  \n",
       "2926                   Comedy|Drama        1    0.537052  \n",
       "2930                         Comedy        1    0.535534  \n",
       "7242             Action|Crime|Drama        1    0.536596  \n",
       "7250  Drama|Horror|Mystery|Thriller        1    0.535354  \n",
       "7256                 Comedy|Romance        1    0.536698  \n",
       "8701                         Comedy        1    0.535852  "
      ]
     },
     "execution_count": 28,
     "metadata": {},
     "output_type": "execute_result"
    }
   ],
   "source": [
    "movies_not_watched.loc[:,'prediction'] = ratings\n",
    "movies_not_watched.loc[:,'cosim_score'] =\n",
    "movies_not_watched.loc[:,'prediction with genres bias']\n",
    "\n",
    "highest_score = ratings[ratings.argsort()[-10:]][::-1]\n",
    "\n",
    "recom_movie_titles = movies_not_watched.loc[movies_not_watched.loc[:,'prediction'].isin(highest_score)]\n",
    "#movies_not_watched.loc[movies_not_watched['index'].isin(top_ratings_indices)]\n",
    "recom_movie_titles"
   ]
  },
  {
   "cell_type": "code",
   "execution_count": null,
   "metadata": {},
   "outputs": [],
   "source": [
    "ต้อง map not_all_ratings['cosim_score'] กลับมาใน movies_not_watched อีกรอบ??\n",
    "ไม่สิ แค่เอามาคูณกับ prediction"
   ]
  },
  {
   "cell_type": "code",
   "execution_count": null,
   "metadata": {},
   "outputs": [],
   "source": []
  },
  {
   "cell_type": "code",
   "execution_count": null,
   "metadata": {},
   "outputs": [],
   "source": [
    "movies_not_watched_bias.loc[:,'prediction with genres bias'] = movies_not_watched_bias['prediction']*movies_not_watched_bias['cosim_score']\n",
    "#movies_not_watched_bias\n",
    "ratings2 = movies_not_watched_bias['prediction with genres bias']\n",
    "highest_score = ratings2[ratings2.argsort()[-10:]][::-1]\n",
    "\n",
    "recom_movie_titles = movies_not_watched_bias.loc[movies_not_watched_bias['prediction with genres bias'].isin(highest_score)]\n",
    "#movies_not_watched.loc[movies_not_watched['index'].isin(top_ratings_indices)]\n",
    "recom_movie_titles"
   ]
  }
 ],
 "metadata": {
  "kernelspec": {
   "display_name": "Python 3",
   "language": "python",
   "name": "python3"
  },
  "language_info": {
   "codemirror_mode": {
    "name": "ipython",
    "version": 3
   },
   "file_extension": ".py",
   "mimetype": "text/x-python",
   "name": "python",
   "nbconvert_exporter": "python",
   "pygments_lexer": "ipython3",
   "version": "3.8.6"
  }
 },
 "nbformat": 4,
 "nbformat_minor": 4
}
