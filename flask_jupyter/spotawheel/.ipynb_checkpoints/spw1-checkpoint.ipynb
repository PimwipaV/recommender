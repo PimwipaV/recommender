{
 "cells": [
  {
   "cell_type": "code",
   "execution_count": 7,
   "metadata": {},
   "outputs": [
    {
     "name": "stdout",
     "output_type": "stream",
     "text": [
      "\u001b[0m\u001b[01;36mbin\u001b[0m@   \u001b[01;34metc\u001b[0m/            \u001b[01;36mlib\u001b[0m@    \u001b[01;36mlibx32\u001b[0m@  \u001b[01;34mopt\u001b[0m/   \u001b[01;34mrun\u001b[0m/   \u001b[01;34msys\u001b[0m/  \u001b[01;34mvar\u001b[0m/\r\n",
      "\u001b[01;34mboot\u001b[0m/  \u001b[01;34mflask_jupyter\u001b[0m/  \u001b[01;36mlib32\u001b[0m@  \u001b[01;34mmedia\u001b[0m/   \u001b[01;34mproc\u001b[0m/  \u001b[01;36msbin\u001b[0m@  \u001b[30;42mtmp\u001b[0m/\r\n",
      "\u001b[01;34mdev\u001b[0m/   \u001b[01;34mhome\u001b[0m/           \u001b[01;36mlib64\u001b[0m@  \u001b[01;34mmnt\u001b[0m/     \u001b[01;34mroot\u001b[0m/  \u001b[01;34msrv\u001b[0m/   \u001b[01;34musr\u001b[0m/\r\n"
     ]
    }
   ],
   "source": [
    "ls"
   ]
  },
  {
   "cell_type": "code",
   "execution_count": 8,
   "metadata": {},
   "outputs": [
    {
     "name": "stdout",
     "output_type": "stream",
     "text": [
      "/flask_jupyter\n"
     ]
    }
   ],
   "source": [
    "cd flask_jupyter"
   ]
  },
  {
   "cell_type": "code",
   "execution_count": 9,
   "metadata": {},
   "outputs": [
    {
     "name": "stdout",
     "output_type": "stream",
     "text": [
      "\u001b[0m\u001b[01;34mdata\u001b[0m/  \u001b[01;34m__pycache__\u001b[0m/  \u001b[01;34mrecommender\u001b[0m/  \u001b[01;34mspotawheel\u001b[0m/  spotawheel1.ipynb\r\n"
     ]
    }
   ],
   "source": [
    "ls"
   ]
  },
  {
   "cell_type": "code",
   "execution_count": 10,
   "metadata": {},
   "outputs": [
    {
     "name": "stdout",
     "output_type": "stream",
     "text": [
      "/flask_jupyter/spotawheel\n"
     ]
    }
   ],
   "source": [
    "cd spotawheel"
   ]
  },
  {
   "cell_type": "code",
   "execution_count": 11,
   "metadata": {},
   "outputs": [
    {
     "name": "stdout",
     "output_type": "stream",
     "text": [
      "'Spotawheel_case_study (1).csv'   spw1.ipynb   spw2.ipynb   Untitled.ipynb\r\n"
     ]
    }
   ],
   "source": [
    "ls"
   ]
  },
  {
   "cell_type": "code",
   "execution_count": 13,
   "metadata": {},
   "outputs": [
    {
     "data": {
      "text/html": [
       "<div>\n",
       "<style scoped>\n",
       "    .dataframe tbody tr th:only-of-type {\n",
       "        vertical-align: middle;\n",
       "    }\n",
       "\n",
       "    .dataframe tbody tr th {\n",
       "        vertical-align: top;\n",
       "    }\n",
       "\n",
       "    .dataframe thead th {\n",
       "        text-align: right;\n",
       "    }\n",
       "</style>\n",
       "<table border=\"1\" class=\"dataframe\">\n",
       "  <thead>\n",
       "    <tr style=\"text-align: right;\">\n",
       "      <th></th>\n",
       "      <th>Name</th>\n",
       "      <th>Kilometers_Driven</th>\n",
       "      <th>Fuel_Type</th>\n",
       "      <th>Transmission</th>\n",
       "      <th>Owner_Type</th>\n",
       "      <th>Mileage</th>\n",
       "      <th>Engine</th>\n",
       "      <th>Power</th>\n",
       "      <th>Seats</th>\n",
       "      <th>Price</th>\n",
       "      <th>Age</th>\n",
       "    </tr>\n",
       "  </thead>\n",
       "  <tbody>\n",
       "    <tr>\n",
       "      <th>0</th>\n",
       "      <td>Hyundai i10 Era</td>\n",
       "      <td>60000</td>\n",
       "      <td>Petrol</td>\n",
       "      <td>Manual</td>\n",
       "      <td>2</td>\n",
       "      <td>19.81</td>\n",
       "      <td>1086</td>\n",
       "      <td>68.05</td>\n",
       "      <td>5</td>\n",
       "      <td>2650.0</td>\n",
       "      <td>9</td>\n",
       "    </tr>\n",
       "    <tr>\n",
       "      <th>1</th>\n",
       "      <td>Toyota Fortuner 4x2 Manual</td>\n",
       "      <td>73500</td>\n",
       "      <td>Diesel</td>\n",
       "      <td>Manual</td>\n",
       "      <td>1</td>\n",
       "      <td>13.00</td>\n",
       "      <td>2982</td>\n",
       "      <td>168.50</td>\n",
       "      <td>7</td>\n",
       "      <td>22000.0</td>\n",
       "      <td>6</td>\n",
       "    </tr>\n",
       "    <tr>\n",
       "      <th>2</th>\n",
       "      <td>Mercedes-Benz E-Class 230 E AT</td>\n",
       "      <td>28888</td>\n",
       "      <td>Petrol</td>\n",
       "      <td>Automatic</td>\n",
       "      <td>1</td>\n",
       "      <td>10.00</td>\n",
       "      <td>2496</td>\n",
       "      <td>157.70</td>\n",
       "      <td>5</td>\n",
       "      <td>7560.0</td>\n",
       "      <td>12</td>\n",
       "    </tr>\n",
       "    <tr>\n",
       "      <th>3</th>\n",
       "      <td>Volkswagen Polo Petrol Trendline 1.2L</td>\n",
       "      <td>41000</td>\n",
       "      <td>Petrol</td>\n",
       "      <td>Manual</td>\n",
       "      <td>1</td>\n",
       "      <td>16.47</td>\n",
       "      <td>1198</td>\n",
       "      <td>73.90</td>\n",
       "      <td>5</td>\n",
       "      <td>3100.0</td>\n",
       "      <td>9</td>\n",
       "    </tr>\n",
       "    <tr>\n",
       "      <th>4</th>\n",
       "      <td>Land Rover Range Rover Evoque 2.0 TD4 HSE Dynamic</td>\n",
       "      <td>52000</td>\n",
       "      <td>Diesel</td>\n",
       "      <td>Automatic</td>\n",
       "      <td>1</td>\n",
       "      <td>15.68</td>\n",
       "      <td>1999</td>\n",
       "      <td>177.00</td>\n",
       "      <td>5</td>\n",
       "      <td>42000.0</td>\n",
       "      <td>5</td>\n",
       "    </tr>\n",
       "    <tr>\n",
       "      <th>...</th>\n",
       "      <td>...</td>\n",
       "      <td>...</td>\n",
       "      <td>...</td>\n",
       "      <td>...</td>\n",
       "      <td>...</td>\n",
       "      <td>...</td>\n",
       "      <td>...</td>\n",
       "      <td>...</td>\n",
       "      <td>...</td>\n",
       "      <td>...</td>\n",
       "      <td>...</td>\n",
       "    </tr>\n",
       "    <tr>\n",
       "      <th>4902</th>\n",
       "      <td>Toyota Innova 2.5 G (Diesel) 8 Seater</td>\n",
       "      <td>250000</td>\n",
       "      <td>Diesel</td>\n",
       "      <td>Manual</td>\n",
       "      <td>2</td>\n",
       "      <td>12.99</td>\n",
       "      <td>2494</td>\n",
       "      <td>100.60</td>\n",
       "      <td>8</td>\n",
       "      <td>7900.0</td>\n",
       "      <td>8</td>\n",
       "    </tr>\n",
       "    <tr>\n",
       "      <th>4903</th>\n",
       "      <td>Mercedes-Benz New C-Class 220 CDI AT</td>\n",
       "      <td>38000</td>\n",
       "      <td>Diesel</td>\n",
       "      <td>Automatic</td>\n",
       "      <td>1</td>\n",
       "      <td>14.84</td>\n",
       "      <td>2143</td>\n",
       "      <td>170.00</td>\n",
       "      <td>5</td>\n",
       "      <td>13510.0</td>\n",
       "      <td>9</td>\n",
       "    </tr>\n",
       "    <tr>\n",
       "      <th>4904</th>\n",
       "      <td>Toyota Innova Crysta 2.8 ZX AT</td>\n",
       "      <td>40674</td>\n",
       "      <td>Diesel</td>\n",
       "      <td>Automatic</td>\n",
       "      <td>1</td>\n",
       "      <td>11.36</td>\n",
       "      <td>2755</td>\n",
       "      <td>171.50</td>\n",
       "      <td>7</td>\n",
       "      <td>24820.0</td>\n",
       "      <td>2</td>\n",
       "    </tr>\n",
       "    <tr>\n",
       "      <th>4905</th>\n",
       "      <td>Honda City i VTEC V</td>\n",
       "      <td>62505</td>\n",
       "      <td>Petrol</td>\n",
       "      <td>Manual</td>\n",
       "      <td>1</td>\n",
       "      <td>17.40</td>\n",
       "      <td>1497</td>\n",
       "      <td>117.30</td>\n",
       "      <td>5</td>\n",
       "      <td>5950.0</td>\n",
       "      <td>7</td>\n",
       "    </tr>\n",
       "    <tr>\n",
       "      <th>4906</th>\n",
       "      <td>Maruti Swift ZXI</td>\n",
       "      <td>40000</td>\n",
       "      <td>Petrol</td>\n",
       "      <td>Manual</td>\n",
       "      <td>1</td>\n",
       "      <td>20.40</td>\n",
       "      <td>1197</td>\n",
       "      <td>81.80</td>\n",
       "      <td>5</td>\n",
       "      <td>5900.0</td>\n",
       "      <td>6</td>\n",
       "    </tr>\n",
       "  </tbody>\n",
       "</table>\n",
       "<p>4907 rows × 11 columns</p>\n",
       "</div>"
      ],
      "text/plain": [
       "                                                   Name  Kilometers_Driven  \\\n",
       "0                                       Hyundai i10 Era              60000   \n",
       "1                            Toyota Fortuner 4x2 Manual              73500   \n",
       "2                        Mercedes-Benz E-Class 230 E AT              28888   \n",
       "3                 Volkswagen Polo Petrol Trendline 1.2L              41000   \n",
       "4     Land Rover Range Rover Evoque 2.0 TD4 HSE Dynamic              52000   \n",
       "...                                                 ...                ...   \n",
       "4902              Toyota Innova 2.5 G (Diesel) 8 Seater             250000   \n",
       "4903               Mercedes-Benz New C-Class 220 CDI AT              38000   \n",
       "4904                     Toyota Innova Crysta 2.8 ZX AT              40674   \n",
       "4905                                Honda City i VTEC V              62505   \n",
       "4906                                   Maruti Swift ZXI              40000   \n",
       "\n",
       "     Fuel_Type Transmission  Owner_Type  Mileage  Engine   Power  Seats  \\\n",
       "0       Petrol       Manual           2    19.81    1086   68.05      5   \n",
       "1       Diesel       Manual           1    13.00    2982  168.50      7   \n",
       "2       Petrol    Automatic           1    10.00    2496  157.70      5   \n",
       "3       Petrol       Manual           1    16.47    1198   73.90      5   \n",
       "4       Diesel    Automatic           1    15.68    1999  177.00      5   \n",
       "...        ...          ...         ...      ...     ...     ...    ...   \n",
       "4902    Diesel       Manual           2    12.99    2494  100.60      8   \n",
       "4903    Diesel    Automatic           1    14.84    2143  170.00      5   \n",
       "4904    Diesel    Automatic           1    11.36    2755  171.50      7   \n",
       "4905    Petrol       Manual           1    17.40    1497  117.30      5   \n",
       "4906    Petrol       Manual           1    20.40    1197   81.80      5   \n",
       "\n",
       "        Price  Age  \n",
       "0      2650.0    9  \n",
       "1     22000.0    6  \n",
       "2      7560.0   12  \n",
       "3      3100.0    9  \n",
       "4     42000.0    5  \n",
       "...       ...  ...  \n",
       "4902   7900.0    8  \n",
       "4903  13510.0    9  \n",
       "4904  24820.0    2  \n",
       "4905   5950.0    7  \n",
       "4906   5900.0    6  \n",
       "\n",
       "[4907 rows x 11 columns]"
      ]
     },
     "execution_count": 13,
     "metadata": {},
     "output_type": "execute_result"
    }
   ],
   "source": [
    "import pandas as pd\n",
    "data_file = pd.read_csv('Spotawheel_case_study (1).csv')\n",
    "data_file"
   ]
  },
  {
   "cell_type": "code",
   "execution_count": null,
   "metadata": {},
   "outputs": [],
   "source": []
  }
 ],
 "metadata": {
  "kernelspec": {
   "display_name": "Python 3",
   "language": "python",
   "name": "python3"
  },
  "language_info": {
   "codemirror_mode": {
    "name": "ipython",
    "version": 3
   },
   "file_extension": ".py",
   "mimetype": "text/x-python",
   "name": "python",
   "nbconvert_exporter": "python",
   "pygments_lexer": "ipython3",
   "version": "3.8.6"
  }
 },
 "nbformat": 4,
 "nbformat_minor": 4
}
