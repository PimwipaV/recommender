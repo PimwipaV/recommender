{
 "cells": [
  {
   "cell_type": "code",
   "execution_count": 3,
   "metadata": {},
   "outputs": [
    {
     "name": "stdout",
     "output_type": "stream",
     "text": [
      "links\n",
      "ratings\n",
      "movies\n",
      "tags\n"
     ]
    }
   ],
   "source": [
    "from flask import Flask\n",
    "from flask_sqlalchemy import SQLAlchemy\n",
    "from sqlalchemy import create_engine\n",
    "import os\n",
    "import pandas as pd\n",
    "\n",
    "app = Flask(__name__)\n",
    "\n",
    "engine = create_engine('sqlite:///recommender2.db', echo=False)\n",
    "\n",
    "for f in os.listdir('data/movies/ml-latest-small'):\n",
    "    if f[-4:] == '.csv':\n",
    "        data = pd.read_csv(f'data/movies/ml-latest-small/{f}')\n",
    "        data.to_sql(f[:-4], engine)\n",
    "        print(f[0:-4])"
   ]
  },
  {
   "cell_type": "code",
   "execution_count": 2,
   "metadata": {},
   "outputs": [
    {
     "data": {
      "text/plain": [
       "'/flask_jupyter'"
      ]
     },
     "execution_count": 2,
     "metadata": {},
     "output_type": "execute_result"
    }
   ],
   "source": [
    "pwd"
   ]
  },
  {
   "cell_type": "code",
   "execution_count": null,
   "metadata": {},
   "outputs": [],
   "source": []
  },
  {
   "cell_type": "code",
   "execution_count": 4,
   "metadata": {},
   "outputs": [],
   "source": [
    "watched_movie_id_list = ['70286', '109487', '589']\n"
   ]
  },
  {
   "cell_type": "code",
   "execution_count": 5,
   "metadata": {},
   "outputs": [
    {
     "name": "stderr",
     "output_type": "stream",
     "text": [
      "/opt/conda/lib/python3.8/site-packages/pandas/core/indexing.py:1596: SettingWithCopyWarning: \n",
      "A value is trying to be set on a copy of a slice from a DataFrame.\n",
      "Try using .loc[row_indexer,col_indexer] = value instead\n",
      "\n",
      "See the caveats in the documentation: https://pandas.pydata.org/pandas-docs/stable/user_guide/indexing.html#returning-a-view-versus-a-copy\n",
      "  self.obj[key] = _infer_fill_value(value)\n",
      "/opt/conda/lib/python3.8/site-packages/pandas/core/indexing.py:1743: SettingWithCopyWarning: \n",
      "A value is trying to be set on a copy of a slice from a DataFrame.\n",
      "Try using .loc[row_indexer,col_indexer] = value instead\n",
      "\n",
      "See the caveats in the documentation: https://pandas.pydata.org/pandas-docs/stable/user_guide/indexing.html#returning-a-view-versus-a-copy\n",
      "  isetter(ilocs[0], value)\n"
     ]
    },
    {
     "name": "stdout",
     "output_type": "stream",
     "text": [
      "Number of users: 610, Number of Movies: 9721, Min rating: 0.5, Max rating: 5.0\n"
     ]
    },
    {
     "data": {
      "text/html": [
       "<div>\n",
       "<style scoped>\n",
       "    .dataframe tbody tr th:only-of-type {\n",
       "        vertical-align: middle;\n",
       "    }\n",
       "\n",
       "    .dataframe tbody tr th {\n",
       "        vertical-align: top;\n",
       "    }\n",
       "\n",
       "    .dataframe thead th {\n",
       "        text-align: right;\n",
       "    }\n",
       "</style>\n",
       "<table border=\"1\" class=\"dataframe\">\n",
       "  <thead>\n",
       "    <tr style=\"text-align: right;\">\n",
       "      <th></th>\n",
       "      <th>index</th>\n",
       "      <th>movieId</th>\n",
       "      <th>title</th>\n",
       "      <th>genres</th>\n",
       "      <th>fake_id</th>\n",
       "    </tr>\n",
       "  </thead>\n",
       "  <tbody>\n",
       "    <tr>\n",
       "      <th>3939</th>\n",
       "      <td>3939</td>\n",
       "      <td>5540</td>\n",
       "      <td>Clash of the Titans (1981)</td>\n",
       "      <td>Action|Adventure|Fantasy|Romance</td>\n",
       "      <td>1</td>\n",
       "    </tr>\n",
       "    <tr>\n",
       "      <th>3942</th>\n",
       "      <td>3942</td>\n",
       "      <td>5544</td>\n",
       "      <td>Time After Time (1979)</td>\n",
       "      <td>Sci-Fi|Thriller</td>\n",
       "      <td>1</td>\n",
       "    </tr>\n",
       "    <tr>\n",
       "      <th>3943</th>\n",
       "      <td>3943</td>\n",
       "      <td>5548</td>\n",
       "      <td>Down and Out in Beverly Hills (1986)</td>\n",
       "      <td>Comedy</td>\n",
       "      <td>1</td>\n",
       "    </tr>\n",
       "    <tr>\n",
       "      <th>3947</th>\n",
       "      <td>3947</td>\n",
       "      <td>5560</td>\n",
       "      <td>À nous la liberté (Freedom for Us) (1931)</td>\n",
       "      <td>Comedy|Musical</td>\n",
       "      <td>1</td>\n",
       "    </tr>\n",
       "    <tr>\n",
       "      <th>3951</th>\n",
       "      <td>3951</td>\n",
       "      <td>5568</td>\n",
       "      <td>Johnny Dangerously (1984)</td>\n",
       "      <td>Comedy</td>\n",
       "      <td>1</td>\n",
       "    </tr>\n",
       "    <tr>\n",
       "      <th>3953</th>\n",
       "      <td>3953</td>\n",
       "      <td>5570</td>\n",
       "      <td>Thesis (Tesis) (1996)</td>\n",
       "      <td>Drama|Horror|Thriller</td>\n",
       "      <td>1</td>\n",
       "    </tr>\n",
       "    <tr>\n",
       "      <th>3964</th>\n",
       "      <td>3964</td>\n",
       "      <td>5588</td>\n",
       "      <td>Hills Have Eyes, The (1977)</td>\n",
       "      <td>Horror</td>\n",
       "      <td>1</td>\n",
       "    </tr>\n",
       "    <tr>\n",
       "      <th>7470</th>\n",
       "      <td>7470</td>\n",
       "      <td>81949</td>\n",
       "      <td>Romantics, The (2010)</td>\n",
       "      <td>Comedy|Drama|Romance</td>\n",
       "      <td>1</td>\n",
       "    </tr>\n",
       "    <tr>\n",
       "      <th>7477</th>\n",
       "      <td>7477</td>\n",
       "      <td>82167</td>\n",
       "      <td>Love and Other Drugs (2010)</td>\n",
       "      <td>Comedy|Drama|Romance</td>\n",
       "      <td>1</td>\n",
       "    </tr>\n",
       "    <tr>\n",
       "      <th>7486</th>\n",
       "      <td>7486</td>\n",
       "      <td>82527</td>\n",
       "      <td>Barney's Version (2010)</td>\n",
       "      <td>Drama</td>\n",
       "      <td>1</td>\n",
       "    </tr>\n",
       "  </tbody>\n",
       "</table>\n",
       "</div>"
      ],
      "text/plain": [
       "      index  movieId                                      title  \\\n",
       "3939   3939     5540                 Clash of the Titans (1981)   \n",
       "3942   3942     5544                     Time After Time (1979)   \n",
       "3943   3943     5548       Down and Out in Beverly Hills (1986)   \n",
       "3947   3947     5560  À nous la liberté (Freedom for Us) (1931)   \n",
       "3951   3951     5568                  Johnny Dangerously (1984)   \n",
       "3953   3953     5570                      Thesis (Tesis) (1996)   \n",
       "3964   3964     5588                Hills Have Eyes, The (1977)   \n",
       "7470   7470    81949                      Romantics, The (2010)   \n",
       "7477   7477    82167                Love and Other Drugs (2010)   \n",
       "7486   7486    82527                    Barney's Version (2010)   \n",
       "\n",
       "                                genres  fake_id  \n",
       "3939  Action|Adventure|Fantasy|Romance        1  \n",
       "3942                   Sci-Fi|Thriller        1  \n",
       "3943                            Comedy        1  \n",
       "3947                    Comedy|Musical        1  \n",
       "3951                            Comedy        1  \n",
       "3953             Drama|Horror|Thriller        1  \n",
       "3964                            Horror        1  \n",
       "7470              Comedy|Drama|Romance        1  \n",
       "7477              Comedy|Drama|Romance        1  \n",
       "7486                             Drama        1  "
      ]
     },
     "execution_count": 5,
     "metadata": {},
     "output_type": "execute_result"
    }
   ],
   "source": [
    "import numpy as np\n",
    "\n",
    "movie_id_unique = 'SELECT * FROM movies'\n",
    "all_movies = pd.read_sql(movie_id_unique, engine)\n",
    "\n",
    "#remove the input movies from all_movies\n",
    "movies_not_watched = all_movies[~all_movies['movieId'].isin(watched_movie_id_list)]\n",
    "movies_not_watched.loc[:,'fake_id'] = np.ones(len(movies_not_watched), dtype =int)\n",
    "\n",
    "#get all_ratings from sqlite\n",
    "query = 'SELECT \"userId\", ratings.\"movieId\", movies.title, rating FROM ratings JOIN movies ON ratings.\"movieId\" = movies.\"movieId\";'\n",
    "all_ratings = pd.read_sql(query, engine)\n",
    "\n",
    "#remove the watched movies from all_ratings\n",
    "not_all_ratings = all_ratings[~all_ratings['movieId'].isin(watched_movie_id_list)]\n",
    "\n",
    "#remove movieId and ratings of the watched movies???\n",
    "movieindex = not_all_ratings['movieId'].unique().tolist()\n",
    "dl_movie2movie_encoded = {x: i for i, x in enumerate(movieindex)}\n",
    "dl_movie_encoded2movie = {i: x for i, x in enumerate(movieindex)}\n",
    "\n",
    "not_all_ratings.loc[:,\"movie\"] = not_all_ratings[\"movieId\"].map(dl_movie2movie_encoded)\n",
    "not_all_ratings.loc[:,\"rating\"] = not_all_ratings[\"rating\"].values.astype(np.float32)\n",
    "\n",
    "#map userId from ?? to not_all_ratings ?? what do i do with the users??\n",
    "\n",
    "not_all_user_ids = not_all_ratings[\"userId\"].unique().tolist()\n",
    "dl_user2user_encoded = {x: i for i, x in enumerate(not_all_user_ids)}\n",
    "dl_userencoded2user = {i: x for i, x in enumerate(not_all_user_ids)}\n",
    "\n",
    "not_all_ratings.loc[:,\"user\"] = not_all_ratings[\"userId\"].map(dl_user2user_encoded)\n",
    "\n",
    "min_rating = min(not_all_ratings[\"rating\"])\n",
    "max_rating = max(not_all_ratings[\"rating\"])\n",
    "num_users = len(dl_user2user_encoded)\n",
    "num_movies = len(dl_movie_encoded2movie)\n",
    "print(\n",
    "        \"Number of users: {}, Number of Movies: {}, Min rating: {}, Max rating: {}\".format(\n",
    "            num_users, num_movies, min_rating, max_rating\n",
    "        )\n",
    "    )\n",
    "\n",
    "#define training data\n",
    "df = not_all_ratings.sample(frac=1, random_state=42)\n",
    "x = not_all_ratings[[\"user\", \"movie\"]].values\n",
    "\n",
    "    # Normalize the targets between 0 and 1. Makes it easy to train.\n",
    "y = not_all_ratings[\"rating\"].apply(lambda x: (x - min_rating) / (max_rating - min_rating)).values\n",
    "    # Assuming training on 90% of the data and validating on 10%.\n",
    "train_indices = int(0.9 * df.shape[0])\n",
    "x_train, x_val, y_train, y_val = (\n",
    "        x[:train_indices],\n",
    "        x[train_indices:],\n",
    "        y[:train_indices],\n",
    "        y[train_indices:],\n",
    "    )\n",
    "\n",
    "#inference\n",
    "user_movie_array = movies_not_watched[['fake_id','index']]\n",
    "max_movie_index = user_movie_array['index'].max()\n",
    "that = user_movie_array.to_numpy()\n",
    "\n",
    "EMBEDDING_SIZE = 50\n",
    "\n",
    "import tensorflow as tf\n",
    "from tensorflow import keras\n",
    "from tensorflow.keras import layers\n",
    "\n",
    "class RecommenderNet(keras.Model):\n",
    "        def __init__(self, num_users, num_movies, embedding_size, **kwargs):\n",
    "            super(RecommenderNet, self).__init__(**kwargs)\n",
    "            self.num_users = num_users\n",
    "            self.num_movies = num_movies\n",
    "            self.embedding_size = embedding_size\n",
    "            self.user_embedding = layers.Embedding(\n",
    "                num_users,\n",
    "                embedding_size,\n",
    "                embeddings_initializer=\"he_normal\",\n",
    "                embeddings_regularizer=keras.regularizers.l2(1e-6),\n",
    "            )\n",
    "            self.user_bias = layers.Embedding(num_users, 1)\n",
    "            self.movie_embedding = layers.Embedding(\n",
    "            #change this line from num_movies to max_movie_index+1\n",
    "                max_movie_index+1,\n",
    "                embedding_size,\n",
    "                embeddings_initializer=\"he_normal\",\n",
    "                embeddings_regularizer=keras.regularizers.l2(1e-6),\n",
    "            )\n",
    "            #and this line (input_dim)\n",
    "            self.movie_bias = layers.Embedding(max_movie_index+1, 1)\n",
    "\n",
    "        def call(self, inputs):\n",
    "            user_vector = self.user_embedding(inputs[:, 0])\n",
    "            user_bias = self.user_bias(inputs[:, 0])\n",
    "            movie_vector = self.movie_embedding(inputs[:, 1])\n",
    "            movie_bias = self.movie_bias(inputs[:, 1])\n",
    "            dot_user_movie = tf.tensordot(user_vector, movie_vector, 2)\n",
    "            # Add all the components (including bias)\n",
    "            x = dot_user_movie + user_bias + movie_bias\n",
    "            # The sigmoid activation forces the rating to between 0 and 1\n",
    "            return tf.nn.sigmoid(x)\n",
    "\n",
    "\n",
    "model = RecommenderNet(num_users, num_movies, EMBEDDING_SIZE)\n",
    "model.compile(\n",
    "        loss=tf.keras.losses.BinaryCrossentropy(), optimizer=keras.optimizers.Adam(lr=0.001)\n",
    "    )\n",
    "ratings = model.predict(that).flatten()\n",
    "\n",
    "top_ratings_indices = ratings.argsort()[-10:][::-1]\n",
    "movies_not_watched.loc[movies_not_watched['index'].isin(top_ratings_indices)]"
   ]
  },
  {
   "cell_type": "code",
   "execution_count": null,
   "metadata": {},
   "outputs": [],
   "source": []
  },
  {
   "cell_type": "code",
   "execution_count": 5,
   "metadata": {},
   "outputs": [
    {
     "data": {
      "text/plain": [
       "array([8126, 8106, 3169, 3185, 3967, 3193, 4821, 6703, 6688, 3952])"
      ]
     },
     "execution_count": 5,
     "metadata": {},
     "output_type": "execute_result"
    }
   ],
   "source": [
    "top_ratings_indices #old prediction"
   ]
  },
  {
   "cell_type": "code",
   "execution_count": 6,
   "metadata": {},
   "outputs": [
    {
     "data": {
      "text/plain": [
       "array([3951, 3942, 3943, 3947, 3953, 7477, 3964, 3939, 7486, 7470])"
      ]
     },
     "execution_count": 6,
     "metadata": {},
     "output_type": "execute_result"
    }
   ],
   "source": [
    "top_ratings_indices #new prediction 1st reload "
   ]
  },
  {
   "cell_type": "code",
   "execution_count": 7,
   "metadata": {},
   "outputs": [
    {
     "data": {
      "text/plain": [
       "array([0.5231022 , 0.5083985 , 0.5073241 , ..., 0.49293852, 0.50677276,\n",
       "       0.5109573 ], dtype=float32)"
      ]
     },
     "execution_count": 7,
     "metadata": {},
     "output_type": "execute_result"
    }
   ],
   "source": [
    "ratings"
   ]
  },
  {
   "cell_type": "code",
   "execution_count": 9,
   "metadata": {},
   "outputs": [
    {
     "data": {
      "text/plain": [
       "array([0.5384421, 0.538124 , 0.5374536, 0.5366338, 0.5365766, 0.5364874,\n",
       "       0.5363341, 0.5361857, 0.5359144, 0.5355231], dtype=float32)"
      ]
     },
     "execution_count": 9,
     "metadata": {},
     "output_type": "execute_result"
    }
   ],
   "source": [
    "ratings[top_ratings_indices]"
   ]
  },
  {
   "cell_type": "code",
   "execution_count": 10,
   "metadata": {},
   "outputs": [
    {
     "name": "stderr",
     "output_type": "stream",
     "text": [
      "/opt/conda/lib/python3.8/site-packages/pandas/core/indexing.py:1596: SettingWithCopyWarning: \n",
      "A value is trying to be set on a copy of a slice from a DataFrame.\n",
      "Try using .loc[row_indexer,col_indexer] = value instead\n",
      "\n",
      "See the caveats in the documentation: https://pandas.pydata.org/pandas-docs/stable/user_guide/indexing.html#returning-a-view-versus-a-copy\n",
      "  self.obj[key] = _infer_fill_value(value)\n",
      "/opt/conda/lib/python3.8/site-packages/pandas/core/indexing.py:1743: SettingWithCopyWarning: \n",
      "A value is trying to be set on a copy of a slice from a DataFrame.\n",
      "Try using .loc[row_indexer,col_indexer] = value instead\n",
      "\n",
      "See the caveats in the documentation: https://pandas.pydata.org/pandas-docs/stable/user_guide/indexing.html#returning-a-view-versus-a-copy\n",
      "  isetter(ilocs[0], value)\n"
     ]
    },
    {
     "data": {
      "text/plain": [
       "0       0.523102\n",
       "1       0.508398\n",
       "2       0.507324\n",
       "3       0.510240\n",
       "4       0.517798\n",
       "          ...   \n",
       "9737    0.502514\n",
       "9738    0.501018\n",
       "9739    0.492939\n",
       "9740    0.506773\n",
       "9741    0.510957\n",
       "Name: prediction, Length: 9739, dtype: float32"
      ]
     },
     "execution_count": 10,
     "metadata": {},
     "output_type": "execute_result"
    }
   ],
   "source": [
    "movies_not_watched.loc[:,'prediction'] = ratings\n",
    "movies_not_watched.loc[:,'prediction']"
   ]
  },
  {
   "cell_type": "code",
   "execution_count": 11,
   "metadata": {},
   "outputs": [
    {
     "data": {
      "text/html": [
       "<div>\n",
       "<style scoped>\n",
       "    .dataframe tbody tr th:only-of-type {\n",
       "        vertical-align: middle;\n",
       "    }\n",
       "\n",
       "    .dataframe tbody tr th {\n",
       "        vertical-align: top;\n",
       "    }\n",
       "\n",
       "    .dataframe thead th {\n",
       "        text-align: right;\n",
       "    }\n",
       "</style>\n",
       "<table border=\"1\" class=\"dataframe\">\n",
       "  <thead>\n",
       "    <tr style=\"text-align: right;\">\n",
       "      <th></th>\n",
       "      <th>index</th>\n",
       "      <th>movieId</th>\n",
       "      <th>title</th>\n",
       "      <th>genres</th>\n",
       "      <th>fake_id</th>\n",
       "      <th>prediction</th>\n",
       "    </tr>\n",
       "  </thead>\n",
       "  <tbody>\n",
       "    <tr>\n",
       "      <th>0</th>\n",
       "      <td>0</td>\n",
       "      <td>1</td>\n",
       "      <td>Toy Story (1995)</td>\n",
       "      <td>Adventure|Animation|Children|Comedy|Fantasy</td>\n",
       "      <td>1</td>\n",
       "      <td>0.523102</td>\n",
       "    </tr>\n",
       "    <tr>\n",
       "      <th>1</th>\n",
       "      <td>1</td>\n",
       "      <td>2</td>\n",
       "      <td>Jumanji (1995)</td>\n",
       "      <td>Adventure|Children|Fantasy</td>\n",
       "      <td>1</td>\n",
       "      <td>0.508398</td>\n",
       "    </tr>\n",
       "    <tr>\n",
       "      <th>2</th>\n",
       "      <td>2</td>\n",
       "      <td>3</td>\n",
       "      <td>Grumpier Old Men (1995)</td>\n",
       "      <td>Comedy|Romance</td>\n",
       "      <td>1</td>\n",
       "      <td>0.507324</td>\n",
       "    </tr>\n",
       "    <tr>\n",
       "      <th>3</th>\n",
       "      <td>3</td>\n",
       "      <td>4</td>\n",
       "      <td>Waiting to Exhale (1995)</td>\n",
       "      <td>Comedy|Drama|Romance</td>\n",
       "      <td>1</td>\n",
       "      <td>0.510240</td>\n",
       "    </tr>\n",
       "    <tr>\n",
       "      <th>4</th>\n",
       "      <td>4</td>\n",
       "      <td>5</td>\n",
       "      <td>Father of the Bride Part II (1995)</td>\n",
       "      <td>Comedy</td>\n",
       "      <td>1</td>\n",
       "      <td>0.517798</td>\n",
       "    </tr>\n",
       "    <tr>\n",
       "      <th>...</th>\n",
       "      <td>...</td>\n",
       "      <td>...</td>\n",
       "      <td>...</td>\n",
       "      <td>...</td>\n",
       "      <td>...</td>\n",
       "      <td>...</td>\n",
       "    </tr>\n",
       "    <tr>\n",
       "      <th>9737</th>\n",
       "      <td>9737</td>\n",
       "      <td>193581</td>\n",
       "      <td>Black Butler: Book of the Atlantic (2017)</td>\n",
       "      <td>Action|Animation|Comedy|Fantasy</td>\n",
       "      <td>1</td>\n",
       "      <td>0.502514</td>\n",
       "    </tr>\n",
       "    <tr>\n",
       "      <th>9738</th>\n",
       "      <td>9738</td>\n",
       "      <td>193583</td>\n",
       "      <td>No Game No Life: Zero (2017)</td>\n",
       "      <td>Animation|Comedy|Fantasy</td>\n",
       "      <td>1</td>\n",
       "      <td>0.501018</td>\n",
       "    </tr>\n",
       "    <tr>\n",
       "      <th>9739</th>\n",
       "      <td>9739</td>\n",
       "      <td>193585</td>\n",
       "      <td>Flint (2017)</td>\n",
       "      <td>Drama</td>\n",
       "      <td>1</td>\n",
       "      <td>0.492939</td>\n",
       "    </tr>\n",
       "    <tr>\n",
       "      <th>9740</th>\n",
       "      <td>9740</td>\n",
       "      <td>193587</td>\n",
       "      <td>Bungo Stray Dogs: Dead Apple (2018)</td>\n",
       "      <td>Action|Animation</td>\n",
       "      <td>1</td>\n",
       "      <td>0.506773</td>\n",
       "    </tr>\n",
       "    <tr>\n",
       "      <th>9741</th>\n",
       "      <td>9741</td>\n",
       "      <td>193609</td>\n",
       "      <td>Andrew Dice Clay: Dice Rules (1991)</td>\n",
       "      <td>Comedy</td>\n",
       "      <td>1</td>\n",
       "      <td>0.510957</td>\n",
       "    </tr>\n",
       "  </tbody>\n",
       "</table>\n",
       "<p>9739 rows × 6 columns</p>\n",
       "</div>"
      ],
      "text/plain": [
       "      index  movieId                                      title  \\\n",
       "0         0        1                           Toy Story (1995)   \n",
       "1         1        2                             Jumanji (1995)   \n",
       "2         2        3                    Grumpier Old Men (1995)   \n",
       "3         3        4                   Waiting to Exhale (1995)   \n",
       "4         4        5         Father of the Bride Part II (1995)   \n",
       "...     ...      ...                                        ...   \n",
       "9737   9737   193581  Black Butler: Book of the Atlantic (2017)   \n",
       "9738   9738   193583               No Game No Life: Zero (2017)   \n",
       "9739   9739   193585                               Flint (2017)   \n",
       "9740   9740   193587        Bungo Stray Dogs: Dead Apple (2018)   \n",
       "9741   9741   193609        Andrew Dice Clay: Dice Rules (1991)   \n",
       "\n",
       "                                           genres  fake_id  prediction  \n",
       "0     Adventure|Animation|Children|Comedy|Fantasy        1    0.523102  \n",
       "1                      Adventure|Children|Fantasy        1    0.508398  \n",
       "2                                  Comedy|Romance        1    0.507324  \n",
       "3                            Comedy|Drama|Romance        1    0.510240  \n",
       "4                                          Comedy        1    0.517798  \n",
       "...                                           ...      ...         ...  \n",
       "9737              Action|Animation|Comedy|Fantasy        1    0.502514  \n",
       "9738                     Animation|Comedy|Fantasy        1    0.501018  \n",
       "9739                                        Drama        1    0.492939  \n",
       "9740                             Action|Animation        1    0.506773  \n",
       "9741                                       Comedy        1    0.510957  \n",
       "\n",
       "[9739 rows x 6 columns]"
      ]
     },
     "execution_count": 11,
     "metadata": {},
     "output_type": "execute_result"
    }
   ],
   "source": [
    "movies_not_watched"
   ]
  },
  {
   "cell_type": "code",
   "execution_count": 12,
   "metadata": {},
   "outputs": [
    {
     "data": {
      "text/html": [
       "<div>\n",
       "<style scoped>\n",
       "    .dataframe tbody tr th:only-of-type {\n",
       "        vertical-align: middle;\n",
       "    }\n",
       "\n",
       "    .dataframe tbody tr th {\n",
       "        vertical-align: top;\n",
       "    }\n",
       "\n",
       "    .dataframe thead th {\n",
       "        text-align: right;\n",
       "    }\n",
       "</style>\n",
       "<table border=\"1\" class=\"dataframe\">\n",
       "  <thead>\n",
       "    <tr style=\"text-align: right;\">\n",
       "      <th></th>\n",
       "      <th>index</th>\n",
       "      <th>movieId</th>\n",
       "      <th>title</th>\n",
       "      <th>genres</th>\n",
       "      <th>fake_id</th>\n",
       "      <th>prediction</th>\n",
       "    </tr>\n",
       "  </thead>\n",
       "  <tbody>\n",
       "    <tr>\n",
       "      <th>3939</th>\n",
       "      <td>3939</td>\n",
       "      <td>5540</td>\n",
       "      <td>Clash of the Titans (1981)</td>\n",
       "      <td>Action|Adventure|Fantasy|Romance</td>\n",
       "      <td>1</td>\n",
       "      <td>0.517522</td>\n",
       "    </tr>\n",
       "    <tr>\n",
       "      <th>3942</th>\n",
       "      <td>3942</td>\n",
       "      <td>5544</td>\n",
       "      <td>Time After Time (1979)</td>\n",
       "      <td>Sci-Fi|Thriller</td>\n",
       "      <td>1</td>\n",
       "      <td>0.520491</td>\n",
       "    </tr>\n",
       "    <tr>\n",
       "      <th>3943</th>\n",
       "      <td>3943</td>\n",
       "      <td>5548</td>\n",
       "      <td>Down and Out in Beverly Hills (1986)</td>\n",
       "      <td>Comedy</td>\n",
       "      <td>1</td>\n",
       "      <td>0.538124</td>\n",
       "    </tr>\n",
       "    <tr>\n",
       "      <th>3947</th>\n",
       "      <td>3947</td>\n",
       "      <td>5560</td>\n",
       "      <td>À nous la liberté (Freedom for Us) (1931)</td>\n",
       "      <td>Comedy|Musical</td>\n",
       "      <td>1</td>\n",
       "      <td>0.531005</td>\n",
       "    </tr>\n",
       "    <tr>\n",
       "      <th>3951</th>\n",
       "      <td>3951</td>\n",
       "      <td>5568</td>\n",
       "      <td>Johnny Dangerously (1984)</td>\n",
       "      <td>Comedy</td>\n",
       "      <td>1</td>\n",
       "      <td>0.521620</td>\n",
       "    </tr>\n",
       "    <tr>\n",
       "      <th>3953</th>\n",
       "      <td>3953</td>\n",
       "      <td>5570</td>\n",
       "      <td>Thesis (Tesis) (1996)</td>\n",
       "      <td>Drama|Horror|Thriller</td>\n",
       "      <td>1</td>\n",
       "      <td>0.533560</td>\n",
       "    </tr>\n",
       "    <tr>\n",
       "      <th>3964</th>\n",
       "      <td>3964</td>\n",
       "      <td>5588</td>\n",
       "      <td>Hills Have Eyes, The (1977)</td>\n",
       "      <td>Horror</td>\n",
       "      <td>1</td>\n",
       "      <td>0.535407</td>\n",
       "    </tr>\n",
       "    <tr>\n",
       "      <th>7470</th>\n",
       "      <td>7470</td>\n",
       "      <td>81949</td>\n",
       "      <td>Romantics, The (2010)</td>\n",
       "      <td>Comedy|Drama|Romance</td>\n",
       "      <td>1</td>\n",
       "      <td>0.534779</td>\n",
       "    </tr>\n",
       "    <tr>\n",
       "      <th>7477</th>\n",
       "      <td>7477</td>\n",
       "      <td>82167</td>\n",
       "      <td>Love and Other Drugs (2010)</td>\n",
       "      <td>Comedy|Drama|Romance</td>\n",
       "      <td>1</td>\n",
       "      <td>0.527826</td>\n",
       "    </tr>\n",
       "    <tr>\n",
       "      <th>7486</th>\n",
       "      <td>7486</td>\n",
       "      <td>82527</td>\n",
       "      <td>Barney's Version (2010)</td>\n",
       "      <td>Drama</td>\n",
       "      <td>1</td>\n",
       "      <td>0.527384</td>\n",
       "    </tr>\n",
       "  </tbody>\n",
       "</table>\n",
       "</div>"
      ],
      "text/plain": [
       "      index  movieId                                      title  \\\n",
       "3939   3939     5540                 Clash of the Titans (1981)   \n",
       "3942   3942     5544                     Time After Time (1979)   \n",
       "3943   3943     5548       Down and Out in Beverly Hills (1986)   \n",
       "3947   3947     5560  À nous la liberté (Freedom for Us) (1931)   \n",
       "3951   3951     5568                  Johnny Dangerously (1984)   \n",
       "3953   3953     5570                      Thesis (Tesis) (1996)   \n",
       "3964   3964     5588                Hills Have Eyes, The (1977)   \n",
       "7470   7470    81949                      Romantics, The (2010)   \n",
       "7477   7477    82167                Love and Other Drugs (2010)   \n",
       "7486   7486    82527                    Barney's Version (2010)   \n",
       "\n",
       "                                genres  fake_id  prediction  \n",
       "3939  Action|Adventure|Fantasy|Romance        1    0.517522  \n",
       "3942                   Sci-Fi|Thriller        1    0.520491  \n",
       "3943                            Comedy        1    0.538124  \n",
       "3947                    Comedy|Musical        1    0.531005  \n",
       "3951                            Comedy        1    0.521620  \n",
       "3953             Drama|Horror|Thriller        1    0.533560  \n",
       "3964                            Horror        1    0.535407  \n",
       "7470              Comedy|Drama|Romance        1    0.534779  \n",
       "7477              Comedy|Drama|Romance        1    0.527826  \n",
       "7486                             Drama        1    0.527384  "
      ]
     },
     "execution_count": 12,
     "metadata": {},
     "output_type": "execute_result"
    }
   ],
   "source": [
    "movies_not_watched.loc[movies_not_watched['index'].isin(top_ratings_indices)]"
   ]
  },
  {
   "cell_type": "code",
   "execution_count": 13,
   "metadata": {},
   "outputs": [
    {
     "data": {
      "text/plain": [
       "array([3951, 3942, 3943, 3947, 3953, 7477, 3964, 3939, 7486, 7470])"
      ]
     },
     "execution_count": 13,
     "metadata": {},
     "output_type": "execute_result"
    }
   ],
   "source": [
    "top_ratings_indices #new prediction 1st reload "
   ]
  },
  {
   "cell_type": "code",
   "execution_count": 28,
   "metadata": {},
   "outputs": [
    {
     "data": {
      "text/plain": [
       "array([0.5384421, 0.538124 , 0.5374536, 0.5366338, 0.5365766, 0.5364874,\n",
       "       0.5363341, 0.5361857, 0.5359144, 0.5355231], dtype=float32)"
      ]
     },
     "execution_count": 28,
     "metadata": {},
     "output_type": "execute_result"
    }
   ],
   "source": [
    "ratings[top_ratings_indices]"
   ]
  },
  {
   "cell_type": "code",
   "execution_count": 14,
   "metadata": {},
   "outputs": [
    {
     "data": {
      "text/plain": [
       "3951"
      ]
     },
     "execution_count": 14,
     "metadata": {},
     "output_type": "execute_result"
    }
   ],
   "source": [
    "movies_not_watched['prediction'].argmax()"
   ]
  },
  {
   "cell_type": "code",
   "execution_count": 15,
   "metadata": {},
   "outputs": [
    {
     "data": {
      "text/plain": [
       "'Johnny Dangerously (1984)'"
      ]
     },
     "execution_count": 15,
     "metadata": {},
     "output_type": "execute_result"
    }
   ],
   "source": [
    "movies_not_watched['title'][3951]"
   ]
  },
  {
   "cell_type": "code",
   "execution_count": null,
   "metadata": {},
   "outputs": [],
   "source": []
  },
  {
   "cell_type": "code",
   "execution_count": 16,
   "metadata": {},
   "outputs": [
    {
     "data": {
      "text/plain": [
       "0.538442075252533"
      ]
     },
     "execution_count": 16,
     "metadata": {},
     "output_type": "execute_result"
    }
   ],
   "source": [
    "movies_not_watched['prediction'].max()"
   ]
  },
  {
   "cell_type": "code",
   "execution_count": null,
   "metadata": {},
   "outputs": [],
   "source": []
  },
  {
   "cell_type": "code",
   "execution_count": 27,
   "metadata": {},
   "outputs": [
    {
     "data": {
      "text/html": [
       "<div>\n",
       "<style scoped>\n",
       "    .dataframe tbody tr th:only-of-type {\n",
       "        vertical-align: middle;\n",
       "    }\n",
       "\n",
       "    .dataframe tbody tr th {\n",
       "        vertical-align: top;\n",
       "    }\n",
       "\n",
       "    .dataframe thead th {\n",
       "        text-align: right;\n",
       "    }\n",
       "</style>\n",
       "<table border=\"1\" class=\"dataframe\">\n",
       "  <thead>\n",
       "    <tr style=\"text-align: right;\">\n",
       "      <th></th>\n",
       "      <th>index</th>\n",
       "      <th>movieId</th>\n",
       "      <th>title</th>\n",
       "      <th>genres</th>\n",
       "      <th>fake_id</th>\n",
       "      <th>prediction</th>\n",
       "    </tr>\n",
       "  </thead>\n",
       "  <tbody>\n",
       "    <tr>\n",
       "      <th>3952</th>\n",
       "      <td>3952</td>\n",
       "      <td>5569</td>\n",
       "      <td>Last House on the Left, The (1972)</td>\n",
       "      <td>Crime|Horror|Thriller</td>\n",
       "      <td>1</td>\n",
       "      <td>0.538442</td>\n",
       "    </tr>\n",
       "  </tbody>\n",
       "</table>\n",
       "</div>"
      ],
      "text/plain": [
       "      index  movieId                               title  \\\n",
       "3952   3952     5569  Last House on the Left, The (1972)   \n",
       "\n",
       "                     genres  fake_id  prediction  \n",
       "3952  Crime|Horror|Thriller        1    0.538442  "
      ]
     },
     "execution_count": 27,
     "metadata": {},
     "output_type": "execute_result"
    }
   ],
   "source": [
    "movies_not_watched[movies_not_watched['prediction'] == 0.538442075252533]"
   ]
  },
  {
   "cell_type": "code",
   "execution_count": null,
   "metadata": {},
   "outputs": [],
   "source": []
  },
  {
   "cell_type": "code",
   "execution_count": null,
   "metadata": {},
   "outputs": [],
   "source": [
    "# อ๋อออออออออ แม่งดิ๊ฟกันอยู่บรรทัดนึง สาดดดดดดดด\n",
    "3951, 3952\n",
    "\n",
    "movies_not_watched['title'][3951] #'Johnny Dangerously (1984)' Comedy\n",
    "\n",
    "3952 \t5569 \tLast House on the Left, The (1972) \tCrime|Horror|Thriller \t1 \t0.538442\n"
   ]
  },
  {
   "cell_type": "code",
   "execution_count": null,
   "metadata": {},
   "outputs": [],
   "source": [
    "วางเขย่งไปบรรทัดนึง แม่ง sci-fi ออกมาเป็น romantic comedy หมดเลย"
   ]
  },
  {
   "cell_type": "code",
   "execution_count": null,
   "metadata": {},
   "outputs": [],
   "source": [
    "ฉะนั้น เราก็ต้องเลื่อนให้ top_ratings_indices มันถอยไป?\n",
    "หรือไม่ก็ให้ recom_movie_titles มันแสดงให้ถูก"
   ]
  },
  {
   "cell_type": "code",
   "execution_count": 29,
   "metadata": {},
   "outputs": [
    {
     "data": {
      "text/html": [
       "<div>\n",
       "<style scoped>\n",
       "    .dataframe tbody tr th:only-of-type {\n",
       "        vertical-align: middle;\n",
       "    }\n",
       "\n",
       "    .dataframe tbody tr th {\n",
       "        vertical-align: top;\n",
       "    }\n",
       "\n",
       "    .dataframe thead th {\n",
       "        text-align: right;\n",
       "    }\n",
       "</style>\n",
       "<table border=\"1\" class=\"dataframe\">\n",
       "  <thead>\n",
       "    <tr style=\"text-align: right;\">\n",
       "      <th></th>\n",
       "      <th>index</th>\n",
       "      <th>movieId</th>\n",
       "      <th>title</th>\n",
       "      <th>genres</th>\n",
       "      <th>fake_id</th>\n",
       "      <th>prediction</th>\n",
       "    </tr>\n",
       "  </thead>\n",
       "  <tbody>\n",
       "    <tr>\n",
       "      <th>0</th>\n",
       "      <td>0</td>\n",
       "      <td>1</td>\n",
       "      <td>Toy Story (1995)</td>\n",
       "      <td>Adventure|Animation|Children|Comedy|Fantasy</td>\n",
       "      <td>1</td>\n",
       "      <td>0.523102</td>\n",
       "    </tr>\n",
       "    <tr>\n",
       "      <th>1</th>\n",
       "      <td>1</td>\n",
       "      <td>2</td>\n",
       "      <td>Jumanji (1995)</td>\n",
       "      <td>Adventure|Children|Fantasy</td>\n",
       "      <td>1</td>\n",
       "      <td>0.508398</td>\n",
       "    </tr>\n",
       "    <tr>\n",
       "      <th>2</th>\n",
       "      <td>2</td>\n",
       "      <td>3</td>\n",
       "      <td>Grumpier Old Men (1995)</td>\n",
       "      <td>Comedy|Romance</td>\n",
       "      <td>1</td>\n",
       "      <td>0.507324</td>\n",
       "    </tr>\n",
       "    <tr>\n",
       "      <th>3</th>\n",
       "      <td>3</td>\n",
       "      <td>4</td>\n",
       "      <td>Waiting to Exhale (1995)</td>\n",
       "      <td>Comedy|Drama|Romance</td>\n",
       "      <td>1</td>\n",
       "      <td>0.510240</td>\n",
       "    </tr>\n",
       "    <tr>\n",
       "      <th>4</th>\n",
       "      <td>4</td>\n",
       "      <td>5</td>\n",
       "      <td>Father of the Bride Part II (1995)</td>\n",
       "      <td>Comedy</td>\n",
       "      <td>1</td>\n",
       "      <td>0.517798</td>\n",
       "    </tr>\n",
       "    <tr>\n",
       "      <th>...</th>\n",
       "      <td>...</td>\n",
       "      <td>...</td>\n",
       "      <td>...</td>\n",
       "      <td>...</td>\n",
       "      <td>...</td>\n",
       "      <td>...</td>\n",
       "    </tr>\n",
       "    <tr>\n",
       "      <th>9737</th>\n",
       "      <td>9737</td>\n",
       "      <td>193581</td>\n",
       "      <td>Black Butler: Book of the Atlantic (2017)</td>\n",
       "      <td>Action|Animation|Comedy|Fantasy</td>\n",
       "      <td>1</td>\n",
       "      <td>0.502514</td>\n",
       "    </tr>\n",
       "    <tr>\n",
       "      <th>9738</th>\n",
       "      <td>9738</td>\n",
       "      <td>193583</td>\n",
       "      <td>No Game No Life: Zero (2017)</td>\n",
       "      <td>Animation|Comedy|Fantasy</td>\n",
       "      <td>1</td>\n",
       "      <td>0.501018</td>\n",
       "    </tr>\n",
       "    <tr>\n",
       "      <th>9739</th>\n",
       "      <td>9739</td>\n",
       "      <td>193585</td>\n",
       "      <td>Flint (2017)</td>\n",
       "      <td>Drama</td>\n",
       "      <td>1</td>\n",
       "      <td>0.492939</td>\n",
       "    </tr>\n",
       "    <tr>\n",
       "      <th>9740</th>\n",
       "      <td>9740</td>\n",
       "      <td>193587</td>\n",
       "      <td>Bungo Stray Dogs: Dead Apple (2018)</td>\n",
       "      <td>Action|Animation</td>\n",
       "      <td>1</td>\n",
       "      <td>0.506773</td>\n",
       "    </tr>\n",
       "    <tr>\n",
       "      <th>9741</th>\n",
       "      <td>9741</td>\n",
       "      <td>193609</td>\n",
       "      <td>Andrew Dice Clay: Dice Rules (1991)</td>\n",
       "      <td>Comedy</td>\n",
       "      <td>1</td>\n",
       "      <td>0.510957</td>\n",
       "    </tr>\n",
       "  </tbody>\n",
       "</table>\n",
       "<p>9739 rows × 6 columns</p>\n",
       "</div>"
      ],
      "text/plain": [
       "      index  movieId                                      title  \\\n",
       "0         0        1                           Toy Story (1995)   \n",
       "1         1        2                             Jumanji (1995)   \n",
       "2         2        3                    Grumpier Old Men (1995)   \n",
       "3         3        4                   Waiting to Exhale (1995)   \n",
       "4         4        5         Father of the Bride Part II (1995)   \n",
       "...     ...      ...                                        ...   \n",
       "9737   9737   193581  Black Butler: Book of the Atlantic (2017)   \n",
       "9738   9738   193583               No Game No Life: Zero (2017)   \n",
       "9739   9739   193585                               Flint (2017)   \n",
       "9740   9740   193587        Bungo Stray Dogs: Dead Apple (2018)   \n",
       "9741   9741   193609        Andrew Dice Clay: Dice Rules (1991)   \n",
       "\n",
       "                                           genres  fake_id  prediction  \n",
       "0     Adventure|Animation|Children|Comedy|Fantasy        1    0.523102  \n",
       "1                      Adventure|Children|Fantasy        1    0.508398  \n",
       "2                                  Comedy|Romance        1    0.507324  \n",
       "3                            Comedy|Drama|Romance        1    0.510240  \n",
       "4                                          Comedy        1    0.517798  \n",
       "...                                           ...      ...         ...  \n",
       "9737              Action|Animation|Comedy|Fantasy        1    0.502514  \n",
       "9738                     Animation|Comedy|Fantasy        1    0.501018  \n",
       "9739                                        Drama        1    0.492939  \n",
       "9740                             Action|Animation        1    0.506773  \n",
       "9741                                       Comedy        1    0.510957  \n",
       "\n",
       "[9739 rows x 6 columns]"
      ]
     },
     "execution_count": 29,
     "metadata": {},
     "output_type": "execute_result"
    }
   ],
   "source": [
    "movies_not_watched"
   ]
  },
  {
   "cell_type": "code",
   "execution_count": null,
   "metadata": {},
   "outputs": [],
   "source": []
  },
  {
   "cell_type": "code",
   "execution_count": 31,
   "metadata": {},
   "outputs": [
    {
     "data": {
      "text/plain": [
       "index                                       3952\n",
       "movieId                                     5569\n",
       "title         Last House on the Left, The (1972)\n",
       "genres                     Crime|Horror|Thriller\n",
       "fake_id                                        1\n",
       "prediction                              0.538442\n",
       "Name: 3952, dtype: object"
      ]
     },
     "execution_count": 31,
     "metadata": {},
     "output_type": "execute_result"
    }
   ],
   "source": [
    "movies_not_watched.loc[3952]"
   ]
  },
  {
   "cell_type": "code",
   "execution_count": null,
   "metadata": {},
   "outputs": [],
   "source": [
    "movies_not_watched.loc[movies_not_watched['index'].isin(top_ratings_indices)]"
   ]
  },
  {
   "cell_type": "code",
   "execution_count": null,
   "metadata": {},
   "outputs": [],
   "source": [
    "array([3951, 3942, 3943, 3947, 3953, 7477, 3964, 3939, 7486, 7470])\n",
    "top_ratings_indices ผิดเต็มๆเลยนะที่ไ่ม่ได้ 3952 แต่ได้ 3951 มาแทน ทำไมล่ะ\n",
    "\n",
    "array([3952, 3943, 3944, 3948, 3954, 7478, 3965, 3940, 7487, 7471])\n",
    "แต่ละ item ให้เพิ่มเข้าไปอีกหนึ่งfor i in top_ratings_indices: i+1\n",
    "ืnew_indices = i+1 for i in top_ratings_indices\n",
    "\n",
    "เสร็จแล้วค่อยเอาไปใส่ใน movies_not_watched\n",
    "ถึงจะได้บรรทัดที่ถูกต้องมา แล้วค่อยมาเรียก\n",
    "movies_not_watched['title'] ดู\n",
    "movies_not_watched[new_indices]\n",
    "ถึงจะได้ recommended movies ที่ถูกต้องย่ะ\n"
   ]
  },
  {
   "cell_type": "code",
   "execution_count": null,
   "metadata": {},
   "outputs": [],
   "source": [
    "สรุปว่าบรรทัดนี้ผิดเว้ย\n",
    "top_ratings_indices = ratings.argsort()[-10:][::-1]\n"
   ]
  },
  {
   "cell_type": "code",
   "execution_count": 32,
   "metadata": {},
   "outputs": [
    {
     "data": {
      "text/plain": [
       "array([6496, 8224, 6520, ..., 3943, 3942, 3951])"
      ]
     },
     "execution_count": 32,
     "metadata": {},
     "output_type": "execute_result"
    }
   ],
   "source": [
    "ratings.argsort()"
   ]
  },
  {
   "cell_type": "code",
   "execution_count": 33,
   "metadata": {},
   "outputs": [
    {
     "data": {
      "text/plain": [
       "array([0.5231022 , 0.5083985 , 0.5073241 , ..., 0.49293852, 0.50677276,\n",
       "       0.5109573 ], dtype=float32)"
      ]
     },
     "execution_count": 33,
     "metadata": {},
     "output_type": "execute_result"
    }
   ],
   "source": [
    "ratings"
   ]
  },
  {
   "cell_type": "code",
   "execution_count": 34,
   "metadata": {},
   "outputs": [
    {
     "data": {
      "text/plain": [
       "0.5384421"
      ]
     },
     "execution_count": 34,
     "metadata": {},
     "output_type": "execute_result"
    }
   ],
   "source": [
    "ratings.max()"
   ]
  },
  {
   "cell_type": "code",
   "execution_count": 85,
   "metadata": {},
   "outputs": [
    {
     "ename": "IndexError",
     "evalue": "invalid index to scalar variable.",
     "output_type": "error",
     "traceback": [
      "\u001b[0;31m---------------------------------------------------------------------------\u001b[0m",
      "\u001b[0;31mIndexError\u001b[0m                                Traceback (most recent call last)",
      "\u001b[0;32m<ipython-input-85-46f9d1141c57>\u001b[0m in \u001b[0;36m<module>\u001b[0;34m\u001b[0m\n\u001b[0;32m----> 1\u001b[0;31m \u001b[0mratings\u001b[0m\u001b[0;34m.\u001b[0m\u001b[0mmax\u001b[0m\u001b[0;34m(\u001b[0m\u001b[0;34m)\u001b[0m\u001b[0;34m[\u001b[0m\u001b[0;34m:\u001b[0m\u001b[0;34m-\u001b[0m\u001b[0;36m10\u001b[0m\u001b[0;34m]\u001b[0m\u001b[0;34m\u001b[0m\u001b[0;34m\u001b[0m\u001b[0m\n\u001b[0m",
      "\u001b[0;31mIndexError\u001b[0m: invalid index to scalar variable."
     ]
    }
   ],
   "source": [
    "ratings.max()"
   ]
  },
  {
   "cell_type": "code",
   "execution_count": null,
   "metadata": {},
   "outputs": [],
   "source": [
    "a[a.argsort()[-10:]]"
   ]
  },
  {
   "cell_type": "code",
   "execution_count": 87,
   "metadata": {},
   "outputs": [
    {
     "data": {
      "text/plain": [
       "array([0.5355231, 0.5359144, 0.5361857, 0.5363341, 0.5364874, 0.5365766,\n",
       "       0.5366338, 0.5374536, 0.538124 , 0.5384421], dtype=float32)"
      ]
     },
     "execution_count": 87,
     "metadata": {},
     "output_type": "execute_result"
    }
   ],
   "source": [
    "ratings[ratings.argsort()[-10:]]"
   ]
  },
  {
   "cell_type": "code",
   "execution_count": 88,
   "metadata": {},
   "outputs": [
    {
     "data": {
      "text/plain": [
       "array([0.5384421, 0.538124 , 0.5374536, 0.5366338, 0.5365766, 0.5364874,\n",
       "       0.5363341, 0.5361857, 0.5359144, 0.5355231], dtype=float32)"
      ]
     },
     "execution_count": 88,
     "metadata": {},
     "output_type": "execute_result"
    }
   ],
   "source": [
    "ratings[ratings.argsort()[-10:]][::-1] #เอาค่ามาถึงจะถูก"
   ]
  },
  {
   "cell_type": "code",
   "execution_count": 89,
   "metadata": {},
   "outputs": [
    {
     "data": {
      "text/plain": [
       "array([3951, 3942, 3943, 3947, 3953, 7477, 3964, 3939, 7486, 7470])"
      ]
     },
     "execution_count": 89,
     "metadata": {},
     "output_type": "execute_result"
    }
   ],
   "source": [
    "ratings.argsort()[-10:][::-1] #ถ้าเอา argsorted index มาผิด\n"
   ]
  },
  {
   "cell_type": "code",
   "execution_count": 86,
   "metadata": {},
   "outputs": [
    {
     "data": {
      "text/plain": [
       "3951"
      ]
     },
     "execution_count": 86,
     "metadata": {},
     "output_type": "execute_result"
    }
   ],
   "source": [
    "ratings.argmax()"
   ]
  },
  {
   "cell_type": "code",
   "execution_count": 40,
   "metadata": {},
   "outputs": [
    {
     "data": {
      "text/plain": [
       "(9739,)"
      ]
     },
     "execution_count": 40,
     "metadata": {},
     "output_type": "execute_result"
    }
   ],
   "source": [
    "ratings.shape"
   ]
  },
  {
   "cell_type": "code",
   "execution_count": 41,
   "metadata": {},
   "outputs": [
    {
     "data": {
      "text/plain": [
       "1"
      ]
     },
     "execution_count": 41,
     "metadata": {},
     "output_type": "execute_result"
    }
   ],
   "source": [
    "ratings.ndim"
   ]
  },
  {
   "cell_type": "code",
   "execution_count": 42,
   "metadata": {},
   "outputs": [
    {
     "data": {
      "text/plain": [
       "9739"
      ]
     },
     "execution_count": 42,
     "metadata": {},
     "output_type": "execute_result"
    }
   ],
   "source": [
    "ratings.size"
   ]
  },
  {
   "cell_type": "code",
   "execution_count": null,
   "metadata": {},
   "outputs": [],
   "source": [
    "np.partition(k.flatten(), -2)[-2]"
   ]
  },
  {
   "cell_type": "code",
   "execution_count": 90,
   "metadata": {},
   "outputs": [],
   "source": [
    "ratings.sort()"
   ]
  },
  {
   "cell_type": "code",
   "execution_count": 94,
   "metadata": {},
   "outputs": [
    {
     "data": {
      "text/plain": [
       "array([0.46736526, 0.46841902, 0.46861622, ..., 0.5374536 , 0.538124  ,\n",
       "       0.5384421 ], dtype=float32)"
      ]
     },
     "execution_count": 94,
     "metadata": {},
     "output_type": "execute_result"
    }
   ],
   "source": [
    "ratings"
   ]
  },
  {
   "cell_type": "code",
   "execution_count": 99,
   "metadata": {},
   "outputs": [
    {
     "data": {
      "text/plain": [
       "array([0.5355231, 0.5359144, 0.5361857, 0.5363341, 0.5364874, 0.5365766,\n",
       "       0.5366338, 0.5374536, 0.538124 , 0.5384421], dtype=float32)"
      ]
     },
     "execution_count": 99,
     "metadata": {},
     "output_type": "execute_result"
    }
   ],
   "source": [
    "ratings[-10:] #แบบนี้ก็ได้ แต่ต้อง sort ratings ก่อน"
   ]
  },
  {
   "cell_type": "code",
   "execution_count": 104,
   "metadata": {},
   "outputs": [],
   "source": [
    "highest_score = ratings[ratings.argsort()[-10:]][::-1] #เอาค่ามาถึงจะถูก"
   ]
  },
  {
   "cell_type": "code",
   "execution_count": 105,
   "metadata": {},
   "outputs": [
    {
     "data": {
      "text/plain": [
       "array([0.5384421, 0.538124 , 0.5374536, 0.5366338, 0.5365766, 0.5364874,\n",
       "       0.5363341, 0.5361857, 0.5359144, 0.5355231], dtype=float32)"
      ]
     },
     "execution_count": 105,
     "metadata": {},
     "output_type": "execute_result"
    }
   ],
   "source": [
    "highest_score"
   ]
  },
  {
   "cell_type": "code",
   "execution_count": 109,
   "metadata": {},
   "outputs": [
    {
     "data": {
      "text/html": [
       "<div>\n",
       "<style scoped>\n",
       "    .dataframe tbody tr th:only-of-type {\n",
       "        vertical-align: middle;\n",
       "    }\n",
       "\n",
       "    .dataframe tbody tr th {\n",
       "        vertical-align: top;\n",
       "    }\n",
       "\n",
       "    .dataframe thead th {\n",
       "        text-align: right;\n",
       "    }\n",
       "</style>\n",
       "<table border=\"1\" class=\"dataframe\">\n",
       "  <thead>\n",
       "    <tr style=\"text-align: right;\">\n",
       "      <th></th>\n",
       "      <th>index</th>\n",
       "      <th>movieId</th>\n",
       "      <th>title</th>\n",
       "      <th>genres</th>\n",
       "      <th>fake_id</th>\n",
       "      <th>prediction</th>\n",
       "    </tr>\n",
       "  </thead>\n",
       "  <tbody>\n",
       "    <tr>\n",
       "      <th>3940</th>\n",
       "      <td>3940</td>\n",
       "      <td>5541</td>\n",
       "      <td>Hot Shots! (1991)</td>\n",
       "      <td>Action|Comedy|Romance|War</td>\n",
       "      <td>1</td>\n",
       "      <td>0.536186</td>\n",
       "    </tr>\n",
       "    <tr>\n",
       "      <th>3943</th>\n",
       "      <td>3943</td>\n",
       "      <td>5548</td>\n",
       "      <td>Down and Out in Beverly Hills (1986)</td>\n",
       "      <td>Comedy</td>\n",
       "      <td>1</td>\n",
       "      <td>0.538124</td>\n",
       "    </tr>\n",
       "    <tr>\n",
       "      <th>3944</th>\n",
       "      <td>3944</td>\n",
       "      <td>5550</td>\n",
       "      <td>Love Me Tender (1956)</td>\n",
       "      <td>Musical|Western</td>\n",
       "      <td>1</td>\n",
       "      <td>0.537454</td>\n",
       "    </tr>\n",
       "    <tr>\n",
       "      <th>3948</th>\n",
       "      <td>3948</td>\n",
       "      <td>5562</td>\n",
       "      <td>Snipes (2001)</td>\n",
       "      <td>Drama|Thriller</td>\n",
       "      <td>1</td>\n",
       "      <td>0.536634</td>\n",
       "    </tr>\n",
       "    <tr>\n",
       "      <th>3952</th>\n",
       "      <td>3952</td>\n",
       "      <td>5569</td>\n",
       "      <td>Last House on the Left, The (1972)</td>\n",
       "      <td>Crime|Horror|Thriller</td>\n",
       "      <td>1</td>\n",
       "      <td>0.538442</td>\n",
       "    </tr>\n",
       "    <tr>\n",
       "      <th>3954</th>\n",
       "      <td>3954</td>\n",
       "      <td>5572</td>\n",
       "      <td>Barbershop (2002)</td>\n",
       "      <td>Comedy</td>\n",
       "      <td>1</td>\n",
       "      <td>0.536577</td>\n",
       "    </tr>\n",
       "    <tr>\n",
       "      <th>3965</th>\n",
       "      <td>3965</td>\n",
       "      <td>5589</td>\n",
       "      <td>Indian Summer (1993)</td>\n",
       "      <td>Comedy|Drama</td>\n",
       "      <td>1</td>\n",
       "      <td>0.536334</td>\n",
       "    </tr>\n",
       "    <tr>\n",
       "      <th>7472</th>\n",
       "      <td>7472</td>\n",
       "      <td>82053</td>\n",
       "      <td>Casino Jack (2010)</td>\n",
       "      <td>Comedy|Crime</td>\n",
       "      <td>1</td>\n",
       "      <td>0.535523</td>\n",
       "    </tr>\n",
       "    <tr>\n",
       "      <th>7479</th>\n",
       "      <td>7479</td>\n",
       "      <td>82202</td>\n",
       "      <td>Tourist, The (2010)</td>\n",
       "      <td>Drama|Thriller</td>\n",
       "      <td>1</td>\n",
       "      <td>0.536487</td>\n",
       "    </tr>\n",
       "    <tr>\n",
       "      <th>7488</th>\n",
       "      <td>7488</td>\n",
       "      <td>82641</td>\n",
       "      <td>One-Armed Swordsman, The (Dubei dao) (1967)</td>\n",
       "      <td>Action|Drama</td>\n",
       "      <td>1</td>\n",
       "      <td>0.535914</td>\n",
       "    </tr>\n",
       "  </tbody>\n",
       "</table>\n",
       "</div>"
      ],
      "text/plain": [
       "      index  movieId                                        title  \\\n",
       "3940   3940     5541                            Hot Shots! (1991)   \n",
       "3943   3943     5548         Down and Out in Beverly Hills (1986)   \n",
       "3944   3944     5550                        Love Me Tender (1956)   \n",
       "3948   3948     5562                                Snipes (2001)   \n",
       "3952   3952     5569           Last House on the Left, The (1972)   \n",
       "3954   3954     5572                            Barbershop (2002)   \n",
       "3965   3965     5589                         Indian Summer (1993)   \n",
       "7472   7472    82053                           Casino Jack (2010)   \n",
       "7479   7479    82202                          Tourist, The (2010)   \n",
       "7488   7488    82641  One-Armed Swordsman, The (Dubei dao) (1967)   \n",
       "\n",
       "                         genres  fake_id  prediction  \n",
       "3940  Action|Comedy|Romance|War        1    0.536186  \n",
       "3943                     Comedy        1    0.538124  \n",
       "3944            Musical|Western        1    0.537454  \n",
       "3948             Drama|Thriller        1    0.536634  \n",
       "3952      Crime|Horror|Thriller        1    0.538442  \n",
       "3954                     Comedy        1    0.536577  \n",
       "3965               Comedy|Drama        1    0.536334  \n",
       "7472               Comedy|Crime        1    0.535523  \n",
       "7479             Drama|Thriller        1    0.536487  \n",
       "7488               Action|Drama        1    0.535914  "
      ]
     },
     "execution_count": 109,
     "metadata": {},
     "output_type": "execute_result"
    }
   ],
   "source": [
    "movies_not_watched.loc[movies_not_watched['prediction'].isin(highest_score)] ##wuuuhuuuuwww"
   ]
  },
  {
   "cell_type": "code",
   "execution_count": null,
   "metadata": {},
   "outputs": [],
   "source": []
  },
  {
   "cell_type": "code",
   "execution_count": null,
   "metadata": {},
   "outputs": [],
   "source": []
  },
  {
   "cell_type": "code",
   "execution_count": null,
   "metadata": {},
   "outputs": [],
   "source": []
  },
  {
   "cell_type": "code",
   "execution_count": 45,
   "metadata": {},
   "outputs": [
    {
     "data": {
      "text/plain": [
       "index                           3942\n",
       "movieId                         5544\n",
       "title         Time After Time (1979)\n",
       "genres               Sci-Fi|Thriller\n",
       "fake_id                            1\n",
       "prediction                  0.520491\n",
       "Name: 3942, dtype: object"
      ]
     },
     "execution_count": 45,
     "metadata": {},
     "output_type": "execute_result"
    }
   ],
   "source": [
    "movies_not_watched.loc[3942]"
   ]
  },
  {
   "cell_type": "code",
   "execution_count": 46,
   "metadata": {},
   "outputs": [
    {
     "data": {
      "text/plain": [
       "index                          3944\n",
       "movieId                        5550\n",
       "title         Love Me Tender (1956)\n",
       "genres              Musical|Western\n",
       "fake_id                           1\n",
       "prediction                 0.537454\n",
       "Name: 3944, dtype: object"
      ]
     },
     "execution_count": 46,
     "metadata": {},
     "output_type": "execute_result"
    }
   ],
   "source": [
    "movies_not_watched.loc[3944]"
   ]
  },
  {
   "cell_type": "code",
   "execution_count": 47,
   "metadata": {},
   "outputs": [
    {
     "data": {
      "text/plain": [
       "index                   3948\n",
       "movieId                 5562\n",
       "title          Snipes (2001)\n",
       "genres        Drama|Thriller\n",
       "fake_id                    1\n",
       "prediction          0.536634\n",
       "Name: 3948, dtype: object"
      ]
     },
     "execution_count": 47,
     "metadata": {},
     "output_type": "execute_result"
    }
   ],
   "source": [
    "movies_not_watched.loc[3948]"
   ]
  },
  {
   "cell_type": "code",
   "execution_count": null,
   "metadata": {},
   "outputs": [],
   "source": [
    "array([0.5384421, 0.538124 , 0.5374536, 0.5366338, 0.5365766, 0.5364874,\n",
    "       0.5363341, 0.5361857, 0.5359144, 0.5355231], dtype=float32)"
   ]
  },
  {
   "cell_type": "code",
   "execution_count": null,
   "metadata": {},
   "outputs": [],
   "source": []
  },
  {
   "cell_type": "code",
   "execution_count": null,
   "metadata": {},
   "outputs": [],
   "source": []
  },
  {
   "cell_type": "code",
   "execution_count": null,
   "metadata": {},
   "outputs": [],
   "source": [
    "3943 \t3943 \t5548 \tDown and Out in Beverly Hills (1986) \tComedy \t1 \t0.538124"
   ]
  },
  {
   "cell_type": "code",
   "execution_count": 48,
   "metadata": {},
   "outputs": [
    {
     "data": {
      "text/plain": [
       "index                                         3943\n",
       "movieId                                       5548\n",
       "title         Down and Out in Beverly Hills (1986)\n",
       "genres                                      Comedy\n",
       "fake_id                                          1\n",
       "prediction                                0.538124\n",
       "Name: 3943, dtype: object"
      ]
     },
     "execution_count": 48,
     "metadata": {},
     "output_type": "execute_result"
    }
   ],
   "source": [
    "movies_not_watched.loc[3943]"
   ]
  },
  {
   "cell_type": "code",
   "execution_count": null,
   "metadata": {},
   "outputs": [],
   "source": []
  },
  {
   "cell_type": "code",
   "execution_count": 52,
   "metadata": {},
   "outputs": [
    {
     "data": {
      "text/html": [
       "<div>\n",
       "<style scoped>\n",
       "    .dataframe tbody tr th:only-of-type {\n",
       "        vertical-align: middle;\n",
       "    }\n",
       "\n",
       "    .dataframe tbody tr th {\n",
       "        vertical-align: top;\n",
       "    }\n",
       "\n",
       "    .dataframe thead th {\n",
       "        text-align: right;\n",
       "    }\n",
       "</style>\n",
       "<table border=\"1\" class=\"dataframe\">\n",
       "  <thead>\n",
       "    <tr style=\"text-align: right;\">\n",
       "      <th></th>\n",
       "      <th>index</th>\n",
       "      <th>movieId</th>\n",
       "      <th>title</th>\n",
       "      <th>genres</th>\n",
       "      <th>fake_id</th>\n",
       "      <th>prediction</th>\n",
       "    </tr>\n",
       "  </thead>\n",
       "  <tbody>\n",
       "    <tr>\n",
       "      <th>3944</th>\n",
       "      <td>3944</td>\n",
       "      <td>5550</td>\n",
       "      <td>Love Me Tender (1956)</td>\n",
       "      <td>Musical|Western</td>\n",
       "      <td>1</td>\n",
       "      <td>0.537454</td>\n",
       "    </tr>\n",
       "  </tbody>\n",
       "</table>\n",
       "</div>"
      ],
      "text/plain": [
       "      index  movieId                  title           genres  fake_id  \\\n",
       "3944   3944     5550  Love Me Tender (1956)  Musical|Western        1   \n",
       "\n",
       "      prediction  \n",
       "3944    0.537454  "
      ]
     },
     "execution_count": 52,
     "metadata": {},
     "output_type": "execute_result"
    }
   ],
   "source": [
    "movies_not_watched[movies_not_watched['prediction'] == 0.5374536]"
   ]
  },
  {
   "cell_type": "code",
   "execution_count": 53,
   "metadata": {},
   "outputs": [
    {
     "data": {
      "text/plain": [
       "index                                  3945\n",
       "movieId                                5553\n",
       "title                       Stakeout (1987)\n",
       "genres        Comedy|Crime|Romance|Thriller\n",
       "fake_id                                   1\n",
       "prediction                         0.528735\n",
       "Name: 3945, dtype: object"
      ]
     },
     "execution_count": 53,
     "metadata": {},
     "output_type": "execute_result"
    }
   ],
   "source": [
    "movies_not_watched.loc[3945]"
   ]
  },
  {
   "cell_type": "code",
   "execution_count": 54,
   "metadata": {},
   "outputs": [
    {
     "data": {
      "text/html": [
       "<div>\n",
       "<style scoped>\n",
       "    .dataframe tbody tr th:only-of-type {\n",
       "        vertical-align: middle;\n",
       "    }\n",
       "\n",
       "    .dataframe tbody tr th {\n",
       "        vertical-align: top;\n",
       "    }\n",
       "\n",
       "    .dataframe thead th {\n",
       "        text-align: right;\n",
       "    }\n",
       "</style>\n",
       "<table border=\"1\" class=\"dataframe\">\n",
       "  <thead>\n",
       "    <tr style=\"text-align: right;\">\n",
       "      <th></th>\n",
       "      <th>index</th>\n",
       "      <th>movieId</th>\n",
       "      <th>title</th>\n",
       "      <th>genres</th>\n",
       "      <th>fake_id</th>\n",
       "      <th>prediction</th>\n",
       "    </tr>\n",
       "  </thead>\n",
       "  <tbody>\n",
       "    <tr>\n",
       "      <th>3948</th>\n",
       "      <td>3948</td>\n",
       "      <td>5562</td>\n",
       "      <td>Snipes (2001)</td>\n",
       "      <td>Drama|Thriller</td>\n",
       "      <td>1</td>\n",
       "      <td>0.536634</td>\n",
       "    </tr>\n",
       "  </tbody>\n",
       "</table>\n",
       "</div>"
      ],
      "text/plain": [
       "      index  movieId          title          genres  fake_id  prediction\n",
       "3948   3948     5562  Snipes (2001)  Drama|Thriller        1    0.536634"
      ]
     },
     "execution_count": 54,
     "metadata": {},
     "output_type": "execute_result"
    }
   ],
   "source": [
    "movies_not_watched[movies_not_watched['prediction'] == 0.5366338]"
   ]
  },
  {
   "cell_type": "code",
   "execution_count": 55,
   "metadata": {},
   "outputs": [
    {
     "data": {
      "text/plain": [
       "index                      3954\n",
       "movieId                    5572\n",
       "title         Barbershop (2002)\n",
       "genres                   Comedy\n",
       "fake_id                       1\n",
       "prediction             0.536577\n",
       "Name: 3954, dtype: object"
      ]
     },
     "execution_count": 55,
     "metadata": {},
     "output_type": "execute_result"
    }
   ],
   "source": [
    "movies_not_watched.loc[3954]"
   ]
  },
  {
   "cell_type": "code",
   "execution_count": 56,
   "metadata": {},
   "outputs": [
    {
     "data": {
      "text/plain": [
       "index                              3940\n",
       "movieId                            5541\n",
       "title                 Hot Shots! (1991)\n",
       "genres        Action|Comedy|Romance|War\n",
       "fake_id                               1\n",
       "prediction                     0.536186\n",
       "Name: 3940, dtype: object"
      ]
     },
     "execution_count": 56,
     "metadata": {},
     "output_type": "execute_result"
    }
   ],
   "source": [
    "movies_not_watched.loc[3940]"
   ]
  },
  {
   "cell_type": "code",
   "execution_count": 57,
   "metadata": {},
   "outputs": [
    {
     "data": {
      "text/plain": [
       "index                                                      7478\n",
       "movieId                                                   82169\n",
       "title         Chronicles of Narnia: The Voyage of the Dawn T...\n",
       "genres                               Adventure|Children|Fantasy\n",
       "fake_id                                                       1\n",
       "prediction                                              0.51369\n",
       "Name: 7478, dtype: object"
      ]
     },
     "execution_count": 57,
     "metadata": {},
     "output_type": "execute_result"
    }
   ],
   "source": [
    "movies_not_watched.loc[7478]"
   ]
  },
  {
   "cell_type": "code",
   "execution_count": 82,
   "metadata": {},
   "outputs": [
    {
     "data": {
      "text/plain": [
       "index                        7479\n",
       "movieId                     82202\n",
       "title         Tourist, The (2010)\n",
       "genres             Drama|Thriller\n",
       "fake_id                         1\n",
       "prediction               0.536487\n",
       "Name: 7479, dtype: object"
      ]
     },
     "execution_count": 82,
     "metadata": {},
     "output_type": "execute_result"
    }
   ],
   "source": [
    "movies_not_watched.loc[7479]"
   ]
  },
  {
   "cell_type": "code",
   "execution_count": null,
   "metadata": {},
   "outputs": [],
   "source": []
  },
  {
   "cell_type": "code",
   "execution_count": 58,
   "metadata": {},
   "outputs": [
    {
     "data": {
      "text/plain": [
       "array([3951, 3942, 3943, 3947, 3953, 7477, 3964, 3939, 7486, 7470])"
      ]
     },
     "execution_count": 58,
     "metadata": {},
     "output_type": "execute_result"
    }
   ],
   "source": [
    "top_ratings_indices"
   ]
  },
  {
   "cell_type": "code",
   "execution_count": 64,
   "metadata": {},
   "outputs": [
    {
     "ename": "SyntaxError",
     "evalue": "invalid syntax (<ipython-input-64-4d380cae6d4d>, line 1)",
     "output_type": "error",
     "traceback": [
      "\u001b[0;36m  File \u001b[0;32m\"<ipython-input-64-4d380cae6d4d>\"\u001b[0;36m, line \u001b[0;32m1\u001b[0m\n\u001b[0;31m    new_indices = i+1: i in top_ratings_indices\u001b[0m\n\u001b[0m                     ^\u001b[0m\n\u001b[0;31mSyntaxError\u001b[0m\u001b[0;31m:\u001b[0m invalid syntax\n"
     ]
    }
   ],
   "source": [
    "new_indices = i+1: i in top_ratings_indices"
   ]
  },
  {
   "cell_type": "code",
   "execution_count": null,
   "metadata": {},
   "outputs": [],
   "source": [
    ">>> _list[:]=[i+1 for i in _list]"
   ]
  },
  {
   "cell_type": "code",
   "execution_count": 69,
   "metadata": {},
   "outputs": [],
   "source": [
    "top_ratings_indices[:]=[i+1 for i in top_ratings_indices]"
   ]
  },
  {
   "cell_type": "code",
   "execution_count": 70,
   "metadata": {},
   "outputs": [
    {
     "data": {
      "text/plain": [
       "array([3952, 3943, 3944, 3948, 3954, 7478, 3965, 3940, 7487, 7471])"
      ]
     },
     "execution_count": 70,
     "metadata": {},
     "output_type": "execute_result"
    }
   ],
   "source": [
    "top_ratings_indices #เปลี่ยน inplace ไปแล้วนะ"
   ]
  },
  {
   "cell_type": "code",
   "execution_count": null,
   "metadata": {},
   "outputs": [],
   "source": [
    ">>> list(map(lambda x: x + 1, mylist))"
   ]
  },
  {
   "cell_type": "code",
   "execution_count": 66,
   "metadata": {},
   "outputs": [
    {
     "data": {
      "text/plain": [
       "[3952, 3943, 3944, 3948, 3954, 7478, 3965, 3940, 7487, 7471]"
      ]
     },
     "execution_count": 66,
     "metadata": {},
     "output_type": "execute_result"
    }
   ],
   "source": [
    "list(map(lambda x: x + 1, top_ratings_indices))\n",
    "#ตอนกดอันนี้ยังไม่โดน inplace"
   ]
  },
  {
   "cell_type": "code",
   "execution_count": null,
   "metadata": {},
   "outputs": [],
   "source": []
  },
  {
   "cell_type": "code",
   "execution_count": null,
   "metadata": {},
   "outputs": [],
   "source": [
    "x+1 for x in mylist"
   ]
  },
  {
   "cell_type": "code",
   "execution_count": 65,
   "metadata": {},
   "outputs": [
    {
     "ename": "SyntaxError",
     "evalue": "invalid syntax (<ipython-input-65-9a6d74c123d7>, line 1)",
     "output_type": "error",
     "traceback": [
      "\u001b[0;36m  File \u001b[0;32m\"<ipython-input-65-9a6d74c123d7>\"\u001b[0;36m, line \u001b[0;32m1\u001b[0m\n\u001b[0;31m    x+1 for x in top_ratings_indices\u001b[0m\n\u001b[0m        ^\u001b[0m\n\u001b[0;31mSyntaxError\u001b[0m\u001b[0;31m:\u001b[0m invalid syntax\n"
     ]
    }
   ],
   "source": [
    "x+1 for x in top_ratings_indices"
   ]
  },
  {
   "cell_type": "code",
   "execution_count": 67,
   "metadata": {},
   "outputs": [
    {
     "data": {
      "text/plain": [
       "array([3951, 3942, 3943, 3947, 3953, 7477, 3964, 3939, 7486, 7470])"
      ]
     },
     "execution_count": 67,
     "metadata": {},
     "output_type": "execute_result"
    }
   ],
   "source": [
    "top_ratings_indices #old"
   ]
  },
  {
   "cell_type": "code",
   "execution_count": 71,
   "metadata": {},
   "outputs": [
    {
     "data": {
      "text/plain": [
       "array([3952, 3943, 3944, 3948, 3954, 7478, 3965, 3940, 7487, 7471])"
      ]
     },
     "execution_count": 71,
     "metadata": {},
     "output_type": "execute_result"
    }
   ],
   "source": [
    "top_ratings_indices #new after +1"
   ]
  },
  {
   "cell_type": "code",
   "execution_count": 74,
   "metadata": {},
   "outputs": [
    {
     "data": {
      "text/plain": [
       "3952                   Last House on the Left, The (1972)\n",
       "3943                 Down and Out in Beverly Hills (1986)\n",
       "3944                                Love Me Tender (1956)\n",
       "3948                                        Snipes (2001)\n",
       "3954                                    Barbershop (2002)\n",
       "7478    Chronicles of Narnia: The Voyage of the Dawn T...\n",
       "3965                                 Indian Summer (1993)\n",
       "3940                                    Hot Shots! (1991)\n",
       "7487                              Company Men, The (2010)\n",
       "7471                               Loved Ones, The (2009)\n",
       "Name: title, dtype: object"
      ]
     },
     "execution_count": 74,
     "metadata": {},
     "output_type": "execute_result"
    }
   ],
   "source": [
    "movies_not_watched['title'][top_ratings_indices]"
   ]
  },
  {
   "cell_type": "code",
   "execution_count": 75,
   "metadata": {},
   "outputs": [
    {
     "data": {
      "text/plain": [
       "3952         Crime|Horror|Thriller\n",
       "3943                        Comedy\n",
       "3944               Musical|Western\n",
       "3948                Drama|Thriller\n",
       "3954                        Comedy\n",
       "7478    Adventure|Children|Fantasy\n",
       "3965                  Comedy|Drama\n",
       "3940     Action|Comedy|Romance|War\n",
       "7487                         Drama\n",
       "7471                        Horror\n",
       "Name: genres, dtype: object"
      ]
     },
     "execution_count": 75,
     "metadata": {},
     "output_type": "execute_result"
    }
   ],
   "source": [
    "movies_not_watched['genres'][top_ratings_indices]"
   ]
  },
  {
   "cell_type": "code",
   "execution_count": 76,
   "metadata": {},
   "outputs": [
    {
     "data": {
      "text/html": [
       "<div>\n",
       "<style scoped>\n",
       "    .dataframe tbody tr th:only-of-type {\n",
       "        vertical-align: middle;\n",
       "    }\n",
       "\n",
       "    .dataframe tbody tr th {\n",
       "        vertical-align: top;\n",
       "    }\n",
       "\n",
       "    .dataframe thead th {\n",
       "        text-align: right;\n",
       "    }\n",
       "</style>\n",
       "<table border=\"1\" class=\"dataframe\">\n",
       "  <thead>\n",
       "    <tr style=\"text-align: right;\">\n",
       "      <th></th>\n",
       "      <th>index</th>\n",
       "      <th>movieId</th>\n",
       "      <th>title</th>\n",
       "      <th>genres</th>\n",
       "      <th>fake_id</th>\n",
       "      <th>prediction</th>\n",
       "    </tr>\n",
       "  </thead>\n",
       "  <tbody>\n",
       "    <tr>\n",
       "      <th>3940</th>\n",
       "      <td>3940</td>\n",
       "      <td>5541</td>\n",
       "      <td>Hot Shots! (1991)</td>\n",
       "      <td>Action|Comedy|Romance|War</td>\n",
       "      <td>1</td>\n",
       "      <td>0.536186</td>\n",
       "    </tr>\n",
       "    <tr>\n",
       "      <th>3943</th>\n",
       "      <td>3943</td>\n",
       "      <td>5548</td>\n",
       "      <td>Down and Out in Beverly Hills (1986)</td>\n",
       "      <td>Comedy</td>\n",
       "      <td>1</td>\n",
       "      <td>0.538124</td>\n",
       "    </tr>\n",
       "    <tr>\n",
       "      <th>3944</th>\n",
       "      <td>3944</td>\n",
       "      <td>5550</td>\n",
       "      <td>Love Me Tender (1956)</td>\n",
       "      <td>Musical|Western</td>\n",
       "      <td>1</td>\n",
       "      <td>0.537454</td>\n",
       "    </tr>\n",
       "    <tr>\n",
       "      <th>3948</th>\n",
       "      <td>3948</td>\n",
       "      <td>5562</td>\n",
       "      <td>Snipes (2001)</td>\n",
       "      <td>Drama|Thriller</td>\n",
       "      <td>1</td>\n",
       "      <td>0.536634</td>\n",
       "    </tr>\n",
       "    <tr>\n",
       "      <th>3952</th>\n",
       "      <td>3952</td>\n",
       "      <td>5569</td>\n",
       "      <td>Last House on the Left, The (1972)</td>\n",
       "      <td>Crime|Horror|Thriller</td>\n",
       "      <td>1</td>\n",
       "      <td>0.538442</td>\n",
       "    </tr>\n",
       "    <tr>\n",
       "      <th>3954</th>\n",
       "      <td>3954</td>\n",
       "      <td>5572</td>\n",
       "      <td>Barbershop (2002)</td>\n",
       "      <td>Comedy</td>\n",
       "      <td>1</td>\n",
       "      <td>0.536577</td>\n",
       "    </tr>\n",
       "    <tr>\n",
       "      <th>3965</th>\n",
       "      <td>3965</td>\n",
       "      <td>5589</td>\n",
       "      <td>Indian Summer (1993)</td>\n",
       "      <td>Comedy|Drama</td>\n",
       "      <td>1</td>\n",
       "      <td>0.536334</td>\n",
       "    </tr>\n",
       "    <tr>\n",
       "      <th>7471</th>\n",
       "      <td>7471</td>\n",
       "      <td>82041</td>\n",
       "      <td>Loved Ones, The (2009)</td>\n",
       "      <td>Horror</td>\n",
       "      <td>1</td>\n",
       "      <td>0.526765</td>\n",
       "    </tr>\n",
       "    <tr>\n",
       "      <th>7478</th>\n",
       "      <td>7478</td>\n",
       "      <td>82169</td>\n",
       "      <td>Chronicles of Narnia: The Voyage of the Dawn T...</td>\n",
       "      <td>Adventure|Children|Fantasy</td>\n",
       "      <td>1</td>\n",
       "      <td>0.513690</td>\n",
       "    </tr>\n",
       "    <tr>\n",
       "      <th>7487</th>\n",
       "      <td>7487</td>\n",
       "      <td>82534</td>\n",
       "      <td>Company Men, The (2010)</td>\n",
       "      <td>Drama</td>\n",
       "      <td>1</td>\n",
       "      <td>0.515515</td>\n",
       "    </tr>\n",
       "  </tbody>\n",
       "</table>\n",
       "</div>"
      ],
      "text/plain": [
       "      index  movieId                                              title  \\\n",
       "3940   3940     5541                                  Hot Shots! (1991)   \n",
       "3943   3943     5548               Down and Out in Beverly Hills (1986)   \n",
       "3944   3944     5550                              Love Me Tender (1956)   \n",
       "3948   3948     5562                                      Snipes (2001)   \n",
       "3952   3952     5569                 Last House on the Left, The (1972)   \n",
       "3954   3954     5572                                  Barbershop (2002)   \n",
       "3965   3965     5589                               Indian Summer (1993)   \n",
       "7471   7471    82041                             Loved Ones, The (2009)   \n",
       "7478   7478    82169  Chronicles of Narnia: The Voyage of the Dawn T...   \n",
       "7487   7487    82534                            Company Men, The (2010)   \n",
       "\n",
       "                          genres  fake_id  prediction  \n",
       "3940   Action|Comedy|Romance|War        1    0.536186  \n",
       "3943                      Comedy        1    0.538124  \n",
       "3944             Musical|Western        1    0.537454  \n",
       "3948              Drama|Thriller        1    0.536634  \n",
       "3952       Crime|Horror|Thriller        1    0.538442  \n",
       "3954                      Comedy        1    0.536577  \n",
       "3965                Comedy|Drama        1    0.536334  \n",
       "7471                      Horror        1    0.526765  \n",
       "7478  Adventure|Children|Fantasy        1    0.513690  \n",
       "7487                       Drama        1    0.515515  "
      ]
     },
     "execution_count": 76,
     "metadata": {},
     "output_type": "execute_result"
    }
   ],
   "source": [
    "i_guess_you_should_watch = movies_not_watched.loc[movies_not_watched['index'].isin(top_ratings_indices)]\n",
    "i_guess_you_should_watch"
   ]
  },
  {
   "cell_type": "code",
   "execution_count": null,
   "metadata": {},
   "outputs": [],
   "source": [
    "array([0.5384421, 0.538124 , 0.5374536, 0.5366338, 0.5365766, 0.5364874,\n",
    "       0.5363341, 0.5361857, 0.5359144, 0.5355231], dtype=float32)"
   ]
  },
  {
   "cell_type": "code",
   "execution_count": null,
   "metadata": {},
   "outputs": [],
   "source": [
    "ไม่ใช่อีกแล้ววอ่ะ diff หนึ่ง พอมา 7477, 7486 ผิดว่ะ"
   ]
  },
  {
   "cell_type": "code",
   "execution_count": 78,
   "metadata": {},
   "outputs": [
    {
     "data": {
      "text/html": [
       "<div>\n",
       "<style scoped>\n",
       "    .dataframe tbody tr th:only-of-type {\n",
       "        vertical-align: middle;\n",
       "    }\n",
       "\n",
       "    .dataframe tbody tr th {\n",
       "        vertical-align: top;\n",
       "    }\n",
       "\n",
       "    .dataframe thead th {\n",
       "        text-align: right;\n",
       "    }\n",
       "</style>\n",
       "<table border=\"1\" class=\"dataframe\">\n",
       "  <thead>\n",
       "    <tr style=\"text-align: right;\">\n",
       "      <th></th>\n",
       "      <th>index</th>\n",
       "      <th>movieId</th>\n",
       "      <th>title</th>\n",
       "      <th>genres</th>\n",
       "      <th>fake_id</th>\n",
       "      <th>prediction</th>\n",
       "    </tr>\n",
       "  </thead>\n",
       "  <tbody>\n",
       "    <tr>\n",
       "      <th>7479</th>\n",
       "      <td>7479</td>\n",
       "      <td>82202</td>\n",
       "      <td>Tourist, The (2010)</td>\n",
       "      <td>Drama|Thriller</td>\n",
       "      <td>1</td>\n",
       "      <td>0.536487</td>\n",
       "    </tr>\n",
       "  </tbody>\n",
       "</table>\n",
       "</div>"
      ],
      "text/plain": [
       "      index  movieId                title          genres  fake_id  prediction\n",
       "7479   7479    82202  Tourist, The (2010)  Drama|Thriller        1    0.536487"
      ]
     },
     "execution_count": 78,
     "metadata": {},
     "output_type": "execute_result"
    }
   ],
   "source": [
    "movies_not_watched[movies_not_watched['prediction'] == 0.5364874]"
   ]
  },
  {
   "cell_type": "code",
   "execution_count": 79,
   "metadata": {},
   "outputs": [
    {
     "data": {
      "text/html": [
       "<div>\n",
       "<style scoped>\n",
       "    .dataframe tbody tr th:only-of-type {\n",
       "        vertical-align: middle;\n",
       "    }\n",
       "\n",
       "    .dataframe tbody tr th {\n",
       "        vertical-align: top;\n",
       "    }\n",
       "\n",
       "    .dataframe thead th {\n",
       "        text-align: right;\n",
       "    }\n",
       "</style>\n",
       "<table border=\"1\" class=\"dataframe\">\n",
       "  <thead>\n",
       "    <tr style=\"text-align: right;\">\n",
       "      <th></th>\n",
       "      <th>index</th>\n",
       "      <th>movieId</th>\n",
       "      <th>title</th>\n",
       "      <th>genres</th>\n",
       "      <th>fake_id</th>\n",
       "      <th>prediction</th>\n",
       "    </tr>\n",
       "  </thead>\n",
       "  <tbody>\n",
       "    <tr>\n",
       "      <th>3940</th>\n",
       "      <td>3940</td>\n",
       "      <td>5541</td>\n",
       "      <td>Hot Shots! (1991)</td>\n",
       "      <td>Action|Comedy|Romance|War</td>\n",
       "      <td>1</td>\n",
       "      <td>0.536186</td>\n",
       "    </tr>\n",
       "  </tbody>\n",
       "</table>\n",
       "</div>"
      ],
      "text/plain": [
       "      index  movieId              title                     genres  fake_id  \\\n",
       "3940   3940     5541  Hot Shots! (1991)  Action|Comedy|Romance|War        1   \n",
       "\n",
       "      prediction  \n",
       "3940    0.536186  "
      ]
     },
     "execution_count": 79,
     "metadata": {},
     "output_type": "execute_result"
    }
   ],
   "source": [
    "movies_not_watched[movies_not_watched['prediction'] == 0.5361857]"
   ]
  },
  {
   "cell_type": "code",
   "execution_count": 80,
   "metadata": {},
   "outputs": [
    {
     "data": {
      "text/html": [
       "<div>\n",
       "<style scoped>\n",
       "    .dataframe tbody tr th:only-of-type {\n",
       "        vertical-align: middle;\n",
       "    }\n",
       "\n",
       "    .dataframe tbody tr th {\n",
       "        vertical-align: top;\n",
       "    }\n",
       "\n",
       "    .dataframe thead th {\n",
       "        text-align: right;\n",
       "    }\n",
       "</style>\n",
       "<table border=\"1\" class=\"dataframe\">\n",
       "  <thead>\n",
       "    <tr style=\"text-align: right;\">\n",
       "      <th></th>\n",
       "      <th>index</th>\n",
       "      <th>movieId</th>\n",
       "      <th>title</th>\n",
       "      <th>genres</th>\n",
       "      <th>fake_id</th>\n",
       "      <th>prediction</th>\n",
       "    </tr>\n",
       "  </thead>\n",
       "  <tbody>\n",
       "    <tr>\n",
       "      <th>7488</th>\n",
       "      <td>7488</td>\n",
       "      <td>82641</td>\n",
       "      <td>One-Armed Swordsman, The (Dubei dao) (1967)</td>\n",
       "      <td>Action|Drama</td>\n",
       "      <td>1</td>\n",
       "      <td>0.535914</td>\n",
       "    </tr>\n",
       "  </tbody>\n",
       "</table>\n",
       "</div>"
      ],
      "text/plain": [
       "      index  movieId                                        title  \\\n",
       "7488   7488    82641  One-Armed Swordsman, The (Dubei dao) (1967)   \n",
       "\n",
       "            genres  fake_id  prediction  \n",
       "7488  Action|Drama        1    0.535914  "
      ]
     },
     "execution_count": 80,
     "metadata": {},
     "output_type": "execute_result"
    }
   ],
   "source": [
    "movies_not_watched[movies_not_watched['prediction'] == 0.5359144]"
   ]
  },
  {
   "cell_type": "code",
   "execution_count": 81,
   "metadata": {},
   "outputs": [
    {
     "data": {
      "text/html": [
       "<div>\n",
       "<style scoped>\n",
       "    .dataframe tbody tr th:only-of-type {\n",
       "        vertical-align: middle;\n",
       "    }\n",
       "\n",
       "    .dataframe tbody tr th {\n",
       "        vertical-align: top;\n",
       "    }\n",
       "\n",
       "    .dataframe thead th {\n",
       "        text-align: right;\n",
       "    }\n",
       "</style>\n",
       "<table border=\"1\" class=\"dataframe\">\n",
       "  <thead>\n",
       "    <tr style=\"text-align: right;\">\n",
       "      <th></th>\n",
       "      <th>index</th>\n",
       "      <th>movieId</th>\n",
       "      <th>title</th>\n",
       "      <th>genres</th>\n",
       "      <th>fake_id</th>\n",
       "      <th>prediction</th>\n",
       "    </tr>\n",
       "  </thead>\n",
       "  <tbody>\n",
       "    <tr>\n",
       "      <th>7472</th>\n",
       "      <td>7472</td>\n",
       "      <td>82053</td>\n",
       "      <td>Casino Jack (2010)</td>\n",
       "      <td>Comedy|Crime</td>\n",
       "      <td>1</td>\n",
       "      <td>0.535523</td>\n",
       "    </tr>\n",
       "  </tbody>\n",
       "</table>\n",
       "</div>"
      ],
      "text/plain": [
       "      index  movieId               title        genres  fake_id  prediction\n",
       "7472   7472    82053  Casino Jack (2010)  Comedy|Crime        1    0.535523"
      ]
     },
     "execution_count": 81,
     "metadata": {},
     "output_type": "execute_result"
    }
   ],
   "source": [
    "movies_not_watched[movies_not_watched['prediction'] == 0.5355231]"
   ]
  },
  {
   "cell_type": "code",
   "execution_count": null,
   "metadata": {},
   "outputs": [],
   "source": [
    "ท่อนหลังที่ขึ้นต้นด้วย 7 นี่ต้องบวกอีกสอง! แม่งไม่เสถียรอย่างแรง"
   ]
  },
  {
   "cell_type": "code",
   "execution_count": null,
   "metadata": {},
   "outputs": [],
   "source": [
    "กูจะรู้ได้อย่างไรว่าเมื่อไหร่มันถึงจะต้องบวกสอง\n",
    "วันนี้พอแค่นี้ก่อน\n",
    "190121"
   ]
  },
  {
   "cell_type": "code",
   "execution_count": null,
   "metadata": {},
   "outputs": [],
   "source": []
  },
  {
   "cell_type": "code",
   "execution_count": null,
   "metadata": {},
   "outputs": [],
   "source": []
  },
  {
   "cell_type": "code",
   "execution_count": null,
   "metadata": {},
   "outputs": [],
   "source": []
  },
  {
   "cell_type": "code",
   "execution_count": null,
   "metadata": {},
   "outputs": [],
   "source": []
  },
  {
   "cell_type": "code",
   "execution_count": 14,
   "metadata": {},
   "outputs": [
    {
     "ename": "KeyError",
     "evalue": "\"None of [Index(['Toy Story (1995)', 'Grumpier Old Men (1995)', 'Heat (1995)',\\n       'Seven (a.k.a. Se7en) (1995)', 'Usual Suspects, The (1995)',\\n       'From Dusk Till Dawn (1996)', 'Bottle Rocket (1996)',\\n       'Braveheart (1995)', 'Rob Roy (1995)', 'Canadian Bacon (1995)',\\n       ...\\n       'The Magnificent Seven (2016)', 'Blair Witch (2016)', '31 (2016)',\\n       'Arrival (2016)', 'Rogue One: A Star Wars Story (2016)', 'Split (2017)',\\n       'John Wick: Chapter Two (2017)', 'Get Out (2017)', 'Logan (2017)',\\n       'The Fate of the Furious (2017)'],\\n      dtype='object', length=100474)] are in the [index]\"",
     "output_type": "error",
     "traceback": [
      "\u001b[0;31m---------------------------------------------------------------------------\u001b[0m",
      "\u001b[0;31mKeyError\u001b[0m                                  Traceback (most recent call last)",
      "\u001b[0;32m<ipython-input-14-f81e8fcdec67>\u001b[0m in \u001b[0;36m<module>\u001b[0;34m\u001b[0m\n\u001b[0;32m----> 1\u001b[0;31m \u001b[0mnot_all_ratings\u001b[0m\u001b[0;34m.\u001b[0m\u001b[0mloc\u001b[0m\u001b[0;34m[\u001b[0m\u001b[0mnot_all_ratings\u001b[0m\u001b[0;34m[\u001b[0m\u001b[0;34m'title'\u001b[0m\u001b[0;34m]\u001b[0m\u001b[0;34m.\u001b[0m\u001b[0mvalues\u001b[0m\u001b[0;34m]\u001b[0m\u001b[0;34m\u001b[0m\u001b[0;34m\u001b[0m\u001b[0m\n\u001b[0m",
      "\u001b[0;32m/opt/conda/lib/python3.8/site-packages/pandas/core/indexing.py\u001b[0m in \u001b[0;36m__getitem__\u001b[0;34m(self, key)\u001b[0m\n\u001b[1;32m    877\u001b[0m \u001b[0;34m\u001b[0m\u001b[0m\n\u001b[1;32m    878\u001b[0m             \u001b[0mmaybe_callable\u001b[0m \u001b[0;34m=\u001b[0m \u001b[0mcom\u001b[0m\u001b[0;34m.\u001b[0m\u001b[0mapply_if_callable\u001b[0m\u001b[0;34m(\u001b[0m\u001b[0mkey\u001b[0m\u001b[0;34m,\u001b[0m \u001b[0mself\u001b[0m\u001b[0;34m.\u001b[0m\u001b[0mobj\u001b[0m\u001b[0;34m)\u001b[0m\u001b[0;34m\u001b[0m\u001b[0;34m\u001b[0m\u001b[0m\n\u001b[0;32m--> 879\u001b[0;31m             \u001b[0;32mreturn\u001b[0m \u001b[0mself\u001b[0m\u001b[0;34m.\u001b[0m\u001b[0m_getitem_axis\u001b[0m\u001b[0;34m(\u001b[0m\u001b[0mmaybe_callable\u001b[0m\u001b[0;34m,\u001b[0m \u001b[0maxis\u001b[0m\u001b[0;34m=\u001b[0m\u001b[0maxis\u001b[0m\u001b[0;34m)\u001b[0m\u001b[0;34m\u001b[0m\u001b[0;34m\u001b[0m\u001b[0m\n\u001b[0m\u001b[1;32m    880\u001b[0m \u001b[0;34m\u001b[0m\u001b[0m\n\u001b[1;32m    881\u001b[0m     \u001b[0;32mdef\u001b[0m \u001b[0m_is_scalar_access\u001b[0m\u001b[0;34m(\u001b[0m\u001b[0mself\u001b[0m\u001b[0;34m,\u001b[0m \u001b[0mkey\u001b[0m\u001b[0;34m:\u001b[0m \u001b[0mTuple\u001b[0m\u001b[0;34m)\u001b[0m\u001b[0;34m:\u001b[0m\u001b[0;34m\u001b[0m\u001b[0;34m\u001b[0m\u001b[0m\n",
      "\u001b[0;32m/opt/conda/lib/python3.8/site-packages/pandas/core/indexing.py\u001b[0m in \u001b[0;36m_getitem_axis\u001b[0;34m(self, key, axis)\u001b[0m\n\u001b[1;32m   1097\u001b[0m                     \u001b[0;32mraise\u001b[0m \u001b[0mValueError\u001b[0m\u001b[0;34m(\u001b[0m\u001b[0;34m\"Cannot index with multidimensional key\"\u001b[0m\u001b[0;34m)\u001b[0m\u001b[0;34m\u001b[0m\u001b[0;34m\u001b[0m\u001b[0m\n\u001b[1;32m   1098\u001b[0m \u001b[0;34m\u001b[0m\u001b[0m\n\u001b[0;32m-> 1099\u001b[0;31m                 \u001b[0;32mreturn\u001b[0m \u001b[0mself\u001b[0m\u001b[0;34m.\u001b[0m\u001b[0m_getitem_iterable\u001b[0m\u001b[0;34m(\u001b[0m\u001b[0mkey\u001b[0m\u001b[0;34m,\u001b[0m \u001b[0maxis\u001b[0m\u001b[0;34m=\u001b[0m\u001b[0maxis\u001b[0m\u001b[0;34m)\u001b[0m\u001b[0;34m\u001b[0m\u001b[0;34m\u001b[0m\u001b[0m\n\u001b[0m\u001b[1;32m   1100\u001b[0m \u001b[0;34m\u001b[0m\u001b[0m\n\u001b[1;32m   1101\u001b[0m             \u001b[0;31m# nested tuple slicing\u001b[0m\u001b[0;34m\u001b[0m\u001b[0;34m\u001b[0m\u001b[0;34m\u001b[0m\u001b[0m\n",
      "\u001b[0;32m/opt/conda/lib/python3.8/site-packages/pandas/core/indexing.py\u001b[0m in \u001b[0;36m_getitem_iterable\u001b[0;34m(self, key, axis)\u001b[0m\n\u001b[1;32m   1035\u001b[0m \u001b[0;34m\u001b[0m\u001b[0m\n\u001b[1;32m   1036\u001b[0m         \u001b[0;31m# A collection of keys\u001b[0m\u001b[0;34m\u001b[0m\u001b[0;34m\u001b[0m\u001b[0;34m\u001b[0m\u001b[0m\n\u001b[0;32m-> 1037\u001b[0;31m         \u001b[0mkeyarr\u001b[0m\u001b[0;34m,\u001b[0m \u001b[0mindexer\u001b[0m \u001b[0;34m=\u001b[0m \u001b[0mself\u001b[0m\u001b[0;34m.\u001b[0m\u001b[0m_get_listlike_indexer\u001b[0m\u001b[0;34m(\u001b[0m\u001b[0mkey\u001b[0m\u001b[0;34m,\u001b[0m \u001b[0maxis\u001b[0m\u001b[0;34m,\u001b[0m \u001b[0mraise_missing\u001b[0m\u001b[0;34m=\u001b[0m\u001b[0;32mFalse\u001b[0m\u001b[0;34m)\u001b[0m\u001b[0;34m\u001b[0m\u001b[0;34m\u001b[0m\u001b[0m\n\u001b[0m\u001b[1;32m   1038\u001b[0m         return self.obj._reindex_with_indexers(\n\u001b[1;32m   1039\u001b[0m             \u001b[0;34m{\u001b[0m\u001b[0maxis\u001b[0m\u001b[0;34m:\u001b[0m \u001b[0;34m[\u001b[0m\u001b[0mkeyarr\u001b[0m\u001b[0;34m,\u001b[0m \u001b[0mindexer\u001b[0m\u001b[0;34m]\u001b[0m\u001b[0;34m}\u001b[0m\u001b[0;34m,\u001b[0m \u001b[0mcopy\u001b[0m\u001b[0;34m=\u001b[0m\u001b[0;32mTrue\u001b[0m\u001b[0;34m,\u001b[0m \u001b[0mallow_dups\u001b[0m\u001b[0;34m=\u001b[0m\u001b[0;32mTrue\u001b[0m\u001b[0;34m\u001b[0m\u001b[0;34m\u001b[0m\u001b[0m\n",
      "\u001b[0;32m/opt/conda/lib/python3.8/site-packages/pandas/core/indexing.py\u001b[0m in \u001b[0;36m_get_listlike_indexer\u001b[0;34m(self, key, axis, raise_missing)\u001b[0m\n\u001b[1;32m   1252\u001b[0m             \u001b[0mkeyarr\u001b[0m\u001b[0;34m,\u001b[0m \u001b[0mindexer\u001b[0m\u001b[0;34m,\u001b[0m \u001b[0mnew_indexer\u001b[0m \u001b[0;34m=\u001b[0m \u001b[0max\u001b[0m\u001b[0;34m.\u001b[0m\u001b[0m_reindex_non_unique\u001b[0m\u001b[0;34m(\u001b[0m\u001b[0mkeyarr\u001b[0m\u001b[0;34m)\u001b[0m\u001b[0;34m\u001b[0m\u001b[0;34m\u001b[0m\u001b[0m\n\u001b[1;32m   1253\u001b[0m \u001b[0;34m\u001b[0m\u001b[0m\n\u001b[0;32m-> 1254\u001b[0;31m         \u001b[0mself\u001b[0m\u001b[0;34m.\u001b[0m\u001b[0m_validate_read_indexer\u001b[0m\u001b[0;34m(\u001b[0m\u001b[0mkeyarr\u001b[0m\u001b[0;34m,\u001b[0m \u001b[0mindexer\u001b[0m\u001b[0;34m,\u001b[0m \u001b[0maxis\u001b[0m\u001b[0;34m,\u001b[0m \u001b[0mraise_missing\u001b[0m\u001b[0;34m=\u001b[0m\u001b[0mraise_missing\u001b[0m\u001b[0;34m)\u001b[0m\u001b[0;34m\u001b[0m\u001b[0;34m\u001b[0m\u001b[0m\n\u001b[0m\u001b[1;32m   1255\u001b[0m         \u001b[0;32mreturn\u001b[0m \u001b[0mkeyarr\u001b[0m\u001b[0;34m,\u001b[0m \u001b[0mindexer\u001b[0m\u001b[0;34m\u001b[0m\u001b[0;34m\u001b[0m\u001b[0m\n\u001b[1;32m   1256\u001b[0m \u001b[0;34m\u001b[0m\u001b[0m\n",
      "\u001b[0;32m/opt/conda/lib/python3.8/site-packages/pandas/core/indexing.py\u001b[0m in \u001b[0;36m_validate_read_indexer\u001b[0;34m(self, key, indexer, axis, raise_missing)\u001b[0m\n\u001b[1;32m   1296\u001b[0m             \u001b[0;32mif\u001b[0m \u001b[0mmissing\u001b[0m \u001b[0;34m==\u001b[0m \u001b[0mlen\u001b[0m\u001b[0;34m(\u001b[0m\u001b[0mindexer\u001b[0m\u001b[0;34m)\u001b[0m\u001b[0;34m:\u001b[0m\u001b[0;34m\u001b[0m\u001b[0;34m\u001b[0m\u001b[0m\n\u001b[1;32m   1297\u001b[0m                 \u001b[0maxis_name\u001b[0m \u001b[0;34m=\u001b[0m \u001b[0mself\u001b[0m\u001b[0;34m.\u001b[0m\u001b[0mobj\u001b[0m\u001b[0;34m.\u001b[0m\u001b[0m_get_axis_name\u001b[0m\u001b[0;34m(\u001b[0m\u001b[0maxis\u001b[0m\u001b[0;34m)\u001b[0m\u001b[0;34m\u001b[0m\u001b[0;34m\u001b[0m\u001b[0m\n\u001b[0;32m-> 1298\u001b[0;31m                 \u001b[0;32mraise\u001b[0m \u001b[0mKeyError\u001b[0m\u001b[0;34m(\u001b[0m\u001b[0;34mf\"None of [{key}] are in the [{axis_name}]\"\u001b[0m\u001b[0;34m)\u001b[0m\u001b[0;34m\u001b[0m\u001b[0;34m\u001b[0m\u001b[0m\n\u001b[0m\u001b[1;32m   1299\u001b[0m \u001b[0;34m\u001b[0m\u001b[0m\n\u001b[1;32m   1300\u001b[0m             \u001b[0;31m# We (temporarily) allow for some missing keys with .loc, except in\u001b[0m\u001b[0;34m\u001b[0m\u001b[0;34m\u001b[0m\u001b[0;34m\u001b[0m\u001b[0m\n",
      "\u001b[0;31mKeyError\u001b[0m: \"None of [Index(['Toy Story (1995)', 'Grumpier Old Men (1995)', 'Heat (1995)',\\n       'Seven (a.k.a. Se7en) (1995)', 'Usual Suspects, The (1995)',\\n       'From Dusk Till Dawn (1996)', 'Bottle Rocket (1996)',\\n       'Braveheart (1995)', 'Rob Roy (1995)', 'Canadian Bacon (1995)',\\n       ...\\n       'The Magnificent Seven (2016)', 'Blair Witch (2016)', '31 (2016)',\\n       'Arrival (2016)', 'Rogue One: A Star Wars Story (2016)', 'Split (2017)',\\n       'John Wick: Chapter Two (2017)', 'Get Out (2017)', 'Logan (2017)',\\n       'The Fate of the Furious (2017)'],\\n      dtype='object', length=100474)] are in the [index]\""
     ]
    }
   ],
   "source": [
    "not_all_ratings['movieId'] ไม่ซ้ำกันเลยซักกะบรรทัดหรือเปล่า ถึงแม้ว่าจะเป็นหนังเรื่องเดียวกัน\n",
    "ไม่หนิ\n",
    "สำหรับหนังเรื่อง the Davinci Code ทุกบรรทัดเป็น 45447"
   ]
  },
  {
   "cell_type": "code",
   "execution_count": 15,
   "metadata": {},
   "outputs": [
    {
     "data": {
      "text/html": [
       "<div>\n",
       "<style scoped>\n",
       "    .dataframe tbody tr th:only-of-type {\n",
       "        vertical-align: middle;\n",
       "    }\n",
       "\n",
       "    .dataframe tbody tr th {\n",
       "        vertical-align: top;\n",
       "    }\n",
       "\n",
       "    .dataframe thead th {\n",
       "        text-align: right;\n",
       "    }\n",
       "</style>\n",
       "<table border=\"1\" class=\"dataframe\">\n",
       "  <thead>\n",
       "    <tr style=\"text-align: right;\">\n",
       "      <th></th>\n",
       "      <th>userId</th>\n",
       "      <th>movieId</th>\n",
       "      <th>title</th>\n",
       "      <th>rating</th>\n",
       "    </tr>\n",
       "  </thead>\n",
       "  <tbody>\n",
       "    <tr>\n",
       "      <th>3434</th>\n",
       "      <td>21</td>\n",
       "      <td>45447</td>\n",
       "      <td>Da Vinci Code, The (2006)</td>\n",
       "      <td>3.5</td>\n",
       "    </tr>\n",
       "    <tr>\n",
       "      <th>7828</th>\n",
       "      <td>52</td>\n",
       "      <td>45447</td>\n",
       "      <td>Da Vinci Code, The (2006)</td>\n",
       "      <td>3.5</td>\n",
       "    </tr>\n",
       "    <tr>\n",
       "      <th>8932</th>\n",
       "      <td>62</td>\n",
       "      <td>45447</td>\n",
       "      <td>Da Vinci Code, The (2006)</td>\n",
       "      <td>3.5</td>\n",
       "    </tr>\n",
       "    <tr>\n",
       "      <th>9943</th>\n",
       "      <td>64</td>\n",
       "      <td>45447</td>\n",
       "      <td>Da Vinci Code, The (2006)</td>\n",
       "      <td>2.5</td>\n",
       "    </tr>\n",
       "    <tr>\n",
       "      <th>16592</th>\n",
       "      <td>105</td>\n",
       "      <td>45447</td>\n",
       "      <td>Da Vinci Code, The (2006)</td>\n",
       "      <td>4.0</td>\n",
       "    </tr>\n",
       "    <tr>\n",
       "      <th>17536</th>\n",
       "      <td>111</td>\n",
       "      <td>45447</td>\n",
       "      <td>Da Vinci Code, The (2006)</td>\n",
       "      <td>4.0</td>\n",
       "    </tr>\n",
       "    <tr>\n",
       "      <th>25535</th>\n",
       "      <td>177</td>\n",
       "      <td>45447</td>\n",
       "      <td>Da Vinci Code, The (2006)</td>\n",
       "      <td>3.5</td>\n",
       "    </tr>\n",
       "    <tr>\n",
       "      <th>30362</th>\n",
       "      <td>212</td>\n",
       "      <td>45447</td>\n",
       "      <td>Da Vinci Code, The (2006)</td>\n",
       "      <td>3.5</td>\n",
       "    </tr>\n",
       "    <tr>\n",
       "      <th>31976</th>\n",
       "      <td>219</td>\n",
       "      <td>45447</td>\n",
       "      <td>Da Vinci Code, The (2006)</td>\n",
       "      <td>2.5</td>\n",
       "    </tr>\n",
       "    <tr>\n",
       "      <th>32760</th>\n",
       "      <td>222</td>\n",
       "      <td>45447</td>\n",
       "      <td>Da Vinci Code, The (2006)</td>\n",
       "      <td>3.0</td>\n",
       "    </tr>\n",
       "    <tr>\n",
       "      <th>33519</th>\n",
       "      <td>226</td>\n",
       "      <td>45447</td>\n",
       "      <td>Da Vinci Code, The (2006)</td>\n",
       "      <td>4.0</td>\n",
       "    </tr>\n",
       "    <tr>\n",
       "      <th>33863</th>\n",
       "      <td>230</td>\n",
       "      <td>45447</td>\n",
       "      <td>Da Vinci Code, The (2006)</td>\n",
       "      <td>3.5</td>\n",
       "    </tr>\n",
       "    <tr>\n",
       "      <th>34502</th>\n",
       "      <td>232</td>\n",
       "      <td>45447</td>\n",
       "      <td>Da Vinci Code, The (2006)</td>\n",
       "      <td>3.5</td>\n",
       "    </tr>\n",
       "    <tr>\n",
       "      <th>35545</th>\n",
       "      <td>239</td>\n",
       "      <td>45447</td>\n",
       "      <td>Da Vinci Code, The (2006)</td>\n",
       "      <td>3.5</td>\n",
       "    </tr>\n",
       "    <tr>\n",
       "      <th>36106</th>\n",
       "      <td>246</td>\n",
       "      <td>45447</td>\n",
       "      <td>Da Vinci Code, The (2006)</td>\n",
       "      <td>3.0</td>\n",
       "    </tr>\n",
       "    <tr>\n",
       "      <th>36856</th>\n",
       "      <td>249</td>\n",
       "      <td>45447</td>\n",
       "      <td>Da Vinci Code, The (2006)</td>\n",
       "      <td>3.5</td>\n",
       "    </tr>\n",
       "    <tr>\n",
       "      <th>40329</th>\n",
       "      <td>274</td>\n",
       "      <td>45447</td>\n",
       "      <td>Da Vinci Code, The (2006)</td>\n",
       "      <td>3.0</td>\n",
       "    </tr>\n",
       "    <tr>\n",
       "      <th>41378</th>\n",
       "      <td>280</td>\n",
       "      <td>45447</td>\n",
       "      <td>Da Vinci Code, The (2006)</td>\n",
       "      <td>4.0</td>\n",
       "    </tr>\n",
       "    <tr>\n",
       "      <th>43122</th>\n",
       "      <td>288</td>\n",
       "      <td>45447</td>\n",
       "      <td>Da Vinci Code, The (2006)</td>\n",
       "      <td>3.0</td>\n",
       "    </tr>\n",
       "    <tr>\n",
       "      <th>43775</th>\n",
       "      <td>292</td>\n",
       "      <td>45447</td>\n",
       "      <td>Da Vinci Code, The (2006)</td>\n",
       "      <td>4.0</td>\n",
       "    </tr>\n",
       "    <tr>\n",
       "      <th>45054</th>\n",
       "      <td>298</td>\n",
       "      <td>45447</td>\n",
       "      <td>Da Vinci Code, The (2006)</td>\n",
       "      <td>0.5</td>\n",
       "    </tr>\n",
       "    <tr>\n",
       "      <th>46279</th>\n",
       "      <td>305</td>\n",
       "      <td>45447</td>\n",
       "      <td>Da Vinci Code, The (2006)</td>\n",
       "      <td>3.0</td>\n",
       "    </tr>\n",
       "    <tr>\n",
       "      <th>47592</th>\n",
       "      <td>307</td>\n",
       "      <td>45447</td>\n",
       "      <td>Da Vinci Code, The (2006)</td>\n",
       "      <td>2.0</td>\n",
       "    </tr>\n",
       "    <tr>\n",
       "      <th>49428</th>\n",
       "      <td>318</td>\n",
       "      <td>45447</td>\n",
       "      <td>Da Vinci Code, The (2006)</td>\n",
       "      <td>3.5</td>\n",
       "    </tr>\n",
       "    <tr>\n",
       "      <th>53344</th>\n",
       "      <td>352</td>\n",
       "      <td>45447</td>\n",
       "      <td>Da Vinci Code, The (2006)</td>\n",
       "      <td>3.5</td>\n",
       "    </tr>\n",
       "    <tr>\n",
       "      <th>54732</th>\n",
       "      <td>361</td>\n",
       "      <td>45447</td>\n",
       "      <td>Da Vinci Code, The (2006)</td>\n",
       "      <td>4.0</td>\n",
       "    </tr>\n",
       "    <tr>\n",
       "      <th>57714</th>\n",
       "      <td>380</td>\n",
       "      <td>45447</td>\n",
       "      <td>Da Vinci Code, The (2006)</td>\n",
       "      <td>3.0</td>\n",
       "    </tr>\n",
       "    <tr>\n",
       "      <th>58470</th>\n",
       "      <td>381</td>\n",
       "      <td>45447</td>\n",
       "      <td>Da Vinci Code, The (2006)</td>\n",
       "      <td>3.0</td>\n",
       "    </tr>\n",
       "    <tr>\n",
       "      <th>58734</th>\n",
       "      <td>382</td>\n",
       "      <td>45447</td>\n",
       "      <td>Da Vinci Code, The (2006)</td>\n",
       "      <td>3.0</td>\n",
       "    </tr>\n",
       "    <tr>\n",
       "      <th>60206</th>\n",
       "      <td>387</td>\n",
       "      <td>45447</td>\n",
       "      <td>Da Vinci Code, The (2006)</td>\n",
       "      <td>3.0</td>\n",
       "    </tr>\n",
       "    <tr>\n",
       "      <th>61639</th>\n",
       "      <td>408</td>\n",
       "      <td>45447</td>\n",
       "      <td>Da Vinci Code, The (2006)</td>\n",
       "      <td>3.5</td>\n",
       "    </tr>\n",
       "    <tr>\n",
       "      <th>64515</th>\n",
       "      <td>414</td>\n",
       "      <td>45447</td>\n",
       "      <td>Da Vinci Code, The (2006)</td>\n",
       "      <td>3.0</td>\n",
       "    </tr>\n",
       "    <tr>\n",
       "      <th>65852</th>\n",
       "      <td>424</td>\n",
       "      <td>45447</td>\n",
       "      <td>Da Vinci Code, The (2006)</td>\n",
       "      <td>3.0</td>\n",
       "    </tr>\n",
       "    <tr>\n",
       "      <th>66991</th>\n",
       "      <td>432</td>\n",
       "      <td>45447</td>\n",
       "      <td>Da Vinci Code, The (2006)</td>\n",
       "      <td>4.0</td>\n",
       "    </tr>\n",
       "    <tr>\n",
       "      <th>68204</th>\n",
       "      <td>438</td>\n",
       "      <td>45447</td>\n",
       "      <td>Da Vinci Code, The (2006)</td>\n",
       "      <td>3.0</td>\n",
       "    </tr>\n",
       "    <tr>\n",
       "      <th>69696</th>\n",
       "      <td>448</td>\n",
       "      <td>45447</td>\n",
       "      <td>Da Vinci Code, The (2006)</td>\n",
       "      <td>2.0</td>\n",
       "    </tr>\n",
       "    <tr>\n",
       "      <th>72346</th>\n",
       "      <td>466</td>\n",
       "      <td>45447</td>\n",
       "      <td>Da Vinci Code, The (2006)</td>\n",
       "      <td>4.0</td>\n",
       "    </tr>\n",
       "    <tr>\n",
       "      <th>75931</th>\n",
       "      <td>477</td>\n",
       "      <td>45447</td>\n",
       "      <td>Da Vinci Code, The (2006)</td>\n",
       "      <td>4.0</td>\n",
       "    </tr>\n",
       "    <tr>\n",
       "      <th>77020</th>\n",
       "      <td>480</td>\n",
       "      <td>45447</td>\n",
       "      <td>Da Vinci Code, The (2006)</td>\n",
       "      <td>3.5</td>\n",
       "    </tr>\n",
       "    <tr>\n",
       "      <th>77762</th>\n",
       "      <td>483</td>\n",
       "      <td>45447</td>\n",
       "      <td>Da Vinci Code, The (2006)</td>\n",
       "      <td>3.0</td>\n",
       "    </tr>\n",
       "    <tr>\n",
       "      <th>79019</th>\n",
       "      <td>489</td>\n",
       "      <td>45447</td>\n",
       "      <td>Da Vinci Code, The (2006)</td>\n",
       "      <td>3.5</td>\n",
       "    </tr>\n",
       "    <tr>\n",
       "      <th>80295</th>\n",
       "      <td>506</td>\n",
       "      <td>45447</td>\n",
       "      <td>Da Vinci Code, The (2006)</td>\n",
       "      <td>0.5</td>\n",
       "    </tr>\n",
       "    <tr>\n",
       "      <th>80642</th>\n",
       "      <td>509</td>\n",
       "      <td>45447</td>\n",
       "      <td>Da Vinci Code, The (2006)</td>\n",
       "      <td>3.0</td>\n",
       "    </tr>\n",
       "    <tr>\n",
       "      <th>81821</th>\n",
       "      <td>517</td>\n",
       "      <td>45447</td>\n",
       "      <td>Da Vinci Code, The (2006)</td>\n",
       "      <td>0.5</td>\n",
       "    </tr>\n",
       "    <tr>\n",
       "      <th>84520</th>\n",
       "      <td>542</td>\n",
       "      <td>45447</td>\n",
       "      <td>Da Vinci Code, The (2006)</td>\n",
       "      <td>3.5</td>\n",
       "    </tr>\n",
       "    <tr>\n",
       "      <th>86409</th>\n",
       "      <td>560</td>\n",
       "      <td>45447</td>\n",
       "      <td>Da Vinci Code, The (2006)</td>\n",
       "      <td>3.0</td>\n",
       "    </tr>\n",
       "    <tr>\n",
       "      <th>89731</th>\n",
       "      <td>580</td>\n",
       "      <td>45447</td>\n",
       "      <td>Da Vinci Code, The (2006)</td>\n",
       "      <td>4.0</td>\n",
       "    </tr>\n",
       "    <tr>\n",
       "      <th>91174</th>\n",
       "      <td>590</td>\n",
       "      <td>45447</td>\n",
       "      <td>Da Vinci Code, The (2006)</td>\n",
       "      <td>2.5</td>\n",
       "    </tr>\n",
       "    <tr>\n",
       "      <th>98402</th>\n",
       "      <td>606</td>\n",
       "      <td>45447</td>\n",
       "      <td>Da Vinci Code, The (2006)</td>\n",
       "      <td>2.5</td>\n",
       "    </tr>\n",
       "  </tbody>\n",
       "</table>\n",
       "</div>"
      ],
      "text/plain": [
       "       userId  movieId                      title  rating\n",
       "3434       21    45447  Da Vinci Code, The (2006)     3.5\n",
       "7828       52    45447  Da Vinci Code, The (2006)     3.5\n",
       "8932       62    45447  Da Vinci Code, The (2006)     3.5\n",
       "9943       64    45447  Da Vinci Code, The (2006)     2.5\n",
       "16592     105    45447  Da Vinci Code, The (2006)     4.0\n",
       "17536     111    45447  Da Vinci Code, The (2006)     4.0\n",
       "25535     177    45447  Da Vinci Code, The (2006)     3.5\n",
       "30362     212    45447  Da Vinci Code, The (2006)     3.5\n",
       "31976     219    45447  Da Vinci Code, The (2006)     2.5\n",
       "32760     222    45447  Da Vinci Code, The (2006)     3.0\n",
       "33519     226    45447  Da Vinci Code, The (2006)     4.0\n",
       "33863     230    45447  Da Vinci Code, The (2006)     3.5\n",
       "34502     232    45447  Da Vinci Code, The (2006)     3.5\n",
       "35545     239    45447  Da Vinci Code, The (2006)     3.5\n",
       "36106     246    45447  Da Vinci Code, The (2006)     3.0\n",
       "36856     249    45447  Da Vinci Code, The (2006)     3.5\n",
       "40329     274    45447  Da Vinci Code, The (2006)     3.0\n",
       "41378     280    45447  Da Vinci Code, The (2006)     4.0\n",
       "43122     288    45447  Da Vinci Code, The (2006)     3.0\n",
       "43775     292    45447  Da Vinci Code, The (2006)     4.0\n",
       "45054     298    45447  Da Vinci Code, The (2006)     0.5\n",
       "46279     305    45447  Da Vinci Code, The (2006)     3.0\n",
       "47592     307    45447  Da Vinci Code, The (2006)     2.0\n",
       "49428     318    45447  Da Vinci Code, The (2006)     3.5\n",
       "53344     352    45447  Da Vinci Code, The (2006)     3.5\n",
       "54732     361    45447  Da Vinci Code, The (2006)     4.0\n",
       "57714     380    45447  Da Vinci Code, The (2006)     3.0\n",
       "58470     381    45447  Da Vinci Code, The (2006)     3.0\n",
       "58734     382    45447  Da Vinci Code, The (2006)     3.0\n",
       "60206     387    45447  Da Vinci Code, The (2006)     3.0\n",
       "61639     408    45447  Da Vinci Code, The (2006)     3.5\n",
       "64515     414    45447  Da Vinci Code, The (2006)     3.0\n",
       "65852     424    45447  Da Vinci Code, The (2006)     3.0\n",
       "66991     432    45447  Da Vinci Code, The (2006)     4.0\n",
       "68204     438    45447  Da Vinci Code, The (2006)     3.0\n",
       "69696     448    45447  Da Vinci Code, The (2006)     2.0\n",
       "72346     466    45447  Da Vinci Code, The (2006)     4.0\n",
       "75931     477    45447  Da Vinci Code, The (2006)     4.0\n",
       "77020     480    45447  Da Vinci Code, The (2006)     3.5\n",
       "77762     483    45447  Da Vinci Code, The (2006)     3.0\n",
       "79019     489    45447  Da Vinci Code, The (2006)     3.5\n",
       "80295     506    45447  Da Vinci Code, The (2006)     0.5\n",
       "80642     509    45447  Da Vinci Code, The (2006)     3.0\n",
       "81821     517    45447  Da Vinci Code, The (2006)     0.5\n",
       "84520     542    45447  Da Vinci Code, The (2006)     3.5\n",
       "86409     560    45447  Da Vinci Code, The (2006)     3.0\n",
       "89731     580    45447  Da Vinci Code, The (2006)     4.0\n",
       "91174     590    45447  Da Vinci Code, The (2006)     2.5\n",
       "98402     606    45447  Da Vinci Code, The (2006)     2.5"
      ]
     },
     "execution_count": 15,
     "metadata": {},
     "output_type": "execute_result"
    }
   ],
   "source": [
    "not_all_ratings.loc[not_all_ratings['movieId'] == 45447]"
   ]
  },
  {
   "cell_type": "code",
   "execution_count": null,
   "metadata": {},
   "outputs": [],
   "source": []
  },
  {
   "cell_type": "code",
   "execution_count": null,
   "metadata": {},
   "outputs": [],
   "source": []
  },
  {
   "cell_type": "code",
   "execution_count": null,
   "metadata": {},
   "outputs": [],
   "source": []
  },
  {
   "cell_type": "code",
   "execution_count": null,
   "metadata": {},
   "outputs": [],
   "source": []
  }
 ],
 "metadata": {
  "kernelspec": {
   "display_name": "Python 3",
   "language": "python",
   "name": "python3"
  },
  "language_info": {
   "codemirror_mode": {
    "name": "ipython",
    "version": 3
   },
   "file_extension": ".py",
   "mimetype": "text/x-python",
   "name": "python",
   "nbconvert_exporter": "python",
   "pygments_lexer": "ipython3",
   "version": "3.8.6"
  }
 },
 "nbformat": 4,
 "nbformat_minor": 4
}
