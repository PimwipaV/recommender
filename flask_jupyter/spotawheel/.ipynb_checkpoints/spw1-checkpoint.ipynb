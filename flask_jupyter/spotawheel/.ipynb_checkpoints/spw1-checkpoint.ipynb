{
 "cells": [
  {
   "cell_type": "code",
   "execution_count": 7,
   "metadata": {},
   "outputs": [
    {
     "name": "stdout",
     "output_type": "stream",
     "text": [
      "\u001b[0m\u001b[01;36mbin\u001b[0m@   \u001b[01;34metc\u001b[0m/            \u001b[01;36mlib\u001b[0m@    \u001b[01;36mlibx32\u001b[0m@  \u001b[01;34mopt\u001b[0m/   \u001b[01;34mrun\u001b[0m/   \u001b[01;34msys\u001b[0m/  \u001b[01;34mvar\u001b[0m/\r\n",
      "\u001b[01;34mboot\u001b[0m/  \u001b[01;34mflask_jupyter\u001b[0m/  \u001b[01;36mlib32\u001b[0m@  \u001b[01;34mmedia\u001b[0m/   \u001b[01;34mproc\u001b[0m/  \u001b[01;36msbin\u001b[0m@  \u001b[30;42mtmp\u001b[0m/\r\n",
      "\u001b[01;34mdev\u001b[0m/   \u001b[01;34mhome\u001b[0m/           \u001b[01;36mlib64\u001b[0m@  \u001b[01;34mmnt\u001b[0m/     \u001b[01;34mroot\u001b[0m/  \u001b[01;34msrv\u001b[0m/   \u001b[01;34musr\u001b[0m/\r\n"
     ]
    }
   ],
   "source": [
    "ls"
   ]
  },
  {
   "cell_type": "code",
   "execution_count": 8,
   "metadata": {},
   "outputs": [
    {
     "name": "stdout",
     "output_type": "stream",
     "text": [
      "/flask_jupyter\n"
     ]
    }
   ],
   "source": [
    "cd flask_jupyter"
   ]
  },
  {
   "cell_type": "code",
   "execution_count": 9,
   "metadata": {},
   "outputs": [
    {
     "name": "stdout",
     "output_type": "stream",
     "text": [
      "\u001b[0m\u001b[01;34mdata\u001b[0m/  \u001b[01;34m__pycache__\u001b[0m/  \u001b[01;34mrecommender\u001b[0m/  \u001b[01;34mspotawheel\u001b[0m/  spotawheel1.ipynb\r\n"
     ]
    }
   ],
   "source": [
    "ls"
   ]
  },
  {
   "cell_type": "code",
   "execution_count": 10,
   "metadata": {},
   "outputs": [
    {
     "name": "stdout",
     "output_type": "stream",
     "text": [
      "/flask_jupyter/spotawheel\n"
     ]
    }
   ],
   "source": [
    "cd spotawheel"
   ]
  },
  {
   "cell_type": "code",
   "execution_count": 11,
   "metadata": {},
   "outputs": [
    {
     "name": "stdout",
     "output_type": "stream",
     "text": [
      "'Spotawheel_case_study (1).csv'   spw1.ipynb   spw2.ipynb   Untitled.ipynb\r\n"
     ]
    }
   ],
   "source": [
    "ls"
   ]
  },
  {
   "cell_type": "code",
   "execution_count": 14,
   "metadata": {},
   "outputs": [
    {
     "data": {
      "text/html": [
       "<div>\n",
       "<style scoped>\n",
       "    .dataframe tbody tr th:only-of-type {\n",
       "        vertical-align: middle;\n",
       "    }\n",
       "\n",
       "    .dataframe tbody tr th {\n",
       "        vertical-align: top;\n",
       "    }\n",
       "\n",
       "    .dataframe thead th {\n",
       "        text-align: right;\n",
       "    }\n",
       "</style>\n",
       "<table border=\"1\" class=\"dataframe\">\n",
       "  <thead>\n",
       "    <tr style=\"text-align: right;\">\n",
       "      <th></th>\n",
       "      <th>Name</th>\n",
       "      <th>Kilometers_Driven</th>\n",
       "      <th>Fuel_Type</th>\n",
       "      <th>Transmission</th>\n",
       "      <th>Owner_Type</th>\n",
       "      <th>Mileage</th>\n",
       "      <th>Engine</th>\n",
       "      <th>Power</th>\n",
       "      <th>Seats</th>\n",
       "      <th>Price</th>\n",
       "      <th>Age</th>\n",
       "    </tr>\n",
       "  </thead>\n",
       "  <tbody>\n",
       "    <tr>\n",
       "      <th>0</th>\n",
       "      <td>Hyundai i10 Era</td>\n",
       "      <td>60000</td>\n",
       "      <td>Petrol</td>\n",
       "      <td>Manual</td>\n",
       "      <td>2</td>\n",
       "      <td>19.81</td>\n",
       "      <td>1086</td>\n",
       "      <td>68.05</td>\n",
       "      <td>5</td>\n",
       "      <td>2650.0</td>\n",
       "      <td>9</td>\n",
       "    </tr>\n",
       "    <tr>\n",
       "      <th>1</th>\n",
       "      <td>Toyota Fortuner 4x2 Manual</td>\n",
       "      <td>73500</td>\n",
       "      <td>Diesel</td>\n",
       "      <td>Manual</td>\n",
       "      <td>1</td>\n",
       "      <td>13.00</td>\n",
       "      <td>2982</td>\n",
       "      <td>168.50</td>\n",
       "      <td>7</td>\n",
       "      <td>22000.0</td>\n",
       "      <td>6</td>\n",
       "    </tr>\n",
       "    <tr>\n",
       "      <th>2</th>\n",
       "      <td>Mercedes-Benz E-Class 230 E AT</td>\n",
       "      <td>28888</td>\n",
       "      <td>Petrol</td>\n",
       "      <td>Automatic</td>\n",
       "      <td>1</td>\n",
       "      <td>10.00</td>\n",
       "      <td>2496</td>\n",
       "      <td>157.70</td>\n",
       "      <td>5</td>\n",
       "      <td>7560.0</td>\n",
       "      <td>12</td>\n",
       "    </tr>\n",
       "    <tr>\n",
       "      <th>3</th>\n",
       "      <td>Volkswagen Polo Petrol Trendline 1.2L</td>\n",
       "      <td>41000</td>\n",
       "      <td>Petrol</td>\n",
       "      <td>Manual</td>\n",
       "      <td>1</td>\n",
       "      <td>16.47</td>\n",
       "      <td>1198</td>\n",
       "      <td>73.90</td>\n",
       "      <td>5</td>\n",
       "      <td>3100.0</td>\n",
       "      <td>9</td>\n",
       "    </tr>\n",
       "    <tr>\n",
       "      <th>4</th>\n",
       "      <td>Land Rover Range Rover Evoque 2.0 TD4 HSE Dynamic</td>\n",
       "      <td>52000</td>\n",
       "      <td>Diesel</td>\n",
       "      <td>Automatic</td>\n",
       "      <td>1</td>\n",
       "      <td>15.68</td>\n",
       "      <td>1999</td>\n",
       "      <td>177.00</td>\n",
       "      <td>5</td>\n",
       "      <td>42000.0</td>\n",
       "      <td>5</td>\n",
       "    </tr>\n",
       "    <tr>\n",
       "      <th>...</th>\n",
       "      <td>...</td>\n",
       "      <td>...</td>\n",
       "      <td>...</td>\n",
       "      <td>...</td>\n",
       "      <td>...</td>\n",
       "      <td>...</td>\n",
       "      <td>...</td>\n",
       "      <td>...</td>\n",
       "      <td>...</td>\n",
       "      <td>...</td>\n",
       "      <td>...</td>\n",
       "    </tr>\n",
       "    <tr>\n",
       "      <th>4902</th>\n",
       "      <td>Toyota Innova 2.5 G (Diesel) 8 Seater</td>\n",
       "      <td>250000</td>\n",
       "      <td>Diesel</td>\n",
       "      <td>Manual</td>\n",
       "      <td>2</td>\n",
       "      <td>12.99</td>\n",
       "      <td>2494</td>\n",
       "      <td>100.60</td>\n",
       "      <td>8</td>\n",
       "      <td>7900.0</td>\n",
       "      <td>8</td>\n",
       "    </tr>\n",
       "    <tr>\n",
       "      <th>4903</th>\n",
       "      <td>Mercedes-Benz New C-Class 220 CDI AT</td>\n",
       "      <td>38000</td>\n",
       "      <td>Diesel</td>\n",
       "      <td>Automatic</td>\n",
       "      <td>1</td>\n",
       "      <td>14.84</td>\n",
       "      <td>2143</td>\n",
       "      <td>170.00</td>\n",
       "      <td>5</td>\n",
       "      <td>13510.0</td>\n",
       "      <td>9</td>\n",
       "    </tr>\n",
       "    <tr>\n",
       "      <th>4904</th>\n",
       "      <td>Toyota Innova Crysta 2.8 ZX AT</td>\n",
       "      <td>40674</td>\n",
       "      <td>Diesel</td>\n",
       "      <td>Automatic</td>\n",
       "      <td>1</td>\n",
       "      <td>11.36</td>\n",
       "      <td>2755</td>\n",
       "      <td>171.50</td>\n",
       "      <td>7</td>\n",
       "      <td>24820.0</td>\n",
       "      <td>2</td>\n",
       "    </tr>\n",
       "    <tr>\n",
       "      <th>4905</th>\n",
       "      <td>Honda City i VTEC V</td>\n",
       "      <td>62505</td>\n",
       "      <td>Petrol</td>\n",
       "      <td>Manual</td>\n",
       "      <td>1</td>\n",
       "      <td>17.40</td>\n",
       "      <td>1497</td>\n",
       "      <td>117.30</td>\n",
       "      <td>5</td>\n",
       "      <td>5950.0</td>\n",
       "      <td>7</td>\n",
       "    </tr>\n",
       "    <tr>\n",
       "      <th>4906</th>\n",
       "      <td>Maruti Swift ZXI</td>\n",
       "      <td>40000</td>\n",
       "      <td>Petrol</td>\n",
       "      <td>Manual</td>\n",
       "      <td>1</td>\n",
       "      <td>20.40</td>\n",
       "      <td>1197</td>\n",
       "      <td>81.80</td>\n",
       "      <td>5</td>\n",
       "      <td>5900.0</td>\n",
       "      <td>6</td>\n",
       "    </tr>\n",
       "  </tbody>\n",
       "</table>\n",
       "<p>4907 rows × 11 columns</p>\n",
       "</div>"
      ],
      "text/plain": [
       "                                                   Name  Kilometers_Driven  \\\n",
       "0                                       Hyundai i10 Era              60000   \n",
       "1                            Toyota Fortuner 4x2 Manual              73500   \n",
       "2                        Mercedes-Benz E-Class 230 E AT              28888   \n",
       "3                 Volkswagen Polo Petrol Trendline 1.2L              41000   \n",
       "4     Land Rover Range Rover Evoque 2.0 TD4 HSE Dynamic              52000   \n",
       "...                                                 ...                ...   \n",
       "4902              Toyota Innova 2.5 G (Diesel) 8 Seater             250000   \n",
       "4903               Mercedes-Benz New C-Class 220 CDI AT              38000   \n",
       "4904                     Toyota Innova Crysta 2.8 ZX AT              40674   \n",
       "4905                                Honda City i VTEC V              62505   \n",
       "4906                                   Maruti Swift ZXI              40000   \n",
       "\n",
       "     Fuel_Type Transmission  Owner_Type  Mileage  Engine   Power  Seats  \\\n",
       "0       Petrol       Manual           2    19.81    1086   68.05      5   \n",
       "1       Diesel       Manual           1    13.00    2982  168.50      7   \n",
       "2       Petrol    Automatic           1    10.00    2496  157.70      5   \n",
       "3       Petrol       Manual           1    16.47    1198   73.90      5   \n",
       "4       Diesel    Automatic           1    15.68    1999  177.00      5   \n",
       "...        ...          ...         ...      ...     ...     ...    ...   \n",
       "4902    Diesel       Manual           2    12.99    2494  100.60      8   \n",
       "4903    Diesel    Automatic           1    14.84    2143  170.00      5   \n",
       "4904    Diesel    Automatic           1    11.36    2755  171.50      7   \n",
       "4905    Petrol       Manual           1    17.40    1497  117.30      5   \n",
       "4906    Petrol       Manual           1    20.40    1197   81.80      5   \n",
       "\n",
       "        Price  Age  \n",
       "0      2650.0    9  \n",
       "1     22000.0    6  \n",
       "2      7560.0   12  \n",
       "3      3100.0    9  \n",
       "4     42000.0    5  \n",
       "...       ...  ...  \n",
       "4902   7900.0    8  \n",
       "4903  13510.0    9  \n",
       "4904  24820.0    2  \n",
       "4905   5950.0    7  \n",
       "4906   5900.0    6  \n",
       "\n",
       "[4907 rows x 11 columns]"
      ]
     },
     "execution_count": 14,
     "metadata": {},
     "output_type": "execute_result"
    }
   ],
   "source": [
    "import pandas as pd\n",
    "df = pd.read_csv('Spotawheel_case_study (1).csv')\n",
    "df"
   ]
  },
  {
   "cell_type": "code",
   "execution_count": null,
   "metadata": {},
   "outputs": [],
   "source": [
    "find how many unique brands"
   ]
  },
  {
   "cell_type": "code",
   "execution_count": null,
   "metadata": {},
   "outputs": [],
   "source": [
    "find range how many kilometers_driven"
   ]
  },
  {
   "cell_type": "code",
   "execution_count": null,
   "metadata": {},
   "outputs": [],
   "source": [
    "how many types of transmission, how many cars are manual, how many are automatic"
   ]
  },
  {
   "cell_type": "code",
   "execution_count": null,
   "metadata": {},
   "outputs": [],
   "source": [
    "find price range"
   ]
  },
  {
   "cell_type": "code",
   "execution_count": null,
   "metadata": {},
   "outputs": [],
   "source": [
    "find relations between kilometers_driven and price"
   ]
  },
  {
   "cell_type": "code",
   "execution_count": null,
   "metadata": {},
   "outputs": [],
   "source": [
    "find relations between age and price"
   ]
  },
  {
   "cell_type": "code",
   "execution_count": 38,
   "metadata": {},
   "outputs": [
    {
     "data": {
      "text/html": [
       "<div>\n",
       "<style scoped>\n",
       "    .dataframe tbody tr th:only-of-type {\n",
       "        vertical-align: middle;\n",
       "    }\n",
       "\n",
       "    .dataframe tbody tr th {\n",
       "        vertical-align: top;\n",
       "    }\n",
       "\n",
       "    .dataframe thead th {\n",
       "        text-align: right;\n",
       "    }\n",
       "</style>\n",
       "<table border=\"1\" class=\"dataframe\">\n",
       "  <thead>\n",
       "    <tr style=\"text-align: right;\">\n",
       "      <th></th>\n",
       "      <th>Name</th>\n",
       "      <th>Kilometers_Driven</th>\n",
       "      <th>Fuel_Type</th>\n",
       "      <th>Transmission</th>\n",
       "      <th>Owner_Type</th>\n",
       "      <th>Mileage</th>\n",
       "      <th>Engine</th>\n",
       "      <th>Power</th>\n",
       "      <th>Seats</th>\n",
       "      <th>Price</th>\n",
       "      <th>Age</th>\n",
       "      <th>Brand</th>\n",
       "    </tr>\n",
       "  </thead>\n",
       "  <tbody>\n",
       "    <tr>\n",
       "      <th>1000</th>\n",
       "      <td>Maruti Baleno Delta 1.2</td>\n",
       "      <td>25093</td>\n",
       "      <td>Petrol</td>\n",
       "      <td>Manual</td>\n",
       "      <td>1</td>\n",
       "      <td>21.40</td>\n",
       "      <td>1197</td>\n",
       "      <td>83.10</td>\n",
       "      <td>5</td>\n",
       "      <td>7760.0</td>\n",
       "      <td>3</td>\n",
       "      <td>Maruti</td>\n",
       "    </tr>\n",
       "    <tr>\n",
       "      <th>1001</th>\n",
       "      <td>Honda Jazz 1.5 VX i DTEC</td>\n",
       "      <td>27210</td>\n",
       "      <td>Diesel</td>\n",
       "      <td>Manual</td>\n",
       "      <td>1</td>\n",
       "      <td>27.30</td>\n",
       "      <td>1498</td>\n",
       "      <td>98.60</td>\n",
       "      <td>5</td>\n",
       "      <td>5850.0</td>\n",
       "      <td>5</td>\n",
       "      <td>Honda</td>\n",
       "    </tr>\n",
       "    <tr>\n",
       "      <th>1002</th>\n",
       "      <td>Mahindra XUV500 W8 2WD</td>\n",
       "      <td>87736</td>\n",
       "      <td>Diesel</td>\n",
       "      <td>Manual</td>\n",
       "      <td>1</td>\n",
       "      <td>15.10</td>\n",
       "      <td>2179</td>\n",
       "      <td>140.00</td>\n",
       "      <td>7</td>\n",
       "      <td>7020.0</td>\n",
       "      <td>8</td>\n",
       "      <td>Mahindra</td>\n",
       "    </tr>\n",
       "    <tr>\n",
       "      <th>1003</th>\n",
       "      <td>Maruti Wagon R LXI CNG</td>\n",
       "      <td>83875</td>\n",
       "      <td>CNG</td>\n",
       "      <td>Manual</td>\n",
       "      <td>2</td>\n",
       "      <td>26.60</td>\n",
       "      <td>998</td>\n",
       "      <td>58.16</td>\n",
       "      <td>5</td>\n",
       "      <td>2950.0</td>\n",
       "      <td>8</td>\n",
       "      <td>Maruti</td>\n",
       "    </tr>\n",
       "    <tr>\n",
       "      <th>1004</th>\n",
       "      <td>Maruti Celerio ZXI</td>\n",
       "      <td>31396</td>\n",
       "      <td>Petrol</td>\n",
       "      <td>Manual</td>\n",
       "      <td>1</td>\n",
       "      <td>23.10</td>\n",
       "      <td>998</td>\n",
       "      <td>67.04</td>\n",
       "      <td>5</td>\n",
       "      <td>5530.0</td>\n",
       "      <td>3</td>\n",
       "      <td>Maruti</td>\n",
       "    </tr>\n",
       "    <tr>\n",
       "      <th>1005</th>\n",
       "      <td>Hyundai Grand i10 Sportz</td>\n",
       "      <td>59767</td>\n",
       "      <td>Petrol</td>\n",
       "      <td>Manual</td>\n",
       "      <td>1</td>\n",
       "      <td>18.90</td>\n",
       "      <td>1197</td>\n",
       "      <td>82.00</td>\n",
       "      <td>5</td>\n",
       "      <td>4780.0</td>\n",
       "      <td>5</td>\n",
       "      <td>Hyundai</td>\n",
       "    </tr>\n",
       "    <tr>\n",
       "      <th>1006</th>\n",
       "      <td>BMW X5 3.0d</td>\n",
       "      <td>101119</td>\n",
       "      <td>Diesel</td>\n",
       "      <td>Automatic</td>\n",
       "      <td>1</td>\n",
       "      <td>11.00</td>\n",
       "      <td>2993</td>\n",
       "      <td>235.00</td>\n",
       "      <td>5</td>\n",
       "      <td>18460.0</td>\n",
       "      <td>11</td>\n",
       "      <td>BMW</td>\n",
       "    </tr>\n",
       "    <tr>\n",
       "      <th>1007</th>\n",
       "      <td>Skoda Rapid Ultima 1.6 MPI Ambition Plus</td>\n",
       "      <td>66700</td>\n",
       "      <td>Petrol</td>\n",
       "      <td>Manual</td>\n",
       "      <td>1</td>\n",
       "      <td>15.00</td>\n",
       "      <td>1598</td>\n",
       "      <td>103.50</td>\n",
       "      <td>5</td>\n",
       "      <td>4000.0</td>\n",
       "      <td>8</td>\n",
       "      <td>Skoda</td>\n",
       "    </tr>\n",
       "    <tr>\n",
       "      <th>1008</th>\n",
       "      <td>Mercedes-Benz S-Class 280 AT</td>\n",
       "      <td>119859</td>\n",
       "      <td>Petrol</td>\n",
       "      <td>Automatic</td>\n",
       "      <td>1</td>\n",
       "      <td>13.00</td>\n",
       "      <td>2987</td>\n",
       "      <td>210.00</td>\n",
       "      <td>5</td>\n",
       "      <td>7100.0</td>\n",
       "      <td>17</td>\n",
       "      <td>Mercedes-Benz</td>\n",
       "    </tr>\n",
       "    <tr>\n",
       "      <th>1009</th>\n",
       "      <td>BMW 3 Series 320d</td>\n",
       "      <td>67000</td>\n",
       "      <td>Diesel</td>\n",
       "      <td>Automatic</td>\n",
       "      <td>2</td>\n",
       "      <td>22.69</td>\n",
       "      <td>1995</td>\n",
       "      <td>190.00</td>\n",
       "      <td>5</td>\n",
       "      <td>9250.0</td>\n",
       "      <td>11</td>\n",
       "      <td>BMW</td>\n",
       "    </tr>\n",
       "    <tr>\n",
       "      <th>1010</th>\n",
       "      <td>Renault KWID RXT</td>\n",
       "      <td>28000</td>\n",
       "      <td>Petrol</td>\n",
       "      <td>Manual</td>\n",
       "      <td>1</td>\n",
       "      <td>25.17</td>\n",
       "      <td>799</td>\n",
       "      <td>53.30</td>\n",
       "      <td>5</td>\n",
       "      <td>2650.0</td>\n",
       "      <td>6</td>\n",
       "      <td>Renault</td>\n",
       "    </tr>\n",
       "    <tr>\n",
       "      <th>1011</th>\n",
       "      <td>BMW X5 xDrive 30d M Sport</td>\n",
       "      <td>45000</td>\n",
       "      <td>Diesel</td>\n",
       "      <td>Automatic</td>\n",
       "      <td>1</td>\n",
       "      <td>15.97</td>\n",
       "      <td>2993</td>\n",
       "      <td>258.00</td>\n",
       "      <td>5</td>\n",
       "      <td>57000.0</td>\n",
       "      <td>5</td>\n",
       "      <td>BMW</td>\n",
       "    </tr>\n",
       "    <tr>\n",
       "      <th>1012</th>\n",
       "      <td>Audi Q3 2.0 TDI</td>\n",
       "      <td>65630</td>\n",
       "      <td>Diesel</td>\n",
       "      <td>Automatic</td>\n",
       "      <td>1</td>\n",
       "      <td>15.73</td>\n",
       "      <td>1968</td>\n",
       "      <td>174.33</td>\n",
       "      <td>5</td>\n",
       "      <td>21750.0</td>\n",
       "      <td>7</td>\n",
       "      <td>Audi</td>\n",
       "    </tr>\n",
       "    <tr>\n",
       "      <th>1013</th>\n",
       "      <td>Hyundai i20 1.2 Magna</td>\n",
       "      <td>59000</td>\n",
       "      <td>Petrol</td>\n",
       "      <td>Manual</td>\n",
       "      <td>1</td>\n",
       "      <td>18.50</td>\n",
       "      <td>1197</td>\n",
       "      <td>80.00</td>\n",
       "      <td>5</td>\n",
       "      <td>5750.0</td>\n",
       "      <td>6</td>\n",
       "      <td>Hyundai</td>\n",
       "    </tr>\n",
       "    <tr>\n",
       "      <th>1014</th>\n",
       "      <td>Hyundai Grand i10 Sportz</td>\n",
       "      <td>47774</td>\n",
       "      <td>Petrol</td>\n",
       "      <td>Manual</td>\n",
       "      <td>1</td>\n",
       "      <td>18.90</td>\n",
       "      <td>1197</td>\n",
       "      <td>82.00</td>\n",
       "      <td>5</td>\n",
       "      <td>6040.0</td>\n",
       "      <td>4</td>\n",
       "      <td>Hyundai</td>\n",
       "    </tr>\n",
       "    <tr>\n",
       "      <th>1015</th>\n",
       "      <td>Hyundai EON Era Plus</td>\n",
       "      <td>13102</td>\n",
       "      <td>Petrol</td>\n",
       "      <td>Manual</td>\n",
       "      <td>1</td>\n",
       "      <td>21.10</td>\n",
       "      <td>814</td>\n",
       "      <td>55.20</td>\n",
       "      <td>5</td>\n",
       "      <td>4060.0</td>\n",
       "      <td>3</td>\n",
       "      <td>Hyundai</td>\n",
       "    </tr>\n",
       "    <tr>\n",
       "      <th>1016</th>\n",
       "      <td>Hyundai Getz GLE</td>\n",
       "      <td>58307</td>\n",
       "      <td>Petrol</td>\n",
       "      <td>Manual</td>\n",
       "      <td>1</td>\n",
       "      <td>15.30</td>\n",
       "      <td>1341</td>\n",
       "      <td>83.00</td>\n",
       "      <td>5</td>\n",
       "      <td>1950.0</td>\n",
       "      <td>14</td>\n",
       "      <td>Hyundai</td>\n",
       "    </tr>\n",
       "    <tr>\n",
       "      <th>1017</th>\n",
       "      <td>Hyundai Creta 1.6 VTVT S</td>\n",
       "      <td>36855</td>\n",
       "      <td>Petrol</td>\n",
       "      <td>Manual</td>\n",
       "      <td>2</td>\n",
       "      <td>15.29</td>\n",
       "      <td>1591</td>\n",
       "      <td>121.30</td>\n",
       "      <td>5</td>\n",
       "      <td>8770.0</td>\n",
       "      <td>5</td>\n",
       "      <td>Hyundai</td>\n",
       "    </tr>\n",
       "    <tr>\n",
       "      <th>1018</th>\n",
       "      <td>Honda Jazz Exclusive CVT</td>\n",
       "      <td>3000</td>\n",
       "      <td>Petrol</td>\n",
       "      <td>Automatic</td>\n",
       "      <td>1</td>\n",
       "      <td>19.00</td>\n",
       "      <td>1199</td>\n",
       "      <td>88.70</td>\n",
       "      <td>5</td>\n",
       "      <td>8250.0</td>\n",
       "      <td>3</td>\n",
       "      <td>Honda</td>\n",
       "    </tr>\n",
       "    <tr>\n",
       "      <th>1019</th>\n",
       "      <td>Hyundai Xcent 1.1 CRDi Base</td>\n",
       "      <td>76000</td>\n",
       "      <td>Diesel</td>\n",
       "      <td>Manual</td>\n",
       "      <td>1</td>\n",
       "      <td>24.40</td>\n",
       "      <td>1120</td>\n",
       "      <td>71.00</td>\n",
       "      <td>5</td>\n",
       "      <td>3800.0</td>\n",
       "      <td>5</td>\n",
       "      <td>Hyundai</td>\n",
       "    </tr>\n",
       "  </tbody>\n",
       "</table>\n",
       "</div>"
      ],
      "text/plain": [
       "                                          Name  Kilometers_Driven Fuel_Type  \\\n",
       "1000                   Maruti Baleno Delta 1.2              25093    Petrol   \n",
       "1001                  Honda Jazz 1.5 VX i DTEC              27210    Diesel   \n",
       "1002                    Mahindra XUV500 W8 2WD              87736    Diesel   \n",
       "1003                    Maruti Wagon R LXI CNG              83875       CNG   \n",
       "1004                        Maruti Celerio ZXI              31396    Petrol   \n",
       "1005                  Hyundai Grand i10 Sportz              59767    Petrol   \n",
       "1006                               BMW X5 3.0d             101119    Diesel   \n",
       "1007  Skoda Rapid Ultima 1.6 MPI Ambition Plus              66700    Petrol   \n",
       "1008              Mercedes-Benz S-Class 280 AT             119859    Petrol   \n",
       "1009                         BMW 3 Series 320d              67000    Diesel   \n",
       "1010                          Renault KWID RXT              28000    Petrol   \n",
       "1011                 BMW X5 xDrive 30d M Sport              45000    Diesel   \n",
       "1012                           Audi Q3 2.0 TDI              65630    Diesel   \n",
       "1013                     Hyundai i20 1.2 Magna              59000    Petrol   \n",
       "1014                  Hyundai Grand i10 Sportz              47774    Petrol   \n",
       "1015                      Hyundai EON Era Plus              13102    Petrol   \n",
       "1016                          Hyundai Getz GLE              58307    Petrol   \n",
       "1017                  Hyundai Creta 1.6 VTVT S              36855    Petrol   \n",
       "1018                  Honda Jazz Exclusive CVT               3000    Petrol   \n",
       "1019               Hyundai Xcent 1.1 CRDi Base              76000    Diesel   \n",
       "\n",
       "     Transmission  Owner_Type  Mileage  Engine   Power  Seats    Price  Age  \\\n",
       "1000       Manual           1    21.40    1197   83.10      5   7760.0    3   \n",
       "1001       Manual           1    27.30    1498   98.60      5   5850.0    5   \n",
       "1002       Manual           1    15.10    2179  140.00      7   7020.0    8   \n",
       "1003       Manual           2    26.60     998   58.16      5   2950.0    8   \n",
       "1004       Manual           1    23.10     998   67.04      5   5530.0    3   \n",
       "1005       Manual           1    18.90    1197   82.00      5   4780.0    5   \n",
       "1006    Automatic           1    11.00    2993  235.00      5  18460.0   11   \n",
       "1007       Manual           1    15.00    1598  103.50      5   4000.0    8   \n",
       "1008    Automatic           1    13.00    2987  210.00      5   7100.0   17   \n",
       "1009    Automatic           2    22.69    1995  190.00      5   9250.0   11   \n",
       "1010       Manual           1    25.17     799   53.30      5   2650.0    6   \n",
       "1011    Automatic           1    15.97    2993  258.00      5  57000.0    5   \n",
       "1012    Automatic           1    15.73    1968  174.33      5  21750.0    7   \n",
       "1013       Manual           1    18.50    1197   80.00      5   5750.0    6   \n",
       "1014       Manual           1    18.90    1197   82.00      5   6040.0    4   \n",
       "1015       Manual           1    21.10     814   55.20      5   4060.0    3   \n",
       "1016       Manual           1    15.30    1341   83.00      5   1950.0   14   \n",
       "1017       Manual           2    15.29    1591  121.30      5   8770.0    5   \n",
       "1018    Automatic           1    19.00    1199   88.70      5   8250.0    3   \n",
       "1019       Manual           1    24.40    1120   71.00      5   3800.0    5   \n",
       "\n",
       "              Brand  \n",
       "1000         Maruti  \n",
       "1001          Honda  \n",
       "1002       Mahindra  \n",
       "1003         Maruti  \n",
       "1004         Maruti  \n",
       "1005        Hyundai  \n",
       "1006            BMW  \n",
       "1007          Skoda  \n",
       "1008  Mercedes-Benz  \n",
       "1009            BMW  \n",
       "1010        Renault  \n",
       "1011            BMW  \n",
       "1012           Audi  \n",
       "1013        Hyundai  \n",
       "1014        Hyundai  \n",
       "1015        Hyundai  \n",
       "1016        Hyundai  \n",
       "1017        Hyundai  \n",
       "1018          Honda  \n",
       "1019        Hyundai  "
      ]
     },
     "execution_count": 38,
     "metadata": {},
     "output_type": "execute_result"
    }
   ],
   "source": [
    "df[1000:1020]"
   ]
  },
  {
   "cell_type": "code",
   "execution_count": 28,
   "metadata": {},
   "outputs": [
    {
     "name": "stdout",
     "output_type": "stream",
     "text": [
      "Rows     :  4907\n",
      "Columns  :  11\n",
      "######################################## \n",
      " Features : \n",
      "\n",
      " ['Name', 'Kilometers_Driven', 'Fuel_Type', 'Transmission', 'Owner_Type', 'Mileage', 'Engine', 'Power', 'Seats', 'Price', 'Age']\n",
      "######################################## \n",
      "Missing values :\n",
      "\n",
      " Age                  0\n",
      "Price                0\n",
      "Seats                0\n",
      "Power                0\n",
      "Engine               0\n",
      "Mileage              0\n",
      "Owner_Type           0\n",
      "Transmission         0\n",
      "Fuel_Type            0\n",
      "Kilometers_Driven    0\n",
      "Name                 0\n",
      "dtype: int64\n",
      "######################################## \n",
      "Percent of missing :\n",
      "\n",
      " Name                 0.0\n",
      "Kilometers_Driven    0.0\n",
      "Fuel_Type            0.0\n",
      "Transmission         0.0\n",
      "Owner_Type           0.0\n",
      "Mileage              0.0\n",
      "Engine               0.0\n",
      "Power                0.0\n",
      "Seats                0.0\n",
      "Price                0.0\n",
      "Age                  0.0\n",
      "dtype: float64\n",
      "######################################## \n",
      "Unique values :  \n",
      "\n",
      " Name                 1661\n",
      "Kilometers_Driven    2580\n",
      "Fuel_Type               4\n",
      "Transmission            2\n",
      "Owner_Type              4\n",
      "Mileage               415\n",
      "Engine                137\n",
      "Power                 352\n",
      "Seats                   8\n",
      "Price                1214\n",
      "Age                    22\n",
      "dtype: int64\n"
     ]
    }
   ],
   "source": [
    "#get the size of dataframe\n",
    "print (\"Rows     : \" , df.shape[0])  #get number of rows/observations\n",
    "print (\"Columns  : \" , df.shape[1]) #get number of columns\n",
    "print (\"#\"*40,\"\\n\",\"Features : \\n\\n\", df.columns.tolist()) #get name of columns/features\n",
    "print (\"#\"*40,\"\\nMissing values :\\n\\n\", df.isnull().sum().sort_values(ascending=False))\n",
    "print( \"#\"*40,\"\\nPercent of missing :\\n\\n\", round(df.isna().sum() / df.isna().count() * 100, 2)) # looking at columns with most Missing Values\n",
    "print (\"#\"*40,\"\\nUnique values :  \\n\\n\", df.nunique())  #  count of unique values"
   ]
  },
  {
   "cell_type": "code",
   "execution_count": 29,
   "metadata": {},
   "outputs": [
    {
     "name": "stdout",
     "output_type": "stream",
     "text": [
      "<class 'pandas.core.frame.DataFrame'>\n",
      "RangeIndex: 4907 entries, 0 to 4906\n",
      "Data columns (total 11 columns):\n",
      " #   Column             Non-Null Count  Dtype  \n",
      "---  ------             --------------  -----  \n",
      " 0   Name               4907 non-null   object \n",
      " 1   Kilometers_Driven  4907 non-null   int64  \n",
      " 2   Fuel_Type          4907 non-null   object \n",
      " 3   Transmission       4907 non-null   object \n",
      " 4   Owner_Type         4907 non-null   int64  \n",
      " 5   Mileage            4907 non-null   float64\n",
      " 6   Engine             4907 non-null   int64  \n",
      " 7   Power              4907 non-null   float64\n",
      " 8   Seats              4907 non-null   int64  \n",
      " 9   Price              4907 non-null   float64\n",
      " 10  Age                4907 non-null   int64  \n",
      "dtypes: float64(3), int64(5), object(3)\n",
      "memory usage: 421.8+ KB\n"
     ]
    }
   ],
   "source": [
    "df.info()"
   ]
  },
  {
   "cell_type": "code",
   "execution_count": 30,
   "metadata": {},
   "outputs": [
    {
     "name": "stdout",
     "output_type": "stream",
     "text": [
      "7     653\n",
      "6     614\n",
      "5     610\n",
      "8     541\n",
      "9     479\n",
      "4     478\n",
      "10    376\n",
      "11    281\n",
      "3     253\n",
      "12    163\n",
      "13    139\n",
      "2      89\n",
      "14     86\n",
      "15     52\n",
      "16     34\n",
      "17     23\n",
      "18     13\n",
      "19     12\n",
      "21      3\n",
      "20      3\n",
      "23      3\n",
      "22      2\n",
      "Name: Age, dtype: int64\n"
     ]
    }
   ],
   "source": [
    "print(df[\"Age\"].value_counts())\n",
    "#most cars are aged between 4-10 years old"
   ]
  },
  {
   "cell_type": "code",
   "execution_count": 31,
   "metadata": {},
   "outputs": [],
   "source": [
    "df['Brand'] = df['Name'].str.split(' ').str[0] #Separating Brand name from the Name"
   ]
  },
  {
   "cell_type": "code",
   "execution_count": 32,
   "metadata": {},
   "outputs": [
    {
     "data": {
      "text/plain": [
       "array(['Hyundai', 'Toyota', 'Mercedes-Benz', 'Volkswagen', 'Land', 'Ford',\n",
       "       'BMW', 'Mahindra', 'Maruti', 'Audi', 'Honda', 'Nissan', 'Skoda',\n",
       "       'Renault', 'Chevrolet', 'Tata', 'Fiat', 'Jeep', 'Datsun', 'Mini',\n",
       "       'Jaguar', 'Porsche', 'Mitsubishi', 'Volvo', 'Lamborghini', 'Force',\n",
       "       'Ambassador', 'Bentley', 'ISUZU', 'Isuzu'], dtype=object)"
      ]
     },
     "execution_count": 32,
     "metadata": {},
     "output_type": "execute_result"
    }
   ],
   "source": [
    "df.Brand.unique()"
   ]
  },
  {
   "cell_type": "code",
   "execution_count": 36,
   "metadata": {},
   "outputs": [
    {
     "data": {
      "text/html": [
       "<div>\n",
       "<style scoped>\n",
       "    .dataframe tbody tr th:only-of-type {\n",
       "        vertical-align: middle;\n",
       "    }\n",
       "\n",
       "    .dataframe tbody tr th {\n",
       "        vertical-align: top;\n",
       "    }\n",
       "\n",
       "    .dataframe thead th {\n",
       "        text-align: right;\n",
       "    }\n",
       "</style>\n",
       "<table border=\"1\" class=\"dataframe\">\n",
       "  <thead>\n",
       "    <tr style=\"text-align: right;\">\n",
       "      <th></th>\n",
       "      <th>Name</th>\n",
       "      <th>Kilometers_Driven</th>\n",
       "      <th>Fuel_Type</th>\n",
       "      <th>Transmission</th>\n",
       "      <th>Owner_Type</th>\n",
       "      <th>Mileage</th>\n",
       "      <th>Engine</th>\n",
       "      <th>Power</th>\n",
       "      <th>Seats</th>\n",
       "      <th>Price</th>\n",
       "      <th>Age</th>\n",
       "      <th>Brand</th>\n",
       "    </tr>\n",
       "  </thead>\n",
       "  <tbody>\n",
       "    <tr>\n",
       "      <th>3885</th>\n",
       "      <td>Isuzu MUX 4WD</td>\n",
       "      <td>34429</td>\n",
       "      <td>Diesel</td>\n",
       "      <td>Automatic</td>\n",
       "      <td>1</td>\n",
       "      <td>13.8</td>\n",
       "      <td>2999</td>\n",
       "      <td>174.57</td>\n",
       "      <td>7</td>\n",
       "      <td>20000.0</td>\n",
       "      <td>4</td>\n",
       "      <td>Isuzu</td>\n",
       "    </tr>\n",
       "  </tbody>\n",
       "</table>\n",
       "</div>"
      ],
      "text/plain": [
       "               Name  Kilometers_Driven Fuel_Type Transmission  Owner_Type  \\\n",
       "3885  Isuzu MUX 4WD              34429    Diesel    Automatic           1   \n",
       "\n",
       "      Mileage  Engine   Power  Seats    Price  Age  Brand  \n",
       "3885     13.8    2999  174.57      7  20000.0    4  Isuzu  "
      ]
     },
     "execution_count": 36,
     "metadata": {},
     "output_type": "execute_result"
    }
   ],
   "source": [
    "df[df[\"Brand\"] == 'Isuzu']"
   ]
  },
  {
   "cell_type": "code",
   "execution_count": null,
   "metadata": {},
   "outputs": [],
   "source": []
  },
  {
   "cell_type": "code",
   "execution_count": 37,
   "metadata": {},
   "outputs": [
    {
     "data": {
      "text/plain": [
       "Brand\n",
       "Maruti           997\n",
       "Hyundai          881\n",
       "Honda            498\n",
       "Toyota           335\n",
       "Mercedes-Benz    268\n",
       "Volkswagen       265\n",
       "Ford             239\n",
       "BMW              221\n",
       "Mahindra         205\n",
       "Audi             191\n",
       "Tata             156\n",
       "Skoda            143\n",
       "Renault          123\n",
       "Chevrolet         98\n",
       "Nissan            83\n",
       "Land              49\n",
       "Jaguar            32\n",
       "Mitsubishi        25\n",
       "Mini              21\n",
       "Fiat              20\n",
       "Volvo             16\n",
       "Porsche           12\n",
       "Datsun            11\n",
       "Jeep              11\n",
       "Force              2\n",
       "ISUZU              1\n",
       "Bentley            1\n",
       "Isuzu              1\n",
       "Lamborghini        1\n",
       "Ambassador         1\n",
       "dtype: int64"
      ]
     },
     "execution_count": 37,
     "metadata": {},
     "output_type": "execute_result"
    }
   ],
   "source": [
    "df.groupby(df.Brand).size().sort_values(ascending =False)"
   ]
  },
  {
   "cell_type": "code",
   "execution_count": null,
   "metadata": {},
   "outputs": [],
   "source": []
  },
  {
   "cell_type": "code",
   "execution_count": 67,
   "metadata": {},
   "outputs": [
    {
     "data": {
      "image/png": "[encoded data removed]",
      "text/plain": [
       "<Figure size 936x1224 with 8 Axes>"
      ]
     },
     "metadata": {
      "needs_background": "light"
     },
     "output_type": "display_data"
    }
   ],
   "source": [
    "import seaborn as sns\n",
    "import matplotlib.pyplot as plt\n",
    "numeric_columns = df.select_dtypes(include=np.number).columns.tolist()\n",
    "plt.figure(figsize=(13,17))\n",
    "\n",
    "for i, variable in enumerate(numeric_columns):\n",
    "                     plt.subplot(5,2,i+1)\n",
    "                     sns.scatterplot(x=df[variable],y=df['Price']).set(title='Price vs '+ variable)\n",
    "                     #plt.xticks(rotation=90)\n",
    "                     plt.tight_layout()\n",
    "\n"
   ]
  },
  {
   "cell_type": "code",
   "execution_count": null,
   "metadata": {},
   "outputs": [],
   "source": []
  },
  {
   "cell_type": "code",
   "execution_count": null,
   "metadata": {},
   "outputs": [],
   "source": []
  },
  {
   "cell_type": "code",
   "execution_count": 108,
   "metadata": {},
   "outputs": [],
   "source": [
    "x = df[[\"Kilometers_Driven\", \"Age\", \"Engine\", \"Seats\", \"Power\"]].values #have to include Brand and encoded them arggghhh\n",
    "y = df[\"Price\"].values"
   ]
  },
  {
   "cell_type": "code",
   "execution_count": 109,
   "metadata": {},
   "outputs": [
    {
     "data": {
      "text/plain": [
       "array([[6.0000e+04, 9.0000e+00, 1.0860e+03, 5.0000e+00, 6.8050e+01],\n",
       "       [7.3500e+04, 6.0000e+00, 2.9820e+03, 7.0000e+00, 1.6850e+02],\n",
       "       [2.8888e+04, 1.2000e+01, 2.4960e+03, 5.0000e+00, 1.5770e+02],\n",
       "       ...,\n",
       "       [4.0674e+04, 2.0000e+00, 2.7550e+03, 7.0000e+00, 1.7150e+02],\n",
       "       [6.2505e+04, 7.0000e+00, 1.4970e+03, 5.0000e+00, 1.1730e+02],\n",
       "       [4.0000e+04, 6.0000e+00, 1.1970e+03, 5.0000e+00, 8.1800e+01]])"
      ]
     },
     "execution_count": 109,
     "metadata": {},
     "output_type": "execute_result"
    }
   ],
   "source": [
    "x"
   ]
  },
  {
   "cell_type": "code",
   "execution_count": 110,
   "metadata": {},
   "outputs": [
    {
     "data": {
      "text/plain": [
       "(4907, 12)"
      ]
     },
     "execution_count": 110,
     "metadata": {},
     "output_type": "execute_result"
    }
   ],
   "source": [
    "df.shape"
   ]
  },
  {
   "cell_type": "code",
   "execution_count": 111,
   "metadata": {},
   "outputs": [],
   "source": [
    "train_indices = int(0.7 * df.shape[0])\n",
    "x_train, x_val, y_train, y_val = (\n",
    "        x[:train_indices],\n",
    "        x[train_indices:],\n",
    "        y[:train_indices],\n",
    "        y[train_indices:],\n",
    "    )"
   ]
  },
  {
   "cell_type": "code",
   "execution_count": 112,
   "metadata": {},
   "outputs": [
    {
     "data": {
      "text/plain": [
       "array([[6.0000e+04, 9.0000e+00, 1.0860e+03, 5.0000e+00, 6.8050e+01],\n",
       "       [7.3500e+04, 6.0000e+00, 2.9820e+03, 7.0000e+00, 1.6850e+02],\n",
       "       [2.8888e+04, 1.2000e+01, 2.4960e+03, 5.0000e+00, 1.5770e+02],\n",
       "       ...,\n",
       "       [7.6126e+04, 7.0000e+00, 1.2480e+03, 5.0000e+00, 7.3900e+01],\n",
       "       [6.4000e+04, 6.0000e+00, 1.9950e+03, 5.0000e+00, 1.7700e+02],\n",
       "       [6.3888e+04, 9.0000e+00, 2.9870e+03, 5.0000e+00, 2.2400e+02]])"
      ]
     },
     "execution_count": 112,
     "metadata": {},
     "output_type": "execute_result"
    }
   ],
   "source": [
    "x_train"
   ]
  },
  {
   "cell_type": "code",
   "execution_count": 113,
   "metadata": {},
   "outputs": [
    {
     "data": {
      "text/plain": [
       "(3434, 5)"
      ]
     },
     "execution_count": 113,
     "metadata": {},
     "output_type": "execute_result"
    }
   ],
   "source": [
    "x_train.shape"
   ]
  },
  {
   "cell_type": "code",
   "execution_count": 114,
   "metadata": {},
   "outputs": [],
   "source": [
    "import numpy as np\n",
    "from sklearn.linear_model import LinearRegression\n",
    "reg = LinearRegression().fit(x_train, y_train)"
   ]
  },
  {
   "cell_type": "code",
   "execution_count": 115,
   "metadata": {},
   "outputs": [
    {
     "data": {
      "text/plain": [
       "LinearRegression()"
      ]
     },
     "execution_count": 115,
     "metadata": {},
     "output_type": "execute_result"
    }
   ],
   "source": [
    "reg"
   ]
  },
  {
   "cell_type": "code",
   "execution_count": 116,
   "metadata": {},
   "outputs": [
    {
     "data": {
      "text/plain": [
       "0.672490431278438"
      ]
     },
     "execution_count": 116,
     "metadata": {},
     "output_type": "execute_result"
    }
   ],
   "source": [
    "reg.score(x_train,y_train)"
   ]
  },
  {
   "cell_type": "code",
   "execution_count": 117,
   "metadata": {},
   "outputs": [
    {
     "data": {
      "text/plain": [
       "0.7181942027034236"
      ]
     },
     "execution_count": 117,
     "metadata": {},
     "output_type": "execute_result"
    }
   ],
   "source": [
    "reg.score(x_val,y_val)"
   ]
  },
  {
   "cell_type": "code",
   "execution_count": null,
   "metadata": {},
   "outputs": [],
   "source": []
  },
  {
   "cell_type": "code",
   "execution_count": null,
   "metadata": {},
   "outputs": [],
   "source": [
    "#5 original parameters get R2 = 0.672490431278438\n",
    "#x = df[[\"Kilometers_Driven\", \"Age\", \"Engine\", \"Seats\", \"Power\"]].values \n",
    "#have to include Brand and encoded them arggghhh\n"
   ]
  },
  {
   "cell_type": "code",
   "execution_count": 118,
   "metadata": {},
   "outputs": [
    {
     "data": {
      "text/plain": [
       "LinearRegression()"
      ]
     },
     "execution_count": 118,
     "metadata": {},
     "output_type": "execute_result"
    }
   ],
   "source": [
    "x2 = df[[\"Mileage\", \"Age\", \"Engine\", \"Seats\", \"Power\"]].values #have to include Brand and encoded them arggghhh\n",
    "#Engine,Power, how old the car his, Mileage,Fuel type,location,Transmission effect the price.\n",
    "#fuel type, transmission, brand have to be encoded\n",
    "y2 = df[\"Price\"].values\n",
    "\n",
    "train_indices = int(0.7 * df.shape[0])\n",
    "x2_train, x2_val, y2_train, y2_val = (\n",
    "        x2[:train_indices],\n",
    "        x2[train_indices:],\n",
    "        y2[:train_indices],\n",
    "        y2[train_indices:],\n",
    "    )\n",
    "\n",
    "reg2 = LinearRegression().fit(x2_train, y2_train)\n",
    "reg2"
   ]
  },
  {
   "cell_type": "code",
   "execution_count": 119,
   "metadata": {},
   "outputs": [
    {
     "data": {
      "text/plain": [
       "0.7135232290257346"
      ]
     },
     "execution_count": 119,
     "metadata": {},
     "output_type": "execute_result"
    }
   ],
   "source": [
    "reg2.score(x2_val, y2_val)"
   ]
  },
  {
   "cell_type": "code",
   "execution_count": 120,
   "metadata": {},
   "outputs": [
    {
     "data": {
      "text/plain": [
       "0.6708574183379544"
      ]
     },
     "execution_count": 120,
     "metadata": {},
     "output_type": "execute_result"
    }
   ],
   "source": [
    "reg2.score(x2_train, y2_train)"
   ]
  },
  {
   "cell_type": "code",
   "execution_count": null,
   "metadata": {},
   "outputs": [],
   "source": []
  },
  {
   "cell_type": "code",
   "execution_count": null,
   "metadata": {},
   "outputs": [],
   "source": []
  },
  {
   "cell_type": "code",
   "execution_count": null,
   "metadata": {},
   "outputs": [],
   "source": []
  },
  {
   "cell_type": "code",
   "execution_count": null,
   "metadata": {},
   "outputs": [],
   "source": []
  }
 ],
 "metadata": {
  "kernelspec": {
   "display_name": "Python 3",
   "language": "python",
   "name": "python3"
  },
  "language_info": {
   "codemirror_mode": {
    "name": "ipython",
    "version": 3
   },
   "file_extension": ".py",
   "mimetype": "text/x-python",
   "name": "python",
   "nbconvert_exporter": "python",
   "pygments_lexer": "ipython3",
   "version": "3.8.6"
  }
 },
 "nbformat": 4,
 "nbformat_minor": 4
}
